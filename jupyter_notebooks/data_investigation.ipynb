{
 "cells": [
  {
   "cell_type": "markdown",
   "id": "f00585a3",
   "metadata": {},
   "source": [
    "# **IBM HR Analytics Employee Attrition & Performance**"
   ]
  },
  {
   "cell_type": "markdown",
   "id": "d742e2cb",
   "metadata": {},
   "source": [
    "\n",
    "## Introduction\n",
    "\n",
    "Understanding why employees leave — and how performance trends shape workforce retention — is crucial for building resilient, high-performing teams. This project explores the *IBM HR Analytics Employee Attrition & Performance* dataset to uncover patterns behind employee attrition, performance, and engagement. The goal is not only to identify who is likely to leave, but to reveal *why*, and what actionable strategies might retain talent.\n",
    "\n",
    "By translating raw data into meaningful insights, this analysis aims to support HR decision-making and shape long-term workforce strategy.\n",
    "\n",
    "## Business Case:\n",
    "Employee attrition affects productivity, morale, and costs. The goal is to uncover patterns that explain why employees leave and to recommend retention strategies based on data.\n",
    "\n",
    "\n",
    "## Key Questions to Explore\n",
    "\n",
    "- What personal and professional attributes (e.g., age, education, tenure, income) are linked to higher attrition risk?\n",
    "- Do performance ratings correlate with attrition, satisfaction, or promotion likelihood?\n",
    "- Can we identify early warning signs of voluntary attrition?\n",
    "- How do departmental trends influence turnover, especially in high-performing teams?\n",
    "\n",
    "##  Project Objectives\n",
    "\n",
    "- Perform descriptive and exploratory data analysis (EDA) to profile employee groups\n",
    "- Build visual dashboards to support HR storytelling and data-driven conversations\n",
    "- Apply pattern recognition and machine learning techniques to model attrition risk\n",
    "- Translate findings into recommendations for retention and performance optimization\n"
   ]
  },
  {
   "cell_type": "markdown",
   "id": "0ff46c73",
   "metadata": {},
   "source": [
    "# 3.3 Project Workflow: Approach and Problem-Solving Techniques\n",
    "\n",
    "##  1. Data Collection\n",
    "- Dataset: IBM HR Analytics Employee Attrition (1,470 rows × 35 columns).\n",
    "- Contains numerical and categorical features relevant to employee retention.\n",
    "\n",
    "---\n",
    "##  2. Data Cleaning\n",
    "- Dropped non-informative columns (`EmployeeCount`, `Over18`, `StandardHours`).\n",
    "- Verified no missing values.\n",
    "- Encoded categorical target variable (`Attrition`: Yes=1, No=0).\n",
    "- *Why:* Cleaning ensures quality inputs for modelling; encoding enables algorithms to process categorical data.\n",
    "\n",
    "---\n",
    "##  3. Exploratory Data Analysis (EDA)\n",
    "- Visualised key categorical features using **bar charts** (e.g., JobRole, Department).\n",
    "- Used a **correlation heatmap** to identify relationships and potential multicollinearity.\n",
    "- Created an **Attrition count plot** to reveal class imbalance (~16% employees left).\n",
    "- *Why:* EDA highlights data patterns, outliers, and feature relationships critical for model design.\n",
    "\n",
    "---\n",
    "##  4. Feature Selection\n",
    "- Selected key predictors: `Age`, `JobLevel`, `TotalWorkingYears`, `YearsAtCompany`, `MonthlyIncome`, `JobSatisfaction`.\n",
    "- *Why:* Features chosen based on domain expertise and strong correlations with attrition.\n",
    "\n",
    "---\n",
    "##  5. Modelling\n",
    "Two models were implemented:\n",
    "- **Logistic Regression**\n",
    "  - Strength: Simple, interpretable baseline for binary classification.\n",
    "- **Decision Tree Classifier**\n",
    "  - Strength: Captures non-linear relationships, visualises feature importance.\n",
    "- Evaluation metrics:\n",
    "  - Accuracy, Confusion Matrix, Classification Report (Precision, Recall, F1-score).\n",
    "- *Why:* Multiple models allow comparison of strengths and limitations.\n",
    "\n",
    "---\n",
    "##  6. Reflection and Improvements\n",
    "- Observed class imbalance causing poor minority class (attrition) prediction.\n",
    "- Proposed solutions:\n",
    "  - Use **SMOTE (Synthetic Minority Oversampling Technique)** to rebalance classes.\n",
    "  - Adjust class weights (`class_weight='balanced'`) to address imbalance during training.\n",
    "\n",
    "---\n",
    "##  7. Dashboard (Power BI)\n",
    "The dashboard will visualise:\n",
    "- Attrition rates by department and job role.\n",
    "- Job Satisfaction vs Attrition across departments.\n",
    "- Filters for demographics like Age, Gender, and Marital Status.\n",
    " *Why:* Interactive visuals enable stakeholders to identify trends and focus retention strategies.\n",
    "\n",
    "---\n",
    "###  Summary\n",
    "This approach reflects a typical data analytics lifecycle:\n",
    "1. Collect ➝ Clean ➝ Explore ➝ Model ➝ Evaluate ➝ Improve ➝ Communicate  \n",
    "2. Each step was chosen to handle business problems effectively and ensure actionable insights for decision-making.\n"
   ]
  },
  {
   "cell_type": "markdown",
   "id": "d8447cc2",
   "metadata": {},
   "source": [
    "# Importing libraries required for this project"
   ]
  },
  {
   "cell_type": "code",
   "execution_count": 4,
   "id": "d75808f2",
   "metadata": {},
   "outputs": [
    {
     "name": "stdout",
     "output_type": "stream",
     "text": [
      "Requirement already satisfied: pandas in c:\\users\\shema\\documents\\vscodeproject\\capstonehr\\.venv\\lib\\site-packages (2.3.1)\n",
      "Requirement already satisfied: numpy>=1.26.0 in c:\\users\\shema\\documents\\vscodeproject\\capstonehr\\.venv\\lib\\site-packages (from pandas) (2.3.1)\n",
      "Requirement already satisfied: python-dateutil>=2.8.2 in c:\\users\\shema\\documents\\vscodeproject\\capstonehr\\.venv\\lib\\site-packages (from pandas) (2.9.0.post0)\n",
      "Requirement already satisfied: pytz>=2020.1 in c:\\users\\shema\\documents\\vscodeproject\\capstonehr\\.venv\\lib\\site-packages (from pandas) (2025.2)\n",
      "Requirement already satisfied: tzdata>=2022.7 in c:\\users\\shema\\documents\\vscodeproject\\capstonehr\\.venv\\lib\\site-packages (from pandas) (2025.2)\n",
      "Requirement already satisfied: six>=1.5 in c:\\users\\shema\\documents\\vscodeproject\\capstonehr\\.venv\\lib\\site-packages (from python-dateutil>=2.8.2->pandas) (1.17.0)\n",
      "Note: you may need to restart the kernel to use updated packages.\n",
      "Requirement already satisfied: numpy in c:\\users\\shema\\documents\\vscodeproject\\capstonehr\\.venv\\lib\\site-packages (2.3.1)\n",
      "Note: you may need to restart the kernel to use updated packages.\n",
      "Requirement already satisfied: matplotlib in c:\\users\\shema\\documents\\vscodeproject\\capstonehr\\.venv\\lib\\site-packages (3.10.3)\n",
      "Requirement already satisfied: contourpy>=1.0.1 in c:\\users\\shema\\documents\\vscodeproject\\capstonehr\\.venv\\lib\\site-packages (from matplotlib) (1.3.2)\n",
      "Requirement already satisfied: cycler>=0.10 in c:\\users\\shema\\documents\\vscodeproject\\capstonehr\\.venv\\lib\\site-packages (from matplotlib) (0.12.1)\n",
      "Requirement already satisfied: fonttools>=4.22.0 in c:\\users\\shema\\documents\\vscodeproject\\capstonehr\\.venv\\lib\\site-packages (from matplotlib) (4.59.0)\n",
      "Requirement already satisfied: kiwisolver>=1.3.1 in c:\\users\\shema\\documents\\vscodeproject\\capstonehr\\.venv\\lib\\site-packages (from matplotlib) (1.4.8)\n",
      "Requirement already satisfied: numpy>=1.23 in c:\\users\\shema\\documents\\vscodeproject\\capstonehr\\.venv\\lib\\site-packages (from matplotlib) (2.3.1)\n",
      "Requirement already satisfied: packaging>=20.0 in c:\\users\\shema\\documents\\vscodeproject\\capstonehr\\.venv\\lib\\site-packages (from matplotlib) (25.0)\n",
      "Requirement already satisfied: pillow>=8 in c:\\users\\shema\\documents\\vscodeproject\\capstonehr\\.venv\\lib\\site-packages (from matplotlib) (11.3.0)\n",
      "Requirement already satisfied: pyparsing>=2.3.1 in c:\\users\\shema\\documents\\vscodeproject\\capstonehr\\.venv\\lib\\site-packages (from matplotlib) (3.2.3)\n",
      "Requirement already satisfied: python-dateutil>=2.7 in c:\\users\\shema\\documents\\vscodeproject\\capstonehr\\.venv\\lib\\site-packages (from matplotlib) (2.9.0.post0)\n",
      "Requirement already satisfied: six>=1.5 in c:\\users\\shema\\documents\\vscodeproject\\capstonehr\\.venv\\lib\\site-packages (from python-dateutil>=2.7->matplotlib) (1.17.0)\n",
      "Note: you may need to restart the kernel to use updated packages.\n",
      "Requirement already satisfied: seaborn in c:\\users\\shema\\documents\\vscodeproject\\capstonehr\\.venv\\lib\\site-packages (0.13.2)\n",
      "Requirement already satisfied: numpy!=1.24.0,>=1.20 in c:\\users\\shema\\documents\\vscodeproject\\capstonehr\\.venv\\lib\\site-packages (from seaborn) (2.3.1)\n",
      "Requirement already satisfied: pandas>=1.2 in c:\\users\\shema\\documents\\vscodeproject\\capstonehr\\.venv\\lib\\site-packages (from seaborn) (2.3.1)\n",
      "Requirement already satisfied: matplotlib!=3.6.1,>=3.4 in c:\\users\\shema\\documents\\vscodeproject\\capstonehr\\.venv\\lib\\site-packages (from seaborn) (3.10.3)\n",
      "Requirement already satisfied: contourpy>=1.0.1 in c:\\users\\shema\\documents\\vscodeproject\\capstonehr\\.venv\\lib\\site-packages (from matplotlib!=3.6.1,>=3.4->seaborn) (1.3.2)\n",
      "Requirement already satisfied: cycler>=0.10 in c:\\users\\shema\\documents\\vscodeproject\\capstonehr\\.venv\\lib\\site-packages (from matplotlib!=3.6.1,>=3.4->seaborn) (0.12.1)\n",
      "Requirement already satisfied: fonttools>=4.22.0 in c:\\users\\shema\\documents\\vscodeproject\\capstonehr\\.venv\\lib\\site-packages (from matplotlib!=3.6.1,>=3.4->seaborn) (4.59.0)\n",
      "Requirement already satisfied: kiwisolver>=1.3.1 in c:\\users\\shema\\documents\\vscodeproject\\capstonehr\\.venv\\lib\\site-packages (from matplotlib!=3.6.1,>=3.4->seaborn) (1.4.8)\n",
      "Requirement already satisfied: packaging>=20.0 in c:\\users\\shema\\documents\\vscodeproject\\capstonehr\\.venv\\lib\\site-packages (from matplotlib!=3.6.1,>=3.4->seaborn) (25.0)\n",
      "Requirement already satisfied: pillow>=8 in c:\\users\\shema\\documents\\vscodeproject\\capstonehr\\.venv\\lib\\site-packages (from matplotlib!=3.6.1,>=3.4->seaborn) (11.3.0)\n",
      "Requirement already satisfied: pyparsing>=2.3.1 in c:\\users\\shema\\documents\\vscodeproject\\capstonehr\\.venv\\lib\\site-packages (from matplotlib!=3.6.1,>=3.4->seaborn) (3.2.3)\n",
      "Requirement already satisfied: python-dateutil>=2.7 in c:\\users\\shema\\documents\\vscodeproject\\capstonehr\\.venv\\lib\\site-packages (from matplotlib!=3.6.1,>=3.4->seaborn) (2.9.0.post0)\n",
      "Requirement already satisfied: pytz>=2020.1 in c:\\users\\shema\\documents\\vscodeproject\\capstonehr\\.venv\\lib\\site-packages (from pandas>=1.2->seaborn) (2025.2)\n",
      "Requirement already satisfied: tzdata>=2022.7 in c:\\users\\shema\\documents\\vscodeproject\\capstonehr\\.venv\\lib\\site-packages (from pandas>=1.2->seaborn) (2025.2)\n",
      "Requirement already satisfied: six>=1.5 in c:\\users\\shema\\documents\\vscodeproject\\capstonehr\\.venv\\lib\\site-packages (from python-dateutil>=2.7->matplotlib!=3.6.1,>=3.4->seaborn) (1.17.0)\n",
      "Note: you may need to restart the kernel to use updated packages.\n"
     ]
    }
   ],
   "source": [
    "#We will use Pandas for data manipulation, NumPy for numerical operations, and Matplotlib & Seaborn for visualisation\n",
    "%pip install pandas\n",
    "%pip install numpy\n",
    "%pip install matplotlib\n",
    "%pip install seaborn"
   ]
  },
  {
   "cell_type": "markdown",
   "id": "f3f48c02",
   "metadata": {},
   "source": [
    "# Loading & Inspecting the Dataset"
   ]
  },
  {
   "cell_type": "code",
   "execution_count": 5,
   "id": "646cd6db",
   "metadata": {},
   "outputs": [
    {
     "data": {
      "text/html": [
       "<div>\n",
       "<style scoped>\n",
       "    .dataframe tbody tr th:only-of-type {\n",
       "        vertical-align: middle;\n",
       "    }\n",
       "\n",
       "    .dataframe tbody tr th {\n",
       "        vertical-align: top;\n",
       "    }\n",
       "\n",
       "    .dataframe thead th {\n",
       "        text-align: right;\n",
       "    }\n",
       "</style>\n",
       "<table border=\"1\" class=\"dataframe\">\n",
       "  <thead>\n",
       "    <tr style=\"text-align: right;\">\n",
       "      <th></th>\n",
       "      <th>Age</th>\n",
       "      <th>Attrition</th>\n",
       "      <th>BusinessTravel</th>\n",
       "      <th>DailyRate</th>\n",
       "      <th>Department</th>\n",
       "      <th>DistanceFromHome</th>\n",
       "      <th>Education</th>\n",
       "      <th>EducationField</th>\n",
       "      <th>EmployeeCount</th>\n",
       "      <th>EmployeeNumber</th>\n",
       "      <th>...</th>\n",
       "      <th>RelationshipSatisfaction</th>\n",
       "      <th>StandardHours</th>\n",
       "      <th>StockOptionLevel</th>\n",
       "      <th>TotalWorkingYears</th>\n",
       "      <th>TrainingTimesLastYear</th>\n",
       "      <th>WorkLifeBalance</th>\n",
       "      <th>YearsAtCompany</th>\n",
       "      <th>YearsInCurrentRole</th>\n",
       "      <th>YearsSinceLastPromotion</th>\n",
       "      <th>YearsWithCurrManager</th>\n",
       "    </tr>\n",
       "  </thead>\n",
       "  <tbody>\n",
       "    <tr>\n",
       "      <th>0</th>\n",
       "      <td>41</td>\n",
       "      <td>Yes</td>\n",
       "      <td>Travel_Rarely</td>\n",
       "      <td>1102</td>\n",
       "      <td>Sales</td>\n",
       "      <td>1</td>\n",
       "      <td>2</td>\n",
       "      <td>Life Sciences</td>\n",
       "      <td>1</td>\n",
       "      <td>1</td>\n",
       "      <td>...</td>\n",
       "      <td>1</td>\n",
       "      <td>80</td>\n",
       "      <td>0</td>\n",
       "      <td>8</td>\n",
       "      <td>0</td>\n",
       "      <td>1</td>\n",
       "      <td>6</td>\n",
       "      <td>4</td>\n",
       "      <td>0</td>\n",
       "      <td>5</td>\n",
       "    </tr>\n",
       "    <tr>\n",
       "      <th>1</th>\n",
       "      <td>49</td>\n",
       "      <td>No</td>\n",
       "      <td>Travel_Frequently</td>\n",
       "      <td>279</td>\n",
       "      <td>Research &amp; Development</td>\n",
       "      <td>8</td>\n",
       "      <td>1</td>\n",
       "      <td>Life Sciences</td>\n",
       "      <td>1</td>\n",
       "      <td>2</td>\n",
       "      <td>...</td>\n",
       "      <td>4</td>\n",
       "      <td>80</td>\n",
       "      <td>1</td>\n",
       "      <td>10</td>\n",
       "      <td>3</td>\n",
       "      <td>3</td>\n",
       "      <td>10</td>\n",
       "      <td>7</td>\n",
       "      <td>1</td>\n",
       "      <td>7</td>\n",
       "    </tr>\n",
       "    <tr>\n",
       "      <th>2</th>\n",
       "      <td>37</td>\n",
       "      <td>Yes</td>\n",
       "      <td>Travel_Rarely</td>\n",
       "      <td>1373</td>\n",
       "      <td>Research &amp; Development</td>\n",
       "      <td>2</td>\n",
       "      <td>2</td>\n",
       "      <td>Other</td>\n",
       "      <td>1</td>\n",
       "      <td>4</td>\n",
       "      <td>...</td>\n",
       "      <td>2</td>\n",
       "      <td>80</td>\n",
       "      <td>0</td>\n",
       "      <td>7</td>\n",
       "      <td>3</td>\n",
       "      <td>3</td>\n",
       "      <td>0</td>\n",
       "      <td>0</td>\n",
       "      <td>0</td>\n",
       "      <td>0</td>\n",
       "    </tr>\n",
       "    <tr>\n",
       "      <th>3</th>\n",
       "      <td>33</td>\n",
       "      <td>No</td>\n",
       "      <td>Travel_Frequently</td>\n",
       "      <td>1392</td>\n",
       "      <td>Research &amp; Development</td>\n",
       "      <td>3</td>\n",
       "      <td>4</td>\n",
       "      <td>Life Sciences</td>\n",
       "      <td>1</td>\n",
       "      <td>5</td>\n",
       "      <td>...</td>\n",
       "      <td>3</td>\n",
       "      <td>80</td>\n",
       "      <td>0</td>\n",
       "      <td>8</td>\n",
       "      <td>3</td>\n",
       "      <td>3</td>\n",
       "      <td>8</td>\n",
       "      <td>7</td>\n",
       "      <td>3</td>\n",
       "      <td>0</td>\n",
       "    </tr>\n",
       "    <tr>\n",
       "      <th>4</th>\n",
       "      <td>27</td>\n",
       "      <td>No</td>\n",
       "      <td>Travel_Rarely</td>\n",
       "      <td>591</td>\n",
       "      <td>Research &amp; Development</td>\n",
       "      <td>2</td>\n",
       "      <td>1</td>\n",
       "      <td>Medical</td>\n",
       "      <td>1</td>\n",
       "      <td>7</td>\n",
       "      <td>...</td>\n",
       "      <td>4</td>\n",
       "      <td>80</td>\n",
       "      <td>1</td>\n",
       "      <td>6</td>\n",
       "      <td>3</td>\n",
       "      <td>3</td>\n",
       "      <td>2</td>\n",
       "      <td>2</td>\n",
       "      <td>2</td>\n",
       "      <td>2</td>\n",
       "    </tr>\n",
       "  </tbody>\n",
       "</table>\n",
       "<p>5 rows × 35 columns</p>\n",
       "</div>"
      ],
      "text/plain": [
       "   Age Attrition     BusinessTravel  DailyRate              Department  \\\n",
       "0   41       Yes      Travel_Rarely       1102                   Sales   \n",
       "1   49        No  Travel_Frequently        279  Research & Development   \n",
       "2   37       Yes      Travel_Rarely       1373  Research & Development   \n",
       "3   33        No  Travel_Frequently       1392  Research & Development   \n",
       "4   27        No      Travel_Rarely        591  Research & Development   \n",
       "\n",
       "   DistanceFromHome  Education EducationField  EmployeeCount  EmployeeNumber  \\\n",
       "0                 1          2  Life Sciences              1               1   \n",
       "1                 8          1  Life Sciences              1               2   \n",
       "2                 2          2          Other              1               4   \n",
       "3                 3          4  Life Sciences              1               5   \n",
       "4                 2          1        Medical              1               7   \n",
       "\n",
       "   ...  RelationshipSatisfaction StandardHours  StockOptionLevel  \\\n",
       "0  ...                         1            80                 0   \n",
       "1  ...                         4            80                 1   \n",
       "2  ...                         2            80                 0   \n",
       "3  ...                         3            80                 0   \n",
       "4  ...                         4            80                 1   \n",
       "\n",
       "   TotalWorkingYears  TrainingTimesLastYear WorkLifeBalance  YearsAtCompany  \\\n",
       "0                  8                      0               1               6   \n",
       "1                 10                      3               3              10   \n",
       "2                  7                      3               3               0   \n",
       "3                  8                      3               3               8   \n",
       "4                  6                      3               3               2   \n",
       "\n",
       "  YearsInCurrentRole  YearsSinceLastPromotion  YearsWithCurrManager  \n",
       "0                  4                        0                     5  \n",
       "1                  7                        1                     7  \n",
       "2                  0                        0                     0  \n",
       "3                  7                        3                     0  \n",
       "4                  2                        2                     2  \n",
       "\n",
       "[5 rows x 35 columns]"
      ]
     },
     "execution_count": 5,
     "metadata": {},
     "output_type": "execute_result"
    }
   ],
   "source": [
    "import pandas as pd\n",
    "\n",
    "# Note: This dataset is part of the IBM HR Analytics series and is being used for workforce planning and predictive modeling.\n",
    "# Load the dataset\n",
    "\n",
    "import tkinter as tk\n",
    "from tkinter import filedialog\n",
    "\n",
    "root = tk.Tk()\n",
    "root.withdraw()\n",
    "file_path = filedialog.askopenfilename(title=\"Select the HR Employee Attrition CSV file\")\n",
    "df = pd.read_csv(file_path)\n",
    "df\n",
    "\n",
    "# Display the first few rows of the dataset\n",
    "df.head()"
   ]
  },
  {
   "cell_type": "code",
   "execution_count": 6,
   "id": "1e697c29",
   "metadata": {},
   "outputs": [
    {
     "data": {
      "text/html": [
       "<div>\n",
       "<style scoped>\n",
       "    .dataframe tbody tr th:only-of-type {\n",
       "        vertical-align: middle;\n",
       "    }\n",
       "\n",
       "    .dataframe tbody tr th {\n",
       "        vertical-align: top;\n",
       "    }\n",
       "\n",
       "    .dataframe thead th {\n",
       "        text-align: right;\n",
       "    }\n",
       "</style>\n",
       "<table border=\"1\" class=\"dataframe\">\n",
       "  <thead>\n",
       "    <tr style=\"text-align: right;\">\n",
       "      <th></th>\n",
       "      <th>Age</th>\n",
       "      <th>DailyRate</th>\n",
       "      <th>DistanceFromHome</th>\n",
       "      <th>Education</th>\n",
       "      <th>EmployeeCount</th>\n",
       "      <th>EmployeeNumber</th>\n",
       "      <th>EnvironmentSatisfaction</th>\n",
       "      <th>HourlyRate</th>\n",
       "      <th>JobInvolvement</th>\n",
       "      <th>JobLevel</th>\n",
       "      <th>...</th>\n",
       "      <th>RelationshipSatisfaction</th>\n",
       "      <th>StandardHours</th>\n",
       "      <th>StockOptionLevel</th>\n",
       "      <th>TotalWorkingYears</th>\n",
       "      <th>TrainingTimesLastYear</th>\n",
       "      <th>WorkLifeBalance</th>\n",
       "      <th>YearsAtCompany</th>\n",
       "      <th>YearsInCurrentRole</th>\n",
       "      <th>YearsSinceLastPromotion</th>\n",
       "      <th>YearsWithCurrManager</th>\n",
       "    </tr>\n",
       "  </thead>\n",
       "  <tbody>\n",
       "    <tr>\n",
       "      <th>count</th>\n",
       "      <td>1470.000000</td>\n",
       "      <td>1470.000000</td>\n",
       "      <td>1470.000000</td>\n",
       "      <td>1470.000000</td>\n",
       "      <td>1470.0</td>\n",
       "      <td>1470.000000</td>\n",
       "      <td>1470.000000</td>\n",
       "      <td>1470.000000</td>\n",
       "      <td>1470.000000</td>\n",
       "      <td>1470.000000</td>\n",
       "      <td>...</td>\n",
       "      <td>1470.000000</td>\n",
       "      <td>1470.0</td>\n",
       "      <td>1470.000000</td>\n",
       "      <td>1470.000000</td>\n",
       "      <td>1470.000000</td>\n",
       "      <td>1470.000000</td>\n",
       "      <td>1470.000000</td>\n",
       "      <td>1470.000000</td>\n",
       "      <td>1470.000000</td>\n",
       "      <td>1470.000000</td>\n",
       "    </tr>\n",
       "    <tr>\n",
       "      <th>mean</th>\n",
       "      <td>36.923810</td>\n",
       "      <td>802.485714</td>\n",
       "      <td>9.192517</td>\n",
       "      <td>2.912925</td>\n",
       "      <td>1.0</td>\n",
       "      <td>1024.865306</td>\n",
       "      <td>2.721769</td>\n",
       "      <td>65.891156</td>\n",
       "      <td>2.729932</td>\n",
       "      <td>2.063946</td>\n",
       "      <td>...</td>\n",
       "      <td>2.712245</td>\n",
       "      <td>80.0</td>\n",
       "      <td>0.793878</td>\n",
       "      <td>11.279592</td>\n",
       "      <td>2.799320</td>\n",
       "      <td>2.761224</td>\n",
       "      <td>7.008163</td>\n",
       "      <td>4.229252</td>\n",
       "      <td>2.187755</td>\n",
       "      <td>4.123129</td>\n",
       "    </tr>\n",
       "    <tr>\n",
       "      <th>std</th>\n",
       "      <td>9.135373</td>\n",
       "      <td>403.509100</td>\n",
       "      <td>8.106864</td>\n",
       "      <td>1.024165</td>\n",
       "      <td>0.0</td>\n",
       "      <td>602.024335</td>\n",
       "      <td>1.093082</td>\n",
       "      <td>20.329428</td>\n",
       "      <td>0.711561</td>\n",
       "      <td>1.106940</td>\n",
       "      <td>...</td>\n",
       "      <td>1.081209</td>\n",
       "      <td>0.0</td>\n",
       "      <td>0.852077</td>\n",
       "      <td>7.780782</td>\n",
       "      <td>1.289271</td>\n",
       "      <td>0.706476</td>\n",
       "      <td>6.126525</td>\n",
       "      <td>3.623137</td>\n",
       "      <td>3.222430</td>\n",
       "      <td>3.568136</td>\n",
       "    </tr>\n",
       "    <tr>\n",
       "      <th>min</th>\n",
       "      <td>18.000000</td>\n",
       "      <td>102.000000</td>\n",
       "      <td>1.000000</td>\n",
       "      <td>1.000000</td>\n",
       "      <td>1.0</td>\n",
       "      <td>1.000000</td>\n",
       "      <td>1.000000</td>\n",
       "      <td>30.000000</td>\n",
       "      <td>1.000000</td>\n",
       "      <td>1.000000</td>\n",
       "      <td>...</td>\n",
       "      <td>1.000000</td>\n",
       "      <td>80.0</td>\n",
       "      <td>0.000000</td>\n",
       "      <td>0.000000</td>\n",
       "      <td>0.000000</td>\n",
       "      <td>1.000000</td>\n",
       "      <td>0.000000</td>\n",
       "      <td>0.000000</td>\n",
       "      <td>0.000000</td>\n",
       "      <td>0.000000</td>\n",
       "    </tr>\n",
       "    <tr>\n",
       "      <th>25%</th>\n",
       "      <td>30.000000</td>\n",
       "      <td>465.000000</td>\n",
       "      <td>2.000000</td>\n",
       "      <td>2.000000</td>\n",
       "      <td>1.0</td>\n",
       "      <td>491.250000</td>\n",
       "      <td>2.000000</td>\n",
       "      <td>48.000000</td>\n",
       "      <td>2.000000</td>\n",
       "      <td>1.000000</td>\n",
       "      <td>...</td>\n",
       "      <td>2.000000</td>\n",
       "      <td>80.0</td>\n",
       "      <td>0.000000</td>\n",
       "      <td>6.000000</td>\n",
       "      <td>2.000000</td>\n",
       "      <td>2.000000</td>\n",
       "      <td>3.000000</td>\n",
       "      <td>2.000000</td>\n",
       "      <td>0.000000</td>\n",
       "      <td>2.000000</td>\n",
       "    </tr>\n",
       "    <tr>\n",
       "      <th>50%</th>\n",
       "      <td>36.000000</td>\n",
       "      <td>802.000000</td>\n",
       "      <td>7.000000</td>\n",
       "      <td>3.000000</td>\n",
       "      <td>1.0</td>\n",
       "      <td>1020.500000</td>\n",
       "      <td>3.000000</td>\n",
       "      <td>66.000000</td>\n",
       "      <td>3.000000</td>\n",
       "      <td>2.000000</td>\n",
       "      <td>...</td>\n",
       "      <td>3.000000</td>\n",
       "      <td>80.0</td>\n",
       "      <td>1.000000</td>\n",
       "      <td>10.000000</td>\n",
       "      <td>3.000000</td>\n",
       "      <td>3.000000</td>\n",
       "      <td>5.000000</td>\n",
       "      <td>3.000000</td>\n",
       "      <td>1.000000</td>\n",
       "      <td>3.000000</td>\n",
       "    </tr>\n",
       "    <tr>\n",
       "      <th>75%</th>\n",
       "      <td>43.000000</td>\n",
       "      <td>1157.000000</td>\n",
       "      <td>14.000000</td>\n",
       "      <td>4.000000</td>\n",
       "      <td>1.0</td>\n",
       "      <td>1555.750000</td>\n",
       "      <td>4.000000</td>\n",
       "      <td>83.750000</td>\n",
       "      <td>3.000000</td>\n",
       "      <td>3.000000</td>\n",
       "      <td>...</td>\n",
       "      <td>4.000000</td>\n",
       "      <td>80.0</td>\n",
       "      <td>1.000000</td>\n",
       "      <td>15.000000</td>\n",
       "      <td>3.000000</td>\n",
       "      <td>3.000000</td>\n",
       "      <td>9.000000</td>\n",
       "      <td>7.000000</td>\n",
       "      <td>3.000000</td>\n",
       "      <td>7.000000</td>\n",
       "    </tr>\n",
       "    <tr>\n",
       "      <th>max</th>\n",
       "      <td>60.000000</td>\n",
       "      <td>1499.000000</td>\n",
       "      <td>29.000000</td>\n",
       "      <td>5.000000</td>\n",
       "      <td>1.0</td>\n",
       "      <td>2068.000000</td>\n",
       "      <td>4.000000</td>\n",
       "      <td>100.000000</td>\n",
       "      <td>4.000000</td>\n",
       "      <td>5.000000</td>\n",
       "      <td>...</td>\n",
       "      <td>4.000000</td>\n",
       "      <td>80.0</td>\n",
       "      <td>3.000000</td>\n",
       "      <td>40.000000</td>\n",
       "      <td>6.000000</td>\n",
       "      <td>4.000000</td>\n",
       "      <td>40.000000</td>\n",
       "      <td>18.000000</td>\n",
       "      <td>15.000000</td>\n",
       "      <td>17.000000</td>\n",
       "    </tr>\n",
       "  </tbody>\n",
       "</table>\n",
       "<p>8 rows × 26 columns</p>\n",
       "</div>"
      ],
      "text/plain": [
       "               Age    DailyRate  DistanceFromHome    Education  EmployeeCount  \\\n",
       "count  1470.000000  1470.000000       1470.000000  1470.000000         1470.0   \n",
       "mean     36.923810   802.485714          9.192517     2.912925            1.0   \n",
       "std       9.135373   403.509100          8.106864     1.024165            0.0   \n",
       "min      18.000000   102.000000          1.000000     1.000000            1.0   \n",
       "25%      30.000000   465.000000          2.000000     2.000000            1.0   \n",
       "50%      36.000000   802.000000          7.000000     3.000000            1.0   \n",
       "75%      43.000000  1157.000000         14.000000     4.000000            1.0   \n",
       "max      60.000000  1499.000000         29.000000     5.000000            1.0   \n",
       "\n",
       "       EmployeeNumber  EnvironmentSatisfaction   HourlyRate  JobInvolvement  \\\n",
       "count     1470.000000              1470.000000  1470.000000     1470.000000   \n",
       "mean      1024.865306                 2.721769    65.891156        2.729932   \n",
       "std        602.024335                 1.093082    20.329428        0.711561   \n",
       "min          1.000000                 1.000000    30.000000        1.000000   \n",
       "25%        491.250000                 2.000000    48.000000        2.000000   \n",
       "50%       1020.500000                 3.000000    66.000000        3.000000   \n",
       "75%       1555.750000                 4.000000    83.750000        3.000000   \n",
       "max       2068.000000                 4.000000   100.000000        4.000000   \n",
       "\n",
       "          JobLevel  ...  RelationshipSatisfaction  StandardHours  \\\n",
       "count  1470.000000  ...               1470.000000         1470.0   \n",
       "mean      2.063946  ...                  2.712245           80.0   \n",
       "std       1.106940  ...                  1.081209            0.0   \n",
       "min       1.000000  ...                  1.000000           80.0   \n",
       "25%       1.000000  ...                  2.000000           80.0   \n",
       "50%       2.000000  ...                  3.000000           80.0   \n",
       "75%       3.000000  ...                  4.000000           80.0   \n",
       "max       5.000000  ...                  4.000000           80.0   \n",
       "\n",
       "       StockOptionLevel  TotalWorkingYears  TrainingTimesLastYear  \\\n",
       "count       1470.000000        1470.000000            1470.000000   \n",
       "mean           0.793878          11.279592               2.799320   \n",
       "std            0.852077           7.780782               1.289271   \n",
       "min            0.000000           0.000000               0.000000   \n",
       "25%            0.000000           6.000000               2.000000   \n",
       "50%            1.000000          10.000000               3.000000   \n",
       "75%            1.000000          15.000000               3.000000   \n",
       "max            3.000000          40.000000               6.000000   \n",
       "\n",
       "       WorkLifeBalance  YearsAtCompany  YearsInCurrentRole  \\\n",
       "count      1470.000000     1470.000000         1470.000000   \n",
       "mean          2.761224        7.008163            4.229252   \n",
       "std           0.706476        6.126525            3.623137   \n",
       "min           1.000000        0.000000            0.000000   \n",
       "25%           2.000000        3.000000            2.000000   \n",
       "50%           3.000000        5.000000            3.000000   \n",
       "75%           3.000000        9.000000            7.000000   \n",
       "max           4.000000       40.000000           18.000000   \n",
       "\n",
       "       YearsSinceLastPromotion  YearsWithCurrManager  \n",
       "count              1470.000000           1470.000000  \n",
       "mean                  2.187755              4.123129  \n",
       "std                   3.222430              3.568136  \n",
       "min                   0.000000              0.000000  \n",
       "25%                   0.000000              2.000000  \n",
       "50%                   1.000000              3.000000  \n",
       "75%                   3.000000              7.000000  \n",
       "max                  15.000000             17.000000  \n",
       "\n",
       "[8 rows x 26 columns]"
      ]
     },
     "execution_count": 6,
     "metadata": {},
     "output_type": "execute_result"
    }
   ],
   "source": [
    "# Display basic statistics of the dataset\n",
    "df.describe()\n"
   ]
  },
  {
   "cell_type": "markdown",
   "id": "b809fd15",
   "metadata": {},
   "source": [
    "#  Core Statistical Concepts in Data Analysis\n",
    "1.1\n",
    "\n",
    "Data analysis is built on fundamental statistical concepts. These principles help us summarize datasets, understand variability, test assumptions, and make predictions. As you can see in the basic statistics of the dataset above we have - Central tendency (mean), \n",
    "Variability (std), Range (min to max),\n",
    "And distribution shape (via percentiles like 25%, 50%, and 75%).\n",
    "\n",
    "Below, we explain key concepts and why they are critical.\n",
    "\n",
    "---\n",
    "\n",
    "## Mean, Median, and Standard Deviation\n",
    "\n",
    "- **Mean (Average):**\n",
    "  The sum of all values divided by the number of values. Represents the \"center\" of the data.\n",
    "  \n",
    "   *Strength:* Simple and widely used.  \n",
    "   *Weakness:* Sensitive to outliers.\n",
    "\n",
    "- **Median:**\n",
    "  The middle value when data is sorted. More robust than the mean for skewed data.\n",
    "  \n",
    "   *Strength:* Resistant to extreme values.\n",
    "\n",
    "- **Standard Deviation (SD):**\n",
    "  Measures how spread out the data is around the mean. A small SD = data points are close to the mean.\n",
    "  \n",
    "  A large SD = high variability.\n",
    "\n",
    "---\n",
    "\n",
    "## Hypothesis Testing\n",
    "\n",
    "Hypothesis testing helps assess whether observed patterns are due to chance.\n",
    "\n",
    "- **Null Hypothesis (H₀):** Assumes no effect or difference.\n",
    "- **Alternative Hypothesis (H₁):** Assumes a significant effect or difference exists.\n",
    "- **p-value:** Probability of obtaining results as extreme as observed if H₀ is true.\n",
    "- **Significance Level (α):** Commonly set at 0.05. If p-value < α, reject H₀.\n",
    "\n",
    " *Why is it Important?* It allows analysts to make data-driven decisions with confidence.\n",
    "\n",
    "---\n",
    "\n",
    "##  Basic Probability\n",
    "\n",
    "Probability measures how likely an event is to occur (0 = impossible, 1 = certain).\n",
    "\n",
    "- **Independent Events:** One event does not affect another.\n",
    "- **Conditional Probability:** Probability of event A given that B has occurred.\n",
    "\n",
    " *Application in Data Analysis:* Underpins predictive models, simulations, and risk assessments.\n",
    "\n",
    "---\n",
    "\n",
    "##  Summary Table\n",
    "\n",
    "| Concept              | Role in Data Analysis                                    |\n",
    "|----------------------|----------------------------------------------------------|\n",
    "| Mean & Median        | Summarize central trends in data.                        |\n",
    "| Standard Deviation   | Quantify variability and identify outliers.              |\n",
    "| Hypothesis Testing   | Validate assumptions and guide data-driven decisions.    |\n",
    "| Probability          | Foundation for modeling, forecasting, and simulations.   |\n"
   ]
  },
  {
   "cell_type": "markdown",
   "id": "7adafd64",
   "metadata": {},
   "source": [
    "## **Dataset Overview and Other Quick Observations**\n",
    "\n",
    "Target variable for attrition prediction: Attrition\n",
    "\n",
    "Many variables measure satisfaction or involvement (e.g., JobSatisfaction, EnvironmentSatisfaction, RelationshipSatisfaction).\n",
    "\n",
    "Some columns like EmployeeCount and StandardHours may not vary (likely constants).\n",
    "\n",
    "Shape: 1,470 rows × 35 columns\n",
    "No missing values in any column.\n",
    "Mix of numerical and categorical data."
   ]
  },
  {
   "cell_type": "markdown",
   "id": "729fb10f",
   "metadata": {},
   "source": [
    "| Column Name               | Description                                                | Type        |\n",
    "| ------------------------- | ---------------------------------------------------------- | ----------- |\n",
    "| `Attrition`               | Whether the employee left the company (Yes/No)             | Categorical |\n",
    "| `Age`                     | Employee’s age                                             | Numeric     |\n",
    "| `BusinessTravel`          | Frequency of business travel                               | Categorical |\n",
    "| `Department`              | Department name (e.g., Sales, R\\&D, HR)                    | Categorical |\n",
    "| `DistanceFromHome`        | Distance from home to work                                 | Numeric     |\n",
    "| `Education`               | Education level (1–5 scale)                                | Numeric     |\n",
    "| `EducationField`          | Field of education (Life Sciences, Medical, etc.)          | Categorical |\n",
    "| `Gender`                  | Male or Female                                             | Categorical |\n",
    "| `JobRole`                 | Job role/title (e.g., Sales Executive, Research Scientist) | Categorical |\n",
    "| `JobSatisfaction`         | Job satisfaction level (1–4 scale)                         | Numeric     |\n",
    "| `MaritalStatus`           | Marital status (Single, Married, Divorced)                 | Categorical |\n",
    "| `MonthlyIncome`           | Monthly salary                                             | Numeric     |\n",
    "| `OverTime`                | Whether the employee works overtime                        | Categorical |\n",
    "| `TotalWorkingYears`       | Total years of experience                                  | Numeric     |\n",
    "| `YearsAtCompany`          | Years spent at the current company                         | Numeric     |\n",
    "| `YearsSinceLastPromotion` | Years since the employee was last promoted                 | Numeric     |\n",
    "| `WorkLifeBalance`         | Work-life balance rating (1–4 scale)                       | Numeric     |\n"
   ]
  },
  {
   "cell_type": "markdown",
   "id": "1777bca4",
   "metadata": {},
   "source": [
    " ## Data Preparation and Visualization\n",
    "2.1\n",
    "\n",
    "In this section, we load the WA_Fn-UseC_-HR-Employee-Attrition.csv dataset into a Pandas DataFrame and apply essential cleaning steps to ensure data quality and consistency.\n",
    "\n",
    "- Handle missing values and drop duplicate records  \n",
    "- Convert columns to appropriate data types  \n",
    "- Engineer derived features for deeper insight  \n"
   ]
  },
  {
   "cell_type": "code",
   "execution_count": null,
   "id": "d9295b7d",
   "metadata": {},
   "outputs": [
    {
     "name": "stdout",
     "output_type": "stream",
     "text": [
      "Missing Values:\n",
      " Age                         0\n",
      "Attrition                   0\n",
      "BusinessTravel              0\n",
      "DailyRate                   0\n",
      "Department                  0\n",
      "DistanceFromHome            0\n",
      "Education                   0\n",
      "EducationField              0\n",
      "EmployeeCount               0\n",
      "EmployeeNumber              0\n",
      "EnvironmentSatisfaction     0\n",
      "Gender                      0\n",
      "HourlyRate                  0\n",
      "JobInvolvement              0\n",
      "JobLevel                    0\n",
      "JobRole                     0\n",
      "JobSatisfaction             0\n",
      "MaritalStatus               0\n",
      "MonthlyIncome               0\n",
      "MonthlyRate                 0\n",
      "NumCompaniesWorked          0\n",
      "Over18                      0\n",
      "OverTime                    0\n",
      "PercentSalaryHike           0\n",
      "PerformanceRating           0\n",
      "RelationshipSatisfaction    0\n",
      "StandardHours               0\n",
      "StockOptionLevel            0\n",
      "TotalWorkingYears           0\n",
      "TrainingTimesLastYear       0\n",
      "WorkLifeBalance             0\n",
      "YearsAtCompany              0\n",
      "YearsInCurrentRole          0\n",
      "YearsSinceLastPromotion     0\n",
      "YearsWithCurrManager        0\n",
      "dtype: int64\n",
      "<class 'pandas.core.frame.DataFrame'>\n",
      "RangeIndex: 1470 entries, 0 to 1469\n",
      "Data columns (total 35 columns):\n",
      " #   Column                    Non-Null Count  Dtype   \n",
      "---  ------                    --------------  -----   \n",
      " 0   Age                       1470 non-null   int64   \n",
      " 1   Attrition                 1470 non-null   category\n",
      " 2   BusinessTravel            1470 non-null   category\n",
      " 3   DailyRate                 1470 non-null   int64   \n",
      " 4   Department                1470 non-null   category\n",
      " 5   DistanceFromHome          1470 non-null   int64   \n",
      " 6   Education                 1470 non-null   int64   \n",
      " 7   EducationField            1470 non-null   category\n",
      " 8   EmployeeCount             1470 non-null   int64   \n",
      " 9   EmployeeNumber            1470 non-null   int64   \n",
      " 10  EnvironmentSatisfaction   1470 non-null   int64   \n",
      " 11  Gender                    1470 non-null   category\n",
      " 12  HourlyRate                1470 non-null   int64   \n",
      " 13  JobInvolvement            1470 non-null   int64   \n",
      " 14  JobLevel                  1470 non-null   int64   \n",
      " 15  JobRole                   1470 non-null   category\n",
      " 16  JobSatisfaction           1470 non-null   int64   \n",
      " 17  MaritalStatus             1470 non-null   category\n",
      " 18  MonthlyIncome             1470 non-null   int64   \n",
      " 19  MonthlyRate               1470 non-null   int64   \n",
      " 20  NumCompaniesWorked        1470 non-null   int64   \n",
      " 21  Over18                    1470 non-null   category\n",
      " 22  OverTime                  1470 non-null   category\n",
      " 23  PercentSalaryHike         1470 non-null   int64   \n",
      " 24  PerformanceRating         1470 non-null   int64   \n",
      " 25  RelationshipSatisfaction  1470 non-null   int64   \n",
      " 26  StandardHours             1470 non-null   int64   \n",
      " 27  StockOptionLevel          1470 non-null   int64   \n",
      " 28  TotalWorkingYears         1470 non-null   int64   \n",
      " 29  TrainingTimesLastYear     1470 non-null   int64   \n",
      " 30  WorkLifeBalance           1470 non-null   int64   \n",
      " 31  YearsAtCompany            1470 non-null   int64   \n",
      " 32  YearsInCurrentRole        1470 non-null   int64   \n",
      " 33  YearsSinceLastPromotion   1470 non-null   int64   \n",
      " 34  YearsWithCurrManager      1470 non-null   int64   \n",
      "dtypes: category(9), int64(26)\n",
      "memory usage: 313.1 KB\n"
     ]
    }
   ],
   "source": [
    "# Check for missing values\n",
    "import numpy as np\n",
    "import pandas as pd \n",
    "\n",
    "missing_values = df.isnull().sum()\n",
    "print(\"Missing Values:\\n\", missing_values)\n",
    "\n",
    "# Fill missing numerical values with median\n",
    "num_cols = df.select_dtypes(include=np.number).columns\n",
    "df[num_cols] = df[num_cols].fillna(df[num_cols].median())\n",
    "\n",
    "# Fill missing categorical values with mode\n",
    "cat_cols = df.select_dtypes(include='object').columns\n",
    "for col in cat_cols:\n",
    "    df[col] = df[col].fillna(df[col].mode()[0])\n",
    "\n",
    "\n",
    "# Drop duplicates\n",
    "df.drop_duplicates(inplace=True)\n",
    "\n",
    "# Convert categorical variables to category dtype\n",
    "for col in cat_cols:\n",
    "    df[col] = df[col].astype('category')\n",
    "\n",
    "# Confirm cleaning\n",
    "df.info()\n"
   ]
  },
  {
   "cell_type": "code",
   "execution_count": 7,
   "id": "d0785117",
   "metadata": {},
   "outputs": [
    {
     "name": "stdout",
     "output_type": "stream",
     "text": [
      "Cleaned dataset saved to 'data/processed/cleaned_employee_data.csv'\n"
     ]
    }
   ],
   "source": [
    "import os\n",
    "\n",
    "# Ensure the new directory exists\n",
    "os.makedirs('data/processed', exist_ok=True)\n",
    "\n",
    "# Save the cleaned dataset to the new path\n",
    "df.to_csv('data/processed/cleaned_employee_data.csv', index=False)\n",
    "\n",
    "print(\"Cleaned dataset saved to 'data/processed/cleaned_employee_data.csv'\")\n"
   ]
  },
  {
   "cell_type": "markdown",
   "id": "747fdd42",
   "metadata": {},
   "source": [
    "**Next, we conduct exploratory analysis using Matplotlib and Seaborn:\n",
    "\n",
    "2.1\n",
    "- Plot histograms to examine numeric variable distributions  \n",
    "- Create bar charts for key categorical features  \n",
    "- Generate a correlation heatmap to uncover relationships "
   ]
  },
  {
   "cell_type": "code",
   "execution_count": null,
   "id": "45e5da46",
   "metadata": {},
   "outputs": [
    {
     "data": {
      "image/png": "[encoded data removed]",
      "text/plain": [
       "<Figure size 1200x800 with 2 Axes>"
      ]
     },
     "metadata": {},
     "output_type": "display_data"
    }
   ],
   "source": [
    "import matplotlib.pyplot as plt\n",
    "import seaborn as sns\n",
    "\n",
    "#Plot heatmap to visualize correlations between numerical features\n",
    "\n",
    "plt.figure(figsize=(12, 8))\n",
    "\n",
    "# Only use numeric columns for correlation\n",
    "\n",
    "corr = df.select_dtypes(include='number').corr()\n",
    "sns.heatmap(corr, annot=True, fmt=\".2f\", cmap=\"coolwarm\")\n",
    "plt.title(\"Correlation Heatmap\")\n",
    "plt.show()\n"
   ]
  },
  {
   "cell_type": "markdown",
   "id": "c8aabf1a",
   "metadata": {},
   "source": [
    "###  What This Shows:\n",
    "This heatmap visualises the **pairwise Pearson correlation coefficients** between all numerical features in the dataset. \n",
    "\n",
    "Each cell shows the strength and direction of the linear relationship between two variables:\n",
    "-  Red = strong positive correlation (+1)\n",
    "-  Blue = strong negative correlation (-1)\n",
    "-  White = no correlation (0)\n",
    "\n",
    "This is useful for identifying multicollinearity (highly correlated predictors), which can impact model performance. For example, **`JobLevel`** and **`TotalWorkingYears`** may show a strong positive correlation, suggesting redundancy.\n",
    "###  Insights from Correlation Heatmap\n",
    "\n",
    "-  **Strong Positive Correlations:**\n",
    "  - `JobLevel` and `MonthlyIncome` (**+0.95**): Higher job levels are associated with higher monthly income, which is expected in organisational structures.\n",
    "  - `TotalWorkingYears` and `MonthlyIncome` (**+0.77**): Employees with more experience tend to earn more.\n",
    "  - `TotalWorkingYears` and `JobLevel` (**+0.78**): Senior employees tend to hold higher job levels.\n",
    "\n",
    "-  **Moderate Positive Correlations:**\n",
    "  - `Age` and `TotalWorkingYears` (**+0.68**): Older employees generally have more work experience.\n",
    "  - `Age` and `MonthlyIncome` (**+0.64**): Older employees tend to have higher salaries.\n",
    "\n",
    "-  **Weak or No Correlations:**\n",
    "  - `DailyRate`, `HourlyRate`, and `MonthlyRate` show very low correlations with other salary-related features. This suggests these rates might not provide much predictive value for attrition.\n",
    "\n",
    "-  **Negligible/Negative Correlations:**\n",
    "  - `PercentSalaryHike` and `MonthlyIncome` (**+0.03**): Salary hikes are not strongly correlated with income levels—indicating hikes may be percentage-based rather than absolute.\n",
    "  - `YearsAtCompany` and `YearsSinceLastPromotion` (**+0.35**): Moderate correlation—employees at a company longer are slightly more likely to have been promoted recently.\n",
    "\n",
    "---\n",
    "\n",
    "###  Key Understanding:\n",
    "There are **strong relationships between job level, total working years, and monthly income**, which may lead to multicollinearity in predictive models. Consider dimensionality reduction or feature selection if building machine learning models.\n",
    "\n",
    "## 3.2)  Reflection on Correlation Heatmap \n",
    "\n",
    "###  Why This Method?\n",
    "A correlation heatmap was chosen to visualise pairwise Pearson correlation coefficients between numerical features:\n",
    "-  Provides an intuitive and concise overview of relationships in a matrix format.\n",
    "-  Highlights strong correlations that may lead to multicollinearity in predictive models (e.g., `JobLevel`, `TotalWorkingYears`, and `MonthlyIncome`).\n",
    "-  Helps prioritise feature selection or engineering decisions early in the analysis.\n",
    "\n",
    "This method is particularly useful in HR analytics where salary, tenure, and seniority are interrelated.\n",
    "\n",
    "---\n",
    "\n",
    "###  Limitations\n",
    "- Correlation heatmaps only show **linear relationships**; non-linear patterns are not detected.\n",
    "- Pearson’s coefficient is sensitive to outliers, which can distort correlation values.\n",
    "- It does not reveal relationships between **numerical and categorical variables**.\n",
    "\n",
    "---\n",
    "\n",
    "###  Alternative Approaches\n",
    "- Using **Spearman’s rank correlation** to capture monotonic (non-linear) relationships.\n",
    "- Visualising relationships with **pair plots** (`sns.pairplot`) to explore scatter patterns and distributions.\n",
    "- Applying **Variance Inflation Factor (VIF)** analysis to quantitatively assess multicollinearity in a regression context.\n",
    "\n",
    "---\n",
    "\n",
    "###  Key Takeaway\n",
    "The heatmap effectively identified key interdependencies between numerical features, guiding further feature engineering and selection. Complementing this with Spearman’s correlation or VIF could enhance robustness in identifying redundant variables for modelling.\n"
   ]
  },
  {
   "cell_type": "code",
   "execution_count": null,
   "id": "d4646432",
   "metadata": {},
   "outputs": [
    {
     "name": "stderr",
     "output_type": "stream",
     "text": [
      "C:\\Users\\shema\\AppData\\Local\\Temp\\ipykernel_23912\\3591264992.py:3: FutureWarning:\n",
      "\n",
      "\n",
      "\n",
      "Passing `palette` without assigning `hue` is deprecated and will be removed in v0.14.0. Assign the `x` variable to `hue` and set `legend=False` for the same effect.\n",
      "\n",
      "\n"
     ]
    },
    {
     "data": {
      "image/png": "[encoded data removed]",
      "text/plain": [
       "<Figure size 640x480 with 1 Axes>"
      ]
     },
     "metadata": {},
     "output_type": "display_data"
    }
   ],
   "source": [
    "#Plot a bar chart of the counts of each unique value in the Attrition column.\n",
    "\n",
    "sns.countplot(data=df, x='Attrition', palette='Set1')\n",
    "plt.title(\"Attrition Count\")\n",
    "plt.show()\n"
   ]
  },
  {
   "cell_type": "markdown",
   "id": "715335c2",
   "metadata": {},
   "source": [
    "###  Insights from Attrition Count Plot\n",
    "\n",
    "-  The bar chart displays the distribution of employees by attrition status (`Yes` = left, `No` = stayed).  \n",
    "-  Majority of employees stayed with the company (**~84% No**) while a smaller portion left (**~16% Yes**).\n",
    "-  This indicates a **class imbalance** in the target variable, which is important to consider when building predictive models (imbalanced classes can bias classifiers toward the majority class).\n",
    "-  Understanding the proportion of attrition helps guide business decisions, such as focusing retention efforts on at-risk employee groups.\n",
    "\n",
    "## 3.2) Reflection on Attrition Count Plot \n",
    "\n",
    "###  Why This Method?\n",
    "A simple bar chart (Seaborn `countplot`) was chosen to visualise the distribution of the target variable `Attrition`:\n",
    "-  Provides a clear overview of how many employees stayed (`No`) versus left (`Yes`).\n",
    "-  Helps quickly identify a **class imbalance**, which is critical for guiding the choice of modelling techniques and evaluation metrics.\n",
    "-  Useful for understanding attrition trends at a high level, which can inform strategic HR decisions about employee retention.\n",
    "\n",
    "This method is particularly effective as a first step in exploring the dataset and assessing the balance of the outcome variable.\n",
    "\n",
    "---\n",
    "\n",
    "###  Limitations\n",
    "- The plot only provides a frequency count and does not show **relationships with other variables** (e.g., how attrition varies by department, age, or job role).\n",
    "- Static visualisation requires manual inspection and does not allow dynamic filtering or drilling down into subgroups.\n",
    "- With only two classes, additional context (percentages, ratios) may enhance interpretability.\n",
    "\n",
    "---\n",
    "\n",
    "###  Alternative Approaches\n",
    "- Using **percentage bar plots** to show proportions rather than absolute counts for a clearer sense of scale.\n",
    "- Creating **stacked or grouped bar charts** to visualise attrition rates within subcategories (e.g., by `JobRole`, `Department`, or `MaritalStatus`).\n",
    "- Developing an **interactive dashboard element** (e.g., Plotly bar chart) to allow users to filter and explore attrition by various dimensions.\n",
    "\n",
    "---\n",
    "\n",
    "###  Key Takeaway\n",
    "The count plot was a simple and effective starting point to assess class balance in the target variable. However, to gain deeper insights into attrition patterns, further analysis with grouped or interactive plots would be beneficial which I have done below.\n"
   ]
  },
  {
   "cell_type": "code",
   "execution_count": null,
   "id": "3fa57ca3",
   "metadata": {},
   "outputs": [
    {
     "name": "stderr",
     "output_type": "stream",
     "text": [
      "C:\\Users\\shema\\AppData\\Local\\Temp\\ipykernel_23912\\1128566692.py:10: FutureWarning:\n",
      "\n",
      "\n",
      "\n",
      "Passing `palette` without assigning `hue` is deprecated and will be removed in v0.14.0. Assign the `x` variable to `hue` and set `legend=False` for the same effect.\n",
      "\n",
      "\n",
      "C:\\Users\\shema\\AppData\\Local\\Temp\\ipykernel_23912\\1128566692.py:10: FutureWarning:\n",
      "\n",
      "\n",
      "\n",
      "Passing `palette` without assigning `hue` is deprecated and will be removed in v0.14.0. Assign the `x` variable to `hue` and set `legend=False` for the same effect.\n",
      "\n",
      "\n",
      "C:\\Users\\shema\\AppData\\Local\\Temp\\ipykernel_23912\\1128566692.py:10: FutureWarning:\n",
      "\n",
      "\n",
      "\n",
      "Passing `palette` without assigning `hue` is deprecated and will be removed in v0.14.0. Assign the `x` variable to `hue` and set `legend=False` for the same effect.\n",
      "\n",
      "\n",
      "C:\\Users\\shema\\AppData\\Local\\Temp\\ipykernel_23912\\1128566692.py:10: FutureWarning:\n",
      "\n",
      "\n",
      "\n",
      "Passing `palette` without assigning `hue` is deprecated and will be removed in v0.14.0. Assign the `x` variable to `hue` and set `legend=False` for the same effect.\n",
      "\n",
      "\n",
      "C:\\Users\\shema\\AppData\\Local\\Temp\\ipykernel_23912\\1128566692.py:10: FutureWarning:\n",
      "\n",
      "\n",
      "\n",
      "Passing `palette` without assigning `hue` is deprecated and will be removed in v0.14.0. Assign the `x` variable to `hue` and set `legend=False` for the same effect.\n",
      "\n",
      "\n"
     ]
    },
    {
     "data": {
      "image/png": "[encoded data removed]",
      "text/plain": [
       "<Figure size 1500x1200 with 5 Axes>"
      ]
     },
     "metadata": {},
     "output_type": "display_data"
    }
   ],
   "source": [
    "\n",
    "# List of key categorical features\n",
    "categorical_features = ['Attrition', 'JobRole', 'Department', 'MaritalStatus', 'EducationField']\n",
    "\n",
    "# Set up the figure\n",
    "plt.figure(figsize=(15, 12))\n",
    "\n",
    "# Loop through features and plot\n",
    "for i, col in enumerate(categorical_features, 1):\n",
    "    plt.subplot(3, 2, i)\n",
    "    sns.countplot(data=df, x=col, palette=\"Set2\", order=df[col].value_counts().index)\n",
    "    plt.title(f'Distribution of {col}')\n",
    "    plt.xticks(rotation=45)\n",
    "\n",
    "plt.tight_layout()\n",
    "plt.show()\n"
   ]
  },
  {
   "cell_type": "markdown",
   "id": "de16b186",
   "metadata": {},
   "source": [
    "###  Insights from Categorical Feature Distributions\n",
    "\n",
    "-  The bar charts display the distribution of employees across key categorical features: `Attrition`, `JobRole`, `Department`, `MaritalStatus`, and `EducationField`.  \n",
    "-  **Attrition:** Majority of employees stayed with the company, with only a small proportion leaving (class imbalance noted earlier).  \n",
    "-  **JobRole:** Certain roles like *Sales Executive* and *Research Scientist* have higher counts, while others such as *Human Resources* are underrepresented.  \n",
    "-  **Department:** Most employees work in *Research & Development*, followed by *Sales*; *Human Resources* has the fewest employees.  \n",
    "-  **MaritalStatus:** A relatively even distribution between *Married* and *Single* employees, with fewer *Divorced*.  \n",
    "-  **EducationField:** *Life Sciences* and *Medical* dominate, with other fields like *Human Resources* and *Technical Degree* being less common.  \n",
    "-  These insights will help identify potential patterns and imbalances within categorical variables, which could influence attrition trends and predictive modelling.\n",
    "\n",
    "## 3.2) Reflection on Categorical Feature Distributions \n",
    "\n",
    "###  Why This Method?\n",
    "Bar charts (Seaborn `countplot`) were chosen to visualise the distribution of key categorical features (`Attrition`, `JobRole`, `Department`, `MaritalStatus`, and `EducationField`):\n",
    "-  They provide a clear and concise view of how employees are distributed across each category.\n",
    "-  Useful for identifying class imbalances (e.g., `Attrition`) and underrepresented groups (e.g., certain `JobRoles` or `Departments`).\n",
    "-  Subplots allow comparison across multiple features within a single figure for better interpretability.\n",
    "\n",
    "This method supports initial exploratory data analysis (EDA) by revealing patterns that could impact attrition and inform feature engineering.\n",
    "\n",
    "---\n",
    "\n",
    "###  Limitations\n",
    "- Bar charts only display frequencies and do not show relationships between features or with the target variable (`Attrition`).\n",
    "- Categories with a large number of unique values (e.g., `JobRole`) can result in crowded or hard-to-read plots.\n",
    "- Static plots require manual scanning to compare distributions; interactive alternatives might enhance usability.\n",
    "\n",
    "---\n",
    "\n",
    "###  Alternative Approaches\n",
    "- Using **stacked bar charts** to show distributions within each category split by `Attrition` status for clearer insight into attrition patterns by category.\n",
    "- Applying **interactive visualisations** (e.g., Plotly bar charts) to allow filtering or zooming for categories with many unique values.\n",
    "- Creating **grouped bar charts** or **facet grids** (Seaborn `catplot`) for side-by-side comparisons between categorical variables and attrition.\n",
    "\n",
    "---\n",
    "\n",
    "###  Key Takeaway\n",
    "Bar charts provided an effective and simple way to explore the distributions of categorical variables, revealing imbalances and dominant categories. However, for deeper insights into relationships with attrition, more advanced or interactive plots could complement this approach.\n",
    "\n"
   ]
  },
  {
   "cell_type": "code",
   "execution_count": null,
   "id": "0d6341fa",
   "metadata": {},
   "outputs": [
    {
     "data": {
      "application/vnd.plotly.v1+json": {
       "config": {
        "plotlyServerURL": "https://plot.ly"
       },
       "data": [
        {
         "customdata": [
          [
           "Sales Executive"
          ],
          [
           "Laboratory Technician"
          ],
          [
           "Laboratory Technician"
          ],
          [
           "Sales Representative"
          ],
          [
           "Research Scientist"
          ],
          [
           "Research Scientist"
          ],
          [
           "Sales Representative"
          ],
          [
           "Research Scientist"
          ],
          [
           "Sales Representative"
          ],
          [
           "Laboratory Technician"
          ],
          [
           "Research Director"
          ],
          [
           "Laboratory Technician"
          ],
          [
           "Laboratory Technician"
          ],
          [
           "Research Scientist"
          ],
          [
           "Sales Executive"
          ],
          [
           "Human Resources"
          ],
          [
           "Laboratory Technician"
          ],
          [
           "Sales Executive"
          ],
          [
           "Laboratory Technician"
          ],
          [
           "Research Scientist"
          ],
          [
           "Sales Executive"
          ],
          [
           "Healthcare Representative"
          ],
          [
           "Sales Representative"
          ],
          [
           "Sales Executive"
          ],
          [
           "Manufacturing Director"
          ],
          [
           "Laboratory Technician"
          ],
          [
           "Sales Representative"
          ],
          [
           "Laboratory Technician"
          ],
          [
           "Sales Representative"
          ],
          [
           "Manufacturing Director"
          ],
          [
           "Healthcare Representative"
          ],
          [
           "Sales Executive"
          ],
          [
           "Sales Executive"
          ],
          [
           "Research Scientist"
          ],
          [
           "Sales Executive"
          ],
          [
           "Research Scientist"
          ],
          [
           "Research Scientist"
          ],
          [
           "Laboratory Technician"
          ],
          [
           "Laboratory Technician"
          ],
          [
           "Laboratory Technician"
          ],
          [
           "Manufacturing Director"
          ],
          [
           "Laboratory Technician"
          ],
          [
           "Laboratory Technician"
          ],
          [
           "Manager"
          ],
          [
           "Laboratory Technician"
          ],
          [
           "Laboratory Technician"
          ],
          [
           "Sales Executive"
          ],
          [
           "Laboratory Technician"
          ],
          [
           "Research Scientist"
          ],
          [
           "Research Scientist"
          ],
          [
           "Sales Executive"
          ],
          [
           "Laboratory Technician"
          ],
          [
           "Sales Representative"
          ],
          [
           "Sales Representative"
          ],
          [
           "Sales Executive"
          ],
          [
           "Sales Executive"
          ],
          [
           "Sales Representative"
          ],
          [
           "Sales Executive"
          ],
          [
           "Research Scientist"
          ],
          [
           "Research Scientist"
          ],
          [
           "Laboratory Technician"
          ],
          [
           "Sales Representative"
          ],
          [
           "Sales Representative"
          ],
          [
           "Research Scientist"
          ],
          [
           "Human Resources"
          ],
          [
           "Manager"
          ],
          [
           "Laboratory Technician"
          ],
          [
           "Healthcare Representative"
          ],
          [
           "Human Resources"
          ],
          [
           "Laboratory Technician"
          ],
          [
           "Human Resources"
          ],
          [
           "Sales Representative"
          ],
          [
           "Laboratory Technician"
          ],
          [
           "Sales Executive"
          ],
          [
           "Laboratory Technician"
          ],
          [
           "Sales Representative"
          ],
          [
           "Sales Executive"
          ],
          [
           "Sales Representative"
          ],
          [
           "Sales Executive"
          ],
          [
           "Research Scientist"
          ],
          [
           "Research Scientist"
          ],
          [
           "Sales Executive"
          ],
          [
           "Sales Executive"
          ],
          [
           "Research Scientist"
          ],
          [
           "Research Scientist"
          ],
          [
           "Research Scientist"
          ],
          [
           "Sales Executive"
          ],
          [
           "Manager"
          ],
          [
           "Sales Executive"
          ],
          [
           "Laboratory Technician"
          ],
          [
           "Laboratory Technician"
          ],
          [
           "Sales Executive"
          ],
          [
           "Research Director"
          ],
          [
           "Research Scientist"
          ],
          [
           "Sales Executive"
          ],
          [
           "Sales Executive"
          ],
          [
           "Research Scientist"
          ],
          [
           "Research Scientist"
          ],
          [
           "Sales Representative"
          ],
          [
           "Laboratory Technician"
          ],
          [
           "Laboratory Technician"
          ],
          [
           "Sales Representative"
          ],
          [
           "Research Scientist"
          ],
          [
           "Manufacturing Director"
          ],
          [
           "Laboratory Technician"
          ],
          [
           "Laboratory Technician"
          ],
          [
           "Sales Representative"
          ],
          [
           "Sales Representative"
          ],
          [
           "Laboratory Technician"
          ],
          [
           "Sales Executive"
          ],
          [
           "Sales Executive"
          ],
          [
           "Research Scientist"
          ],
          [
           "Sales Executive"
          ],
          [
           "Research Scientist"
          ],
          [
           "Research Scientist"
          ],
          [
           "Research Scientist"
          ],
          [
           "Laboratory Technician"
          ],
          [
           "Research Scientist"
          ],
          [
           "Laboratory Technician"
          ],
          [
           "Healthcare Representative"
          ],
          [
           "Sales Executive"
          ],
          [
           "Manager"
          ],
          [
           "Laboratory Technician"
          ],
          [
           "Laboratory Technician"
          ],
          [
           "Research Scientist"
          ],
          [
           "Sales Representative"
          ],
          [
           "Laboratory Technician"
          ],
          [
           "Research Scientist"
          ],
          [
           "Healthcare Representative"
          ],
          [
           "Human Resources"
          ],
          [
           "Sales Executive"
          ],
          [
           "Research Scientist"
          ],
          [
           "Laboratory Technician"
          ],
          [
           "Laboratory Technician"
          ],
          [
           "Research Scientist"
          ],
          [
           "Laboratory Technician"
          ],
          [
           "Sales Executive"
          ],
          [
           "Healthcare Representative"
          ],
          [
           "Laboratory Technician"
          ],
          [
           "Sales Executive"
          ],
          [
           "Laboratory Technician"
          ],
          [
           "Sales Executive"
          ],
          [
           "Sales Executive"
          ],
          [
           "Laboratory Technician"
          ],
          [
           "Sales Executive"
          ],
          [
           "Research Scientist"
          ],
          [
           "Research Scientist"
          ],
          [
           "Research Scientist"
          ],
          [
           "Laboratory Technician"
          ],
          [
           "Research Scientist"
          ],
          [
           "Sales Representative"
          ],
          [
           "Manager"
          ],
          [
           "Laboratory Technician"
          ],
          [
           "Healthcare Representative"
          ],
          [
           "Laboratory Technician"
          ],
          [
           "Laboratory Technician"
          ],
          [
           "Research Scientist"
          ],
          [
           "Sales Executive"
          ],
          [
           "Sales Executive"
          ],
          [
           "Sales Representative"
          ],
          [
           "Laboratory Technician"
          ],
          [
           "Manufacturing Director"
          ],
          [
           "Sales Executive"
          ],
          [
           "Sales Representative"
          ],
          [
           "Sales Executive"
          ],
          [
           "Manufacturing Director"
          ],
          [
           "Research Scientist"
          ],
          [
           "Laboratory Technician"
          ],
          [
           "Healthcare Representative"
          ],
          [
           "Sales Representative"
          ],
          [
           "Research Scientist"
          ],
          [
           "Sales Representative"
          ],
          [
           "Sales Executive"
          ],
          [
           "Laboratory Technician"
          ],
          [
           "Manufacturing Director"
          ],
          [
           "Laboratory Technician"
          ],
          [
           "Human Resources"
          ],
          [
           "Sales Representative"
          ],
          [
           "Sales Executive"
          ],
          [
           "Sales Executive"
          ],
          [
           "Laboratory Technician"
          ],
          [
           "Laboratory Technician"
          ],
          [
           "Research Scientist"
          ],
          [
           "Laboratory Technician"
          ],
          [
           "Research Scientist"
          ],
          [
           "Sales Executive"
          ],
          [
           "Laboratory Technician"
          ],
          [
           "Manufacturing Director"
          ],
          [
           "Manufacturing Director"
          ],
          [
           "Laboratory Technician"
          ],
          [
           "Sales Representative"
          ],
          [
           "Sales Executive"
          ],
          [
           "Sales Executive"
          ],
          [
           "Laboratory Technician"
          ],
          [
           "Sales Executive"
          ],
          [
           "Laboratory Technician"
          ],
          [
           "Sales Representative"
          ],
          [
           "Laboratory Technician"
          ],
          [
           "Sales Representative"
          ],
          [
           "Human Resources"
          ],
          [
           "Sales Executive"
          ],
          [
           "Sales Executive"
          ],
          [
           "Sales Executive"
          ],
          [
           "Human Resources"
          ],
          [
           "Sales Representative"
          ],
          [
           "Sales Executive"
          ],
          [
           "Sales Executive"
          ],
          [
           "Research Scientist"
          ],
          [
           "Sales Representative"
          ],
          [
           "Laboratory Technician"
          ],
          [
           "Research Scientist"
          ],
          [
           "Sales Executive"
          ],
          [
           "Laboratory Technician"
          ],
          [
           "Manufacturing Director"
          ],
          [
           "Human Resources"
          ],
          [
           "Healthcare Representative"
          ],
          [
           "Human Resources"
          ],
          [
           "Human Resources"
          ],
          [
           "Sales Executive"
          ],
          [
           "Research Scientist"
          ],
          [
           "Sales Executive"
          ],
          [
           "Sales Representative"
          ],
          [
           "Research Scientist"
          ],
          [
           "Research Scientist"
          ],
          [
           "Laboratory Technician"
          ],
          [
           "Sales Representative"
          ],
          [
           "Sales Executive"
          ],
          [
           "Research Scientist"
          ],
          [
           "Human Resources"
          ],
          [
           "Laboratory Technician"
          ],
          [
           "Sales Executive"
          ],
          [
           "Sales Executive"
          ],
          [
           "Sales Representative"
          ],
          [
           "Research Scientist"
          ],
          [
           "Laboratory Technician"
          ],
          [
           "Sales Executive"
          ],
          [
           "Sales Executive"
          ]
         ],
         "hovertemplate": "Attrition=Yes<br>Age=%{x}<br>MonthlyIncome=%{y}<br>TotalWorkingYears=%{marker.size}<br>JobRole=%{customdata[0]}<extra></extra>",
         "legendgroup": "Yes",
         "marker": {
          "color": "#636efa",
          "size": {
           "bdata": "CAcGCggKEwYDARcXAgIJBwEGCQcMKAAEEgoBAQQIEQoOCAkHBAgNBBEGBQoTBQgACwUMBwMBCAgBCQcDBgYDBgEPCAwLBAgAAQYGAQkFBQEKBBIKBwoIGAYBAQYoBQkMCAoFAQMCAQQKCAEBARARBxYEAwcFAQQPByESCQYCARIKGAkOBwEFAQUVAAYCCxYBBwYBBQEBARoCCgoKBgkKAwofGAMFCggUCQEBBhwLCgcCBQcQBAgLDwcKASIHAQAPBwoNBRMBAwEZEAoGAgsKBgEBBgoLCgYNAgQHAQ4BAQUFAQYIAQYKDwEEDgwU",
           "dtype": "i1"
          },
          "sizemode": "area",
          "sizeref": 0.1,
          "symbol": "circle"
         },
         "mode": "markers",
         "name": "Yes",
         "showlegend": true,
         "type": "scattergl",
         "x": {
          "bdata": "KSUcJCIgJxgyGikwHCQuJRQZIjgfOhMfMyATEykjJh0gHh4dHSEhICUfHC8sGhoSNBwnHRUhKSgVIhoeGRgiHRMhIR8iFhoSGiAYHh8bLRQhGDIcKiEvNxoXHSE6HDE3GiMdIDoUFRYpJxkTFCQlOigfHR4jFB4lGjQkJBoUFTMcLCMhGRohHDInEiEfHSocKywWKRgTGS0VLB0gJyg0Hyw6Nx8jHxsxHR8fGS4nHx8iHB0iGBwdKB8eIzUmHBIjIygjFzAgFxgvJCAeHSEfKxUWLCMiJRouHx0gHS4eFiI4HRwgGxwfNRcdODIy",
          "dtype": "i1"
         },
         "xaxis": "x",
         "y": {
          "bdata": "aRcqCOwHTw2QC08PJgj1CHsK9QhZTAUVcQ08DZMlGQhuC3AWuhdjExwYSCiLBs8RmiloEBUJTgREDBwXERrXHaAoYQooGgoIVQmECZMKkg5AJ5cNnQ1JLlkMRQnEFowFTROIDXYURwh+CCMLiyTsGJwKuBQeDO0Ivw+CDC8J8gkECio1UA1gJt4mNg+1ClYHJAljEkYL8QeJEOELvhDxAxQN4RGMGqgIxwp+Cv0Yk03OFEEGDwnMFC5LHhHmHSgUPgnmB/AK6wpMCfwHhQpLENoKZAltCUkInQtVKHEprwmKMxEJZAlUCJ8OKAp2CakSaROFTbcK4hL6BxMJiAWdCRIi8ihuJZwRaw5JCQkJJAp4EokvcAcgIDIKqBy+NdMJ4hR4CyULOwiiCEMHXgSISUEKKh8LDRMTQA+GI/4g/gg6CRgnfzXhCgYSIxhaCbwQgR1PBe0EMBFwJz4OFh2KDrYKXQuFFvcRZAwBCjoJ4gf0D/IlGgi5J/cSaAkhBkIoQBV2COURlQ9fCnEF4wgTBogy9hdPGoQIyAp0IeEfhQl3Cl4JJgm1FuIUdRBkCN4ijAsfCbMmhwmSHDkEqAkDCRsKQwR+JoAJLws/CfEV0Cj+BrMSIwlIGmYq",
          "dtype": "i2"
         },
         "yaxis": "y"
        },
        {
         "customdata": [
          [
           "Research Scientist"
          ],
          [
           "Research Scientist"
          ],
          [
           "Laboratory Technician"
          ],
          [
           "Laboratory Technician"
          ],
          [
           "Laboratory Technician"
          ],
          [
           "Laboratory Technician"
          ],
          [
           "Manufacturing Director"
          ],
          [
           "Healthcare Representative"
          ],
          [
           "Laboratory Technician"
          ],
          [
           "Laboratory Technician"
          ],
          [
           "Research Scientist"
          ],
          [
           "Laboratory Technician"
          ],
          [
           "Manufacturing Director"
          ],
          [
           "Research Scientist"
          ],
          [
           "Laboratory Technician"
          ],
          [
           "Manager"
          ],
          [
           "Research Scientist"
          ],
          [
           "Manufacturing Director"
          ],
          [
           "Research Director"
          ],
          [
           "Research Scientist"
          ],
          [
           "Manager"
          ],
          [
           "Sales Executive"
          ],
          [
           "Healthcare Representative"
          ],
          [
           "Manager"
          ],
          [
           "Laboratory Technician"
          ],
          [
           "Healthcare Representative"
          ],
          [
           "Laboratory Technician"
          ],
          [
           "Research Scientist"
          ],
          [
           "Sales Representative"
          ],
          [
           "Research Scientist"
          ],
          [
           "Sales Executive"
          ],
          [
           "Laboratory Technician"
          ],
          [
           "Laboratory Technician"
          ],
          [
           "Sales Executive"
          ],
          [
           "Laboratory Technician"
          ],
          [
           "Sales Executive"
          ],
          [
           "Research Scientist"
          ],
          [
           "Sales Executive"
          ],
          [
           "Laboratory Technician"
          ],
          [
           "Sales Executive"
          ],
          [
           "Healthcare Representative"
          ],
          [
           "Sales Executive"
          ],
          [
           "Research Director"
          ],
          [
           "Sales Executive"
          ],
          [
           "Laboratory Technician"
          ],
          [
           "Laboratory Technician"
          ],
          [
           "Manufacturing Director"
          ],
          [
           "Manufacturing Director"
          ],
          [
           "Laboratory Technician"
          ],
          [
           "Research Director"
          ],
          [
           "Sales Executive"
          ],
          [
           "Healthcare Representative"
          ],
          [
           "Manager"
          ],
          [
           "Manufacturing Director"
          ],
          [
           "Research Scientist"
          ],
          [
           "Research Scientist"
          ],
          [
           "Sales Executive"
          ],
          [
           "Research Scientist"
          ],
          [
           "Research Scientist"
          ],
          [
           "Research Scientist"
          ],
          [
           "Laboratory Technician"
          ],
          [
           "Manufacturing Director"
          ],
          [
           "Sales Executive"
          ],
          [
           "Research Director"
          ],
          [
           "Research Director"
          ],
          [
           "Human Resources"
          ],
          [
           "Laboratory Technician"
          ],
          [
           "Research Scientist"
          ],
          [
           "Sales Executive"
          ],
          [
           "Research Scientist"
          ],
          [
           "Manufacturing Director"
          ],
          [
           "Manufacturing Director"
          ],
          [
           "Sales Representative"
          ],
          [
           "Laboratory Technician"
          ],
          [
           "Healthcare Representative"
          ],
          [
           "Healthcare Representative"
          ],
          [
           "Sales Executive"
          ],
          [
           "Sales Executive"
          ],
          [
           "Healthcare Representative"
          ],
          [
           "Sales Executive"
          ],
          [
           "Research Director"
          ],
          [
           "Sales Executive"
          ],
          [
           "Sales Executive"
          ],
          [
           "Sales Executive"
          ],
          [
           "Laboratory Technician"
          ],
          [
           "Research Scientist"
          ],
          [
           "Research Scientist"
          ],
          [
           "Healthcare Representative"
          ],
          [
           "Manager"
          ],
          [
           "Research Director"
          ],
          [
           "Research Scientist"
          ],
          [
           "Laboratory Technician"
          ],
          [
           "Healthcare Representative"
          ],
          [
           "Manager"
          ],
          [
           "Laboratory Technician"
          ],
          [
           "Research Scientist"
          ],
          [
           "Sales Executive"
          ],
          [
           "Manager"
          ],
          [
           "Sales Executive"
          ],
          [
           "Laboratory Technician"
          ],
          [
           "Manager"
          ],
          [
           "Research Scientist"
          ],
          [
           "Sales Executive"
          ],
          [
           "Research Director"
          ],
          [
           "Research Scientist"
          ],
          [
           "Laboratory Technician"
          ],
          [
           "Manufacturing Director"
          ],
          [
           "Research Scientist"
          ],
          [
           "Sales Executive"
          ],
          [
           "Sales Executive"
          ],
          [
           "Human Resources"
          ],
          [
           "Manufacturing Director"
          ],
          [
           "Sales Executive"
          ],
          [
           "Sales Executive"
          ],
          [
           "Human Resources"
          ],
          [
           "Research Scientist"
          ],
          [
           "Research Scientist"
          ],
          [
           "Research Scientist"
          ],
          [
           "Sales Executive"
          ],
          [
           "Research Scientist"
          ],
          [
           "Laboratory Technician"
          ],
          [
           "Manager"
          ],
          [
           "Laboratory Technician"
          ],
          [
           "Laboratory Technician"
          ],
          [
           "Research Scientist"
          ],
          [
           "Sales Executive"
          ],
          [
           "Sales Representative"
          ],
          [
           "Laboratory Technician"
          ],
          [
           "Sales Executive"
          ],
          [
           "Manufacturing Director"
          ],
          [
           "Manufacturing Director"
          ],
          [
           "Research Scientist"
          ],
          [
           "Sales Executive"
          ],
          [
           "Sales Representative"
          ],
          [
           "Research Scientist"
          ],
          [
           "Research Scientist"
          ],
          [
           "Research Scientist"
          ],
          [
           "Healthcare Representative"
          ],
          [
           "Research Scientist"
          ],
          [
           "Manager"
          ],
          [
           "Research Scientist"
          ],
          [
           "Sales Executive"
          ],
          [
           "Sales Executive"
          ],
          [
           "Research Scientist"
          ],
          [
           "Research Scientist"
          ],
          [
           "Laboratory Technician"
          ],
          [
           "Laboratory Technician"
          ],
          [
           "Sales Executive"
          ],
          [
           "Research Scientist"
          ],
          [
           "Research Scientist"
          ],
          [
           "Sales Executive"
          ],
          [
           "Laboratory Technician"
          ],
          [
           "Research Scientist"
          ],
          [
           "Research Scientist"
          ],
          [
           "Laboratory Technician"
          ],
          [
           "Manufacturing Director"
          ],
          [
           "Research Scientist"
          ],
          [
           "Manager"
          ],
          [
           "Research Director"
          ],
          [
           "Manufacturing Director"
          ],
          [
           "Healthcare Representative"
          ],
          [
           "Manager"
          ],
          [
           "Research Scientist"
          ],
          [
           "Research Scientist"
          ],
          [
           "Manager"
          ],
          [
           "Research Scientist"
          ],
          [
           "Laboratory Technician"
          ],
          [
           "Manufacturing Director"
          ],
          [
           "Manufacturing Director"
          ],
          [
           "Manufacturing Director"
          ],
          [
           "Manufacturing Director"
          ],
          [
           "Manufacturing Director"
          ],
          [
           "Research Scientist"
          ],
          [
           "Laboratory Technician"
          ],
          [
           "Research Scientist"
          ],
          [
           "Laboratory Technician"
          ],
          [
           "Healthcare Representative"
          ],
          [
           "Healthcare Representative"
          ],
          [
           "Manufacturing Director"
          ],
          [
           "Sales Executive"
          ],
          [
           "Research Director"
          ],
          [
           "Manager"
          ],
          [
           "Sales Executive"
          ],
          [
           "Sales Executive"
          ],
          [
           "Laboratory Technician"
          ],
          [
           "Research Scientist"
          ],
          [
           "Research Director"
          ],
          [
           "Sales Executive"
          ],
          [
           "Manufacturing Director"
          ],
          [
           "Research Scientist"
          ],
          [
           "Sales Representative"
          ],
          [
           "Sales Executive"
          ],
          [
           "Sales Executive"
          ],
          [
           "Laboratory Technician"
          ],
          [
           "Manager"
          ],
          [
           "Human Resources"
          ],
          [
           "Manager"
          ],
          [
           "Manager"
          ],
          [
           "Manager"
          ],
          [
           "Sales Representative"
          ],
          [
           "Laboratory Technician"
          ],
          [
           "Sales Executive"
          ],
          [
           "Research Scientist"
          ],
          [
           "Research Scientist"
          ],
          [
           "Manager"
          ],
          [
           "Research Director"
          ],
          [
           "Research Scientist"
          ],
          [
           "Manufacturing Director"
          ],
          [
           "Research Scientist"
          ],
          [
           "Manufacturing Director"
          ],
          [
           "Healthcare Representative"
          ],
          [
           "Research Scientist"
          ],
          [
           "Research Scientist"
          ],
          [
           "Sales Executive"
          ],
          [
           "Manufacturing Director"
          ],
          [
           "Laboratory Technician"
          ],
          [
           "Research Director"
          ],
          [
           "Research Scientist"
          ],
          [
           "Laboratory Technician"
          ],
          [
           "Sales Executive"
          ],
          [
           "Laboratory Technician"
          ],
          [
           "Manager"
          ],
          [
           "Sales Executive"
          ],
          [
           "Healthcare Representative"
          ],
          [
           "Healthcare Representative"
          ],
          [
           "Healthcare Representative"
          ],
          [
           "Laboratory Technician"
          ],
          [
           "Manager"
          ],
          [
           "Research Scientist"
          ],
          [
           "Sales Executive"
          ],
          [
           "Research Scientist"
          ],
          [
           "Research Director"
          ],
          [
           "Manager"
          ],
          [
           "Sales Executive"
          ],
          [
           "Manufacturing Director"
          ],
          [
           "Research Director"
          ],
          [
           "Research Director"
          ],
          [
           "Sales Executive"
          ],
          [
           "Sales Executive"
          ],
          [
           "Laboratory Technician"
          ],
          [
           "Healthcare Representative"
          ],
          [
           "Research Scientist"
          ],
          [
           "Healthcare Representative"
          ],
          [
           "Research Scientist"
          ],
          [
           "Research Director"
          ],
          [
           "Research Scientist"
          ],
          [
           "Sales Representative"
          ],
          [
           "Research Scientist"
          ],
          [
           "Sales Executive"
          ],
          [
           "Sales Executive"
          ],
          [
           "Laboratory Technician"
          ],
          [
           "Manufacturing Director"
          ],
          [
           "Manager"
          ],
          [
           "Sales Representative"
          ],
          [
           "Healthcare Representative"
          ],
          [
           "Sales Executive"
          ],
          [
           "Healthcare Representative"
          ],
          [
           "Laboratory Technician"
          ],
          [
           "Sales Executive"
          ],
          [
           "Research Director"
          ],
          [
           "Healthcare Representative"
          ],
          [
           "Research Scientist"
          ],
          [
           "Human Resources"
          ],
          [
           "Laboratory Technician"
          ],
          [
           "Research Scientist"
          ],
          [
           "Manager"
          ],
          [
           "Manager"
          ],
          [
           "Laboratory Technician"
          ],
          [
           "Healthcare Representative"
          ],
          [
           "Research Scientist"
          ],
          [
           "Sales Executive"
          ],
          [
           "Sales Executive"
          ],
          [
           "Sales Executive"
          ],
          [
           "Research Scientist"
          ],
          [
           "Research Scientist"
          ],
          [
           "Manufacturing Director"
          ],
          [
           "Manager"
          ],
          [
           "Sales Executive"
          ],
          [
           "Research Director"
          ],
          [
           "Laboratory Technician"
          ],
          [
           "Sales Executive"
          ],
          [
           "Research Scientist"
          ],
          [
           "Healthcare Representative"
          ],
          [
           "Research Scientist"
          ],
          [
           "Sales Executive"
          ],
          [
           "Laboratory Technician"
          ],
          [
           "Sales Executive"
          ],
          [
           "Sales Executive"
          ],
          [
           "Manufacturing Director"
          ],
          [
           "Research Director"
          ],
          [
           "Manufacturing Director"
          ],
          [
           "Sales Executive"
          ],
          [
           "Manufacturing Director"
          ],
          [
           "Research Scientist"
          ],
          [
           "Manufacturing Director"
          ],
          [
           "Sales Representative"
          ],
          [
           "Research Director"
          ],
          [
           "Sales Executive"
          ],
          [
           "Human Resources"
          ],
          [
           "Laboratory Technician"
          ],
          [
           "Manager"
          ],
          [
           "Research Scientist"
          ],
          [
           "Sales Executive"
          ],
          [
           "Sales Executive"
          ],
          [
           "Healthcare Representative"
          ],
          [
           "Sales Executive"
          ],
          [
           "Sales Executive"
          ],
          [
           "Healthcare Representative"
          ],
          [
           "Laboratory Technician"
          ],
          [
           "Sales Representative"
          ],
          [
           "Laboratory Technician"
          ],
          [
           "Manufacturing Director"
          ],
          [
           "Healthcare Representative"
          ],
          [
           "Research Scientist"
          ],
          [
           "Research Scientist"
          ],
          [
           "Healthcare Representative"
          ],
          [
           "Laboratory Technician"
          ],
          [
           "Sales Executive"
          ],
          [
           "Healthcare Representative"
          ],
          [
           "Sales Executive"
          ],
          [
           "Research Scientist"
          ],
          [
           "Manager"
          ],
          [
           "Sales Executive"
          ],
          [
           "Sales Representative"
          ],
          [
           "Research Scientist"
          ],
          [
           "Sales Executive"
          ],
          [
           "Laboratory Technician"
          ],
          [
           "Sales Executive"
          ],
          [
           "Laboratory Technician"
          ],
          [
           "Manufacturing Director"
          ],
          [
           "Research Director"
          ],
          [
           "Laboratory Technician"
          ],
          [
           "Research Director"
          ],
          [
           "Sales Executive"
          ],
          [
           "Manufacturing Director"
          ],
          [
           "Laboratory Technician"
          ],
          [
           "Healthcare Representative"
          ],
          [
           "Sales Executive"
          ],
          [
           "Research Scientist"
          ],
          [
           "Laboratory Technician"
          ],
          [
           "Manager"
          ],
          [
           "Sales Executive"
          ],
          [
           "Sales Executive"
          ],
          [
           "Sales Executive"
          ],
          [
           "Laboratory Technician"
          ],
          [
           "Manufacturing Director"
          ],
          [
           "Research Scientist"
          ],
          [
           "Manager"
          ],
          [
           "Research Scientist"
          ],
          [
           "Manufacturing Director"
          ],
          [
           "Manager"
          ],
          [
           "Manufacturing Director"
          ],
          [
           "Healthcare Representative"
          ],
          [
           "Laboratory Technician"
          ],
          [
           "Manager"
          ],
          [
           "Research Scientist"
          ],
          [
           "Laboratory Technician"
          ],
          [
           "Research Director"
          ],
          [
           "Sales Executive"
          ],
          [
           "Manager"
          ],
          [
           "Manager"
          ],
          [
           "Laboratory Technician"
          ],
          [
           "Sales Executive"
          ],
          [
           "Manufacturing Director"
          ],
          [
           "Research Director"
          ],
          [
           "Laboratory Technician"
          ],
          [
           "Laboratory Technician"
          ],
          [
           "Research Scientist"
          ],
          [
           "Sales Executive"
          ],
          [
           "Manufacturing Director"
          ],
          [
           "Sales Representative"
          ],
          [
           "Healthcare Representative"
          ],
          [
           "Laboratory Technician"
          ],
          [
           "Sales Executive"
          ],
          [
           "Sales Executive"
          ],
          [
           "Manager"
          ],
          [
           "Sales Executive"
          ],
          [
           "Sales Executive"
          ],
          [
           "Manufacturing Director"
          ],
          [
           "Laboratory Technician"
          ],
          [
           "Sales Executive"
          ],
          [
           "Manufacturing Director"
          ],
          [
           "Sales Executive"
          ],
          [
           "Manufacturing Director"
          ],
          [
           "Research Director"
          ],
          [
           "Manager"
          ],
          [
           "Sales Executive"
          ],
          [
           "Healthcare Representative"
          ],
          [
           "Sales Executive"
          ],
          [
           "Sales Executive"
          ],
          [
           "Sales Executive"
          ],
          [
           "Manufacturing Director"
          ],
          [
           "Healthcare Representative"
          ],
          [
           "Manager"
          ],
          [
           "Sales Executive"
          ],
          [
           "Research Scientist"
          ],
          [
           "Sales Representative"
          ],
          [
           "Healthcare Representative"
          ],
          [
           "Manufacturing Director"
          ],
          [
           "Research Director"
          ],
          [
           "Research Scientist"
          ],
          [
           "Sales Executive"
          ],
          [
           "Laboratory Technician"
          ],
          [
           "Manager"
          ],
          [
           "Sales Representative"
          ],
          [
           "Research Scientist"
          ],
          [
           "Laboratory Technician"
          ],
          [
           "Sales Executive"
          ],
          [
           "Research Scientist"
          ],
          [
           "Sales Executive"
          ],
          [
           "Research Scientist"
          ],
          [
           "Healthcare Representative"
          ],
          [
           "Research Director"
          ],
          [
           "Research Scientist"
          ],
          [
           "Laboratory Technician"
          ],
          [
           "Manager"
          ],
          [
           "Human Resources"
          ],
          [
           "Sales Representative"
          ],
          [
           "Sales Representative"
          ],
          [
           "Manager"
          ],
          [
           "Research Scientist"
          ],
          [
           "Sales Executive"
          ],
          [
           "Research Scientist"
          ],
          [
           "Research Scientist"
          ],
          [
           "Sales Executive"
          ],
          [
           "Research Scientist"
          ],
          [
           "Laboratory Technician"
          ],
          [
           "Manufacturing Director"
          ],
          [
           "Sales Executive"
          ],
          [
           "Research Scientist"
          ],
          [
           "Healthcare Representative"
          ],
          [
           "Human Resources"
          ],
          [
           "Manufacturing Director"
          ],
          [
           "Research Scientist"
          ],
          [
           "Laboratory Technician"
          ],
          [
           "Research Scientist"
          ],
          [
           "Sales Executive"
          ],
          [
           "Sales Executive"
          ],
          [
           "Research Scientist"
          ],
          [
           "Sales Executive"
          ],
          [
           "Sales Executive"
          ],
          [
           "Research Scientist"
          ],
          [
           "Laboratory Technician"
          ],
          [
           "Healthcare Representative"
          ],
          [
           "Healthcare Representative"
          ],
          [
           "Sales Executive"
          ],
          [
           "Healthcare Representative"
          ],
          [
           "Manufacturing Director"
          ],
          [
           "Research Director"
          ],
          [
           "Sales Executive"
          ],
          [
           "Sales Executive"
          ],
          [
           "Research Director"
          ],
          [
           "Manager"
          ],
          [
           "Sales Executive"
          ],
          [
           "Manufacturing Director"
          ],
          [
           "Manager"
          ],
          [
           "Sales Representative"
          ],
          [
           "Research Director"
          ],
          [
           "Manufacturing Director"
          ],
          [
           "Laboratory Technician"
          ],
          [
           "Sales Executive"
          ],
          [
           "Sales Executive"
          ],
          [
           "Sales Representative"
          ],
          [
           "Sales Executive"
          ],
          [
           "Healthcare Representative"
          ],
          [
           "Laboratory Technician"
          ],
          [
           "Human Resources"
          ],
          [
           "Healthcare Representative"
          ],
          [
           "Research Scientist"
          ],
          [
           "Healthcare Representative"
          ],
          [
           "Sales Representative"
          ],
          [
           "Laboratory Technician"
          ],
          [
           "Healthcare Representative"
          ],
          [
           "Laboratory Technician"
          ],
          [
           "Research Scientist"
          ],
          [
           "Manufacturing Director"
          ],
          [
           "Manager"
          ],
          [
           "Sales Executive"
          ],
          [
           "Sales Representative"
          ],
          [
           "Research Scientist"
          ],
          [
           "Sales Executive"
          ],
          [
           "Sales Executive"
          ],
          [
           "Research Scientist"
          ],
          [
           "Laboratory Technician"
          ],
          [
           "Healthcare Representative"
          ],
          [
           "Research Scientist"
          ],
          [
           "Manufacturing Director"
          ],
          [
           "Sales Executive"
          ],
          [
           "Research Scientist"
          ],
          [
           "Manufacturing Director"
          ],
          [
           "Research Scientist"
          ],
          [
           "Sales Representative"
          ],
          [
           "Laboratory Technician"
          ],
          [
           "Healthcare Representative"
          ],
          [
           "Sales Executive"
          ],
          [
           "Manager"
          ],
          [
           "Laboratory Technician"
          ],
          [
           "Laboratory Technician"
          ],
          [
           "Research Director"
          ],
          [
           "Research Director"
          ],
          [
           "Manager"
          ],
          [
           "Manufacturing Director"
          ],
          [
           "Research Scientist"
          ],
          [
           "Research Scientist"
          ],
          [
           "Manufacturing Director"
          ],
          [
           "Human Resources"
          ],
          [
           "Manufacturing Director"
          ],
          [
           "Laboratory Technician"
          ],
          [
           "Manufacturing Director"
          ],
          [
           "Research Scientist"
          ],
          [
           "Manufacturing Director"
          ],
          [
           "Healthcare Representative"
          ],
          [
           "Research Scientist"
          ],
          [
           "Research Director"
          ],
          [
           "Research Director"
          ],
          [
           "Manufacturing Director"
          ],
          [
           "Sales Executive"
          ],
          [
           "Human Resources"
          ],
          [
           "Research Scientist"
          ],
          [
           "Manager"
          ],
          [
           "Healthcare Representative"
          ],
          [
           "Research Scientist"
          ],
          [
           "Sales Executive"
          ],
          [
           "Research Scientist"
          ],
          [
           "Sales Executive"
          ],
          [
           "Sales Executive"
          ],
          [
           "Research Scientist"
          ],
          [
           "Sales Executive"
          ],
          [
           "Sales Executive"
          ],
          [
           "Research Scientist"
          ],
          [
           "Manufacturing Director"
          ],
          [
           "Sales Executive"
          ],
          [
           "Human Resources"
          ],
          [
           "Manufacturing Director"
          ],
          [
           "Laboratory Technician"
          ],
          [
           "Research Scientist"
          ],
          [
           "Human Resources"
          ],
          [
           "Sales Executive"
          ],
          [
           "Manufacturing Director"
          ],
          [
           "Laboratory Technician"
          ],
          [
           "Sales Executive"
          ],
          [
           "Research Scientist"
          ],
          [
           "Laboratory Technician"
          ],
          [
           "Sales Executive"
          ],
          [
           "Sales Representative"
          ],
          [
           "Laboratory Technician"
          ],
          [
           "Research Scientist"
          ],
          [
           "Sales Executive"
          ],
          [
           "Manufacturing Director"
          ],
          [
           "Sales Representative"
          ],
          [
           "Research Director"
          ],
          [
           "Healthcare Representative"
          ],
          [
           "Sales Executive"
          ],
          [
           "Sales Executive"
          ],
          [
           "Manager"
          ],
          [
           "Human Resources"
          ],
          [
           "Human Resources"
          ],
          [
           "Laboratory Technician"
          ],
          [
           "Research Scientist"
          ],
          [
           "Sales Executive"
          ],
          [
           "Manufacturing Director"
          ],
          [
           "Healthcare Representative"
          ],
          [
           "Sales Representative"
          ],
          [
           "Research Scientist"
          ],
          [
           "Research Scientist"
          ],
          [
           "Laboratory Technician"
          ],
          [
           "Sales Executive"
          ],
          [
           "Research Scientist"
          ],
          [
           "Healthcare Representative"
          ],
          [
           "Sales Representative"
          ],
          [
           "Healthcare Representative"
          ],
          [
           "Laboratory Technician"
          ],
          [
           "Research Scientist"
          ],
          [
           "Sales Executive"
          ],
          [
           "Research Scientist"
          ],
          [
           "Research Director"
          ],
          [
           "Laboratory Technician"
          ],
          [
           "Sales Executive"
          ],
          [
           "Sales Executive"
          ],
          [
           "Laboratory Technician"
          ],
          [
           "Laboratory Technician"
          ],
          [
           "Healthcare Representative"
          ],
          [
           "Research Scientist"
          ],
          [
           "Manufacturing Director"
          ],
          [
           "Healthcare Representative"
          ],
          [
           "Laboratory Technician"
          ],
          [
           "Sales Representative"
          ],
          [
           "Sales Executive"
          ],
          [
           "Manager"
          ],
          [
           "Manager"
          ],
          [
           "Sales Executive"
          ],
          [
           "Sales Executive"
          ],
          [
           "Sales Executive"
          ],
          [
           "Sales Executive"
          ],
          [
           "Manufacturing Director"
          ],
          [
           "Sales Executive"
          ],
          [
           "Manager"
          ],
          [
           "Research Scientist"
          ],
          [
           "Laboratory Technician"
          ],
          [
           "Research Director"
          ],
          [
           "Healthcare Representative"
          ],
          [
           "Research Director"
          ],
          [
           "Laboratory Technician"
          ],
          [
           "Laboratory Technician"
          ],
          [
           "Sales Executive"
          ],
          [
           "Manufacturing Director"
          ],
          [
           "Research Scientist"
          ],
          [
           "Manufacturing Director"
          ],
          [
           "Manufacturing Director"
          ],
          [
           "Manufacturing Director"
          ],
          [
           "Research Scientist"
          ],
          [
           "Manufacturing Director"
          ],
          [
           "Healthcare Representative"
          ],
          [
           "Research Director"
          ],
          [
           "Manufacturing Director"
          ],
          [
           "Laboratory Technician"
          ],
          [
           "Healthcare Representative"
          ],
          [
           "Healthcare Representative"
          ],
          [
           "Manufacturing Director"
          ],
          [
           "Manufacturing Director"
          ],
          [
           "Manufacturing Director"
          ],
          [
           "Laboratory Technician"
          ],
          [
           "Manager"
          ],
          [
           "Laboratory Technician"
          ],
          [
           "Manufacturing Director"
          ],
          [
           "Healthcare Representative"
          ],
          [
           "Research Director"
          ],
          [
           "Sales Executive"
          ],
          [
           "Sales Executive"
          ],
          [
           "Sales Executive"
          ],
          [
           "Manufacturing Director"
          ],
          [
           "Sales Representative"
          ],
          [
           "Manager"
          ],
          [
           "Laboratory Technician"
          ],
          [
           "Sales Executive"
          ],
          [
           "Manager"
          ],
          [
           "Human Resources"
          ],
          [
           "Sales Executive"
          ],
          [
           "Sales Representative"
          ],
          [
           "Sales Representative"
          ],
          [
           "Research Scientist"
          ],
          [
           "Research Director"
          ],
          [
           "Healthcare Representative"
          ],
          [
           "Sales Executive"
          ],
          [
           "Research Scientist"
          ],
          [
           "Research Director"
          ],
          [
           "Sales Executive"
          ],
          [
           "Research Scientist"
          ],
          [
           "Manufacturing Director"
          ],
          [
           "Manager"
          ],
          [
           "Sales Executive"
          ],
          [
           "Research Scientist"
          ],
          [
           "Laboratory Technician"
          ],
          [
           "Manufacturing Director"
          ],
          [
           "Research Scientist"
          ],
          [
           "Healthcare Representative"
          ],
          [
           "Healthcare Representative"
          ],
          [
           "Laboratory Technician"
          ],
          [
           "Manufacturing Director"
          ],
          [
           "Research Scientist"
          ],
          [
           "Healthcare Representative"
          ],
          [
           "Laboratory Technician"
          ],
          [
           "Healthcare Representative"
          ],
          [
           "Sales Executive"
          ],
          [
           "Manager"
          ],
          [
           "Sales Executive"
          ],
          [
           "Research Scientist"
          ],
          [
           "Manager"
          ],
          [
           "Sales Executive"
          ],
          [
           "Healthcare Representative"
          ],
          [
           "Sales Executive"
          ],
          [
           "Research Scientist"
          ],
          [
           "Manufacturing Director"
          ],
          [
           "Manager"
          ],
          [
           "Sales Executive"
          ],
          [
           "Manufacturing Director"
          ],
          [
           "Research Director"
          ],
          [
           "Research Scientist"
          ],
          [
           "Laboratory Technician"
          ],
          [
           "Manufacturing Director"
          ],
          [
           "Sales Representative"
          ],
          [
           "Research Scientist"
          ],
          [
           "Sales Executive"
          ],
          [
           "Sales Executive"
          ],
          [
           "Manufacturing Director"
          ],
          [
           "Research Scientist"
          ],
          [
           "Laboratory Technician"
          ],
          [
           "Manufacturing Director"
          ],
          [
           "Human Resources"
          ],
          [
           "Research Scientist"
          ],
          [
           "Laboratory Technician"
          ],
          [
           "Healthcare Representative"
          ],
          [
           "Research Scientist"
          ],
          [
           "Sales Executive"
          ],
          [
           "Human Resources"
          ],
          [
           "Research Director"
          ],
          [
           "Sales Executive"
          ],
          [
           "Laboratory Technician"
          ],
          [
           "Laboratory Technician"
          ],
          [
           "Laboratory Technician"
          ],
          [
           "Sales Executive"
          ],
          [
           "Research Scientist"
          ],
          [
           "Manufacturing Director"
          ],
          [
           "Healthcare Representative"
          ],
          [
           "Laboratory Technician"
          ],
          [
           "Sales Representative"
          ],
          [
           "Manager"
          ],
          [
           "Laboratory Technician"
          ],
          [
           "Research Scientist"
          ],
          [
           "Research Scientist"
          ],
          [
           "Manufacturing Director"
          ],
          [
           "Laboratory Technician"
          ],
          [
           "Manager"
          ],
          [
           "Research Scientist"
          ],
          [
           "Manager"
          ],
          [
           "Research Scientist"
          ],
          [
           "Human Resources"
          ],
          [
           "Sales Executive"
          ],
          [
           "Sales Executive"
          ],
          [
           "Manager"
          ],
          [
           "Laboratory Technician"
          ],
          [
           "Research Director"
          ],
          [
           "Sales Executive"
          ],
          [
           "Sales Executive"
          ],
          [
           "Laboratory Technician"
          ],
          [
           "Laboratory Technician"
          ],
          [
           "Research Scientist"
          ],
          [
           "Sales Representative"
          ],
          [
           "Manufacturing Director"
          ],
          [
           "Human Resources"
          ],
          [
           "Sales Executive"
          ],
          [
           "Laboratory Technician"
          ],
          [
           "Research Scientist"
          ],
          [
           "Manufacturing Director"
          ],
          [
           "Research Scientist"
          ],
          [
           "Sales Executive"
          ],
          [
           "Sales Executive"
          ],
          [
           "Research Scientist"
          ],
          [
           "Research Director"
          ],
          [
           "Sales Executive"
          ],
          [
           "Research Scientist"
          ],
          [
           "Manufacturing Director"
          ],
          [
           "Research Scientist"
          ],
          [
           "Research Scientist"
          ],
          [
           "Research Director"
          ],
          [
           "Healthcare Representative"
          ],
          [
           "Healthcare Representative"
          ],
          [
           "Sales Executive"
          ],
          [
           "Research Director"
          ],
          [
           "Manager"
          ],
          [
           "Research Scientist"
          ],
          [
           "Laboratory Technician"
          ],
          [
           "Research Scientist"
          ],
          [
           "Healthcare Representative"
          ],
          [
           "Research Director"
          ],
          [
           "Research Director"
          ],
          [
           "Research Scientist"
          ],
          [
           "Manager"
          ],
          [
           "Sales Executive"
          ],
          [
           "Research Scientist"
          ],
          [
           "Research Scientist"
          ],
          [
           "Research Scientist"
          ],
          [
           "Healthcare Representative"
          ],
          [
           "Manager"
          ],
          [
           "Sales Executive"
          ],
          [
           "Manager"
          ],
          [
           "Manufacturing Director"
          ],
          [
           "Laboratory Technician"
          ],
          [
           "Laboratory Technician"
          ],
          [
           "Manager"
          ],
          [
           "Human Resources"
          ],
          [
           "Research Scientist"
          ],
          [
           "Research Scientist"
          ],
          [
           "Sales Executive"
          ],
          [
           "Manufacturing Director"
          ],
          [
           "Laboratory Technician"
          ],
          [
           "Laboratory Technician"
          ],
          [
           "Manufacturing Director"
          ],
          [
           "Research Scientist"
          ],
          [
           "Research Scientist"
          ],
          [
           "Sales Executive"
          ],
          [
           "Manager"
          ],
          [
           "Manager"
          ],
          [
           "Research Scientist"
          ],
          [
           "Laboratory Technician"
          ],
          [
           "Healthcare Representative"
          ],
          [
           "Human Resources"
          ],
          [
           "Laboratory Technician"
          ],
          [
           "Research Director"
          ],
          [
           "Manager"
          ],
          [
           "Manufacturing Director"
          ],
          [
           "Sales Executive"
          ],
          [
           "Sales Executive"
          ],
          [
           "Manager"
          ],
          [
           "Manager"
          ],
          [
           "Manager"
          ],
          [
           "Research Scientist"
          ],
          [
           "Healthcare Representative"
          ],
          [
           "Research Scientist"
          ],
          [
           "Sales Executive"
          ],
          [
           "Research Scientist"
          ],
          [
           "Manager"
          ],
          [
           "Sales Executive"
          ],
          [
           "Sales Executive"
          ],
          [
           "Laboratory Technician"
          ],
          [
           "Laboratory Technician"
          ],
          [
           "Sales Executive"
          ],
          [
           "Manufacturing Director"
          ],
          [
           "Sales Representative"
          ],
          [
           "Manufacturing Director"
          ],
          [
           "Laboratory Technician"
          ],
          [
           "Laboratory Technician"
          ],
          [
           "Sales Executive"
          ],
          [
           "Manufacturing Director"
          ],
          [
           "Research Scientist"
          ],
          [
           "Healthcare Representative"
          ],
          [
           "Laboratory Technician"
          ],
          [
           "Research Scientist"
          ],
          [
           "Healthcare Representative"
          ],
          [
           "Sales Executive"
          ],
          [
           "Sales Executive"
          ],
          [
           "Sales Executive"
          ],
          [
           "Research Scientist"
          ],
          [
           "Research Scientist"
          ],
          [
           "Sales Executive"
          ],
          [
           "Sales Executive"
          ],
          [
           "Healthcare Representative"
          ],
          [
           "Sales Executive"
          ],
          [
           "Manufacturing Director"
          ],
          [
           "Research Scientist"
          ],
          [
           "Sales Executive"
          ],
          [
           "Research Scientist"
          ],
          [
           "Manager"
          ],
          [
           "Laboratory Technician"
          ],
          [
           "Laboratory Technician"
          ],
          [
           "Manufacturing Director"
          ],
          [
           "Laboratory Technician"
          ],
          [
           "Laboratory Technician"
          ],
          [
           "Human Resources"
          ],
          [
           "Research Director"
          ],
          [
           "Research Director"
          ],
          [
           "Research Director"
          ],
          [
           "Sales Executive"
          ],
          [
           "Sales Executive"
          ],
          [
           "Research Director"
          ],
          [
           "Research Scientist"
          ],
          [
           "Laboratory Technician"
          ],
          [
           "Laboratory Technician"
          ],
          [
           "Sales Executive"
          ],
          [
           "Research Scientist"
          ],
          [
           "Laboratory Technician"
          ],
          [
           "Research Scientist"
          ],
          [
           "Research Director"
          ],
          [
           "Sales Executive"
          ],
          [
           "Sales Executive"
          ],
          [
           "Laboratory Technician"
          ],
          [
           "Research Scientist"
          ],
          [
           "Laboratory Technician"
          ],
          [
           "Sales Executive"
          ],
          [
           "Healthcare Representative"
          ],
          [
           "Human Resources"
          ],
          [
           "Manufacturing Director"
          ],
          [
           "Sales Executive"
          ],
          [
           "Research Director"
          ],
          [
           "Sales Executive"
          ],
          [
           "Laboratory Technician"
          ],
          [
           "Research Director"
          ],
          [
           "Healthcare Representative"
          ],
          [
           "Research Scientist"
          ],
          [
           "Research Scientist"
          ],
          [
           "Sales Executive"
          ],
          [
           "Sales Executive"
          ],
          [
           "Sales Executive"
          ],
          [
           "Laboratory Technician"
          ],
          [
           "Sales Executive"
          ],
          [
           "Research Scientist"
          ],
          [
           "Research Scientist"
          ],
          [
           "Healthcare Representative"
          ],
          [
           "Research Director"
          ],
          [
           "Sales Representative"
          ],
          [
           "Sales Representative"
          ],
          [
           "Manufacturing Director"
          ],
          [
           "Sales Executive"
          ],
          [
           "Human Resources"
          ],
          [
           "Healthcare Representative"
          ],
          [
           "Laboratory Technician"
          ],
          [
           "Sales Executive"
          ],
          [
           "Research Scientist"
          ],
          [
           "Sales Executive"
          ],
          [
           "Laboratory Technician"
          ],
          [
           "Laboratory Technician"
          ],
          [
           "Manufacturing Director"
          ],
          [
           "Healthcare Representative"
          ],
          [
           "Manager"
          ],
          [
           "Manager"
          ],
          [
           "Research Director"
          ],
          [
           "Manufacturing Director"
          ],
          [
           "Manager"
          ],
          [
           "Healthcare Representative"
          ],
          [
           "Laboratory Technician"
          ],
          [
           "Sales Executive"
          ],
          [
           "Research Director"
          ],
          [
           "Sales Representative"
          ],
          [
           "Laboratory Technician"
          ],
          [
           "Research Scientist"
          ],
          [
           "Healthcare Representative"
          ],
          [
           "Manufacturing Director"
          ],
          [
           "Research Scientist"
          ],
          [
           "Healthcare Representative"
          ],
          [
           "Sales Executive"
          ],
          [
           "Laboratory Technician"
          ],
          [
           "Manager"
          ],
          [
           "Laboratory Technician"
          ],
          [
           "Healthcare Representative"
          ],
          [
           "Healthcare Representative"
          ],
          [
           "Sales Representative"
          ],
          [
           "Research Scientist"
          ],
          [
           "Sales Representative"
          ],
          [
           "Sales Executive"
          ],
          [
           "Research Scientist"
          ],
          [
           "Sales Executive"
          ],
          [
           "Human Resources"
          ],
          [
           "Laboratory Technician"
          ],
          [
           "Sales Executive"
          ],
          [
           "Research Scientist"
          ],
          [
           "Research Scientist"
          ],
          [
           "Research Scientist"
          ],
          [
           "Manager"
          ],
          [
           "Research Scientist"
          ],
          [
           "Research Scientist"
          ],
          [
           "Sales Executive"
          ],
          [
           "Sales Executive"
          ],
          [
           "Sales Executive"
          ],
          [
           "Laboratory Technician"
          ],
          [
           "Healthcare Representative"
          ],
          [
           "Sales Executive"
          ],
          [
           "Healthcare Representative"
          ],
          [
           "Manager"
          ],
          [
           "Research Scientist"
          ],
          [
           "Laboratory Technician"
          ],
          [
           "Manager"
          ],
          [
           "Laboratory Technician"
          ],
          [
           "Healthcare Representative"
          ],
          [
           "Sales Executive"
          ],
          [
           "Laboratory Technician"
          ],
          [
           "Laboratory Technician"
          ],
          [
           "Manager"
          ],
          [
           "Research Scientist"
          ],
          [
           "Healthcare Representative"
          ],
          [
           "Research Scientist"
          ],
          [
           "Research Director"
          ],
          [
           "Research Scientist"
          ],
          [
           "Laboratory Technician"
          ],
          [
           "Sales Executive"
          ],
          [
           "Sales Executive"
          ],
          [
           "Manufacturing Director"
          ],
          [
           "Manufacturing Director"
          ],
          [
           "Laboratory Technician"
          ],
          [
           "Manufacturing Director"
          ],
          [
           "Laboratory Technician"
          ],
          [
           "Research Scientist"
          ],
          [
           "Manufacturing Director"
          ],
          [
           "Research Scientist"
          ],
          [
           "Manager"
          ],
          [
           "Laboratory Technician"
          ],
          [
           "Manufacturing Director"
          ],
          [
           "Healthcare Representative"
          ],
          [
           "Manufacturing Director"
          ],
          [
           "Manufacturing Director"
          ],
          [
           "Manufacturing Director"
          ],
          [
           "Manufacturing Director"
          ],
          [
           "Research Scientist"
          ],
          [
           "Manufacturing Director"
          ],
          [
           "Human Resources"
          ],
          [
           "Manager"
          ],
          [
           "Research Scientist"
          ],
          [
           "Research Scientist"
          ],
          [
           "Research Scientist"
          ],
          [
           "Sales Executive"
          ],
          [
           "Healthcare Representative"
          ],
          [
           "Manufacturing Director"
          ],
          [
           "Manufacturing Director"
          ],
          [
           "Research Director"
          ],
          [
           "Research Director"
          ],
          [
           "Sales Representative"
          ],
          [
           "Research Scientist"
          ],
          [
           "Laboratory Technician"
          ],
          [
           "Healthcare Representative"
          ],
          [
           "Manufacturing Director"
          ],
          [
           "Healthcare Representative"
          ],
          [
           "Manager"
          ],
          [
           "Research Director"
          ],
          [
           "Research Scientist"
          ],
          [
           "Sales Executive"
          ],
          [
           "Sales Executive"
          ],
          [
           "Research Scientist"
          ],
          [
           "Sales Executive"
          ],
          [
           "Laboratory Technician"
          ],
          [
           "Laboratory Technician"
          ],
          [
           "Manager"
          ],
          [
           "Manager"
          ],
          [
           "Sales Executive"
          ],
          [
           "Sales Representative"
          ],
          [
           "Sales Executive"
          ],
          [
           "Healthcare Representative"
          ],
          [
           "Human Resources"
          ],
          [
           "Laboratory Technician"
          ],
          [
           "Healthcare Representative"
          ],
          [
           "Laboratory Technician"
          ],
          [
           "Research Scientist"
          ],
          [
           "Laboratory Technician"
          ],
          [
           "Healthcare Representative"
          ],
          [
           "Laboratory Technician"
          ],
          [
           "Sales Executive"
          ],
          [
           "Research Scientist"
          ],
          [
           "Healthcare Representative"
          ],
          [
           "Research Scientist"
          ],
          [
           "Sales Executive"
          ],
          [
           "Research Scientist"
          ],
          [
           "Sales Executive"
          ],
          [
           "Laboratory Technician"
          ],
          [
           "Sales Representative"
          ],
          [
           "Healthcare Representative"
          ],
          [
           "Laboratory Technician"
          ],
          [
           "Research Director"
          ],
          [
           "Research Scientist"
          ],
          [
           "Laboratory Technician"
          ],
          [
           "Human Resources"
          ],
          [
           "Manufacturing Director"
          ],
          [
           "Laboratory Technician"
          ],
          [
           "Healthcare Representative"
          ],
          [
           "Manufacturing Director"
          ],
          [
           "Research Scientist"
          ],
          [
           "Sales Executive"
          ],
          [
           "Sales Executive"
          ],
          [
           "Laboratory Technician"
          ],
          [
           "Manufacturing Director"
          ],
          [
           "Laboratory Technician"
          ],
          [
           "Sales Executive"
          ],
          [
           "Manager"
          ],
          [
           "Human Resources"
          ],
          [
           "Research Scientist"
          ],
          [
           "Human Resources"
          ],
          [
           "Sales Executive"
          ],
          [
           "Research Scientist"
          ],
          [
           "Healthcare Representative"
          ],
          [
           "Sales Executive"
          ],
          [
           "Research Scientist"
          ],
          [
           "Sales Executive"
          ],
          [
           "Sales Executive"
          ],
          [
           "Laboratory Technician"
          ],
          [
           "Research Scientist"
          ],
          [
           "Healthcare Representative"
          ],
          [
           "Research Scientist"
          ],
          [
           "Healthcare Representative"
          ],
          [
           "Laboratory Technician"
          ],
          [
           "Research Director"
          ],
          [
           "Research Scientist"
          ],
          [
           "Laboratory Technician"
          ],
          [
           "Sales Executive"
          ],
          [
           "Manufacturing Director"
          ],
          [
           "Human Resources"
          ],
          [
           "Sales Executive"
          ],
          [
           "Laboratory Technician"
          ],
          [
           "Sales Executive"
          ],
          [
           "Manager"
          ],
          [
           "Sales Executive"
          ],
          [
           "Research Director"
          ],
          [
           "Healthcare Representative"
          ],
          [
           "Human Resources"
          ],
          [
           "Research Scientist"
          ],
          [
           "Research Scientist"
          ],
          [
           "Research Director"
          ],
          [
           "Sales Executive"
          ],
          [
           "Laboratory Technician"
          ],
          [
           "Healthcare Representative"
          ],
          [
           "Manufacturing Director"
          ],
          [
           "Human Resources"
          ],
          [
           "Sales Executive"
          ],
          [
           "Research Scientist"
          ],
          [
           "Healthcare Representative"
          ],
          [
           "Sales Executive"
          ],
          [
           "Manufacturing Director"
          ],
          [
           "Healthcare Representative"
          ],
          [
           "Sales Executive"
          ],
          [
           "Manager"
          ],
          [
           "Laboratory Technician"
          ],
          [
           "Manufacturing Director"
          ],
          [
           "Healthcare Representative"
          ],
          [
           "Research Scientist"
          ],
          [
           "Sales Executive"
          ],
          [
           "Research Scientist"
          ],
          [
           "Sales Representative"
          ],
          [
           "Sales Executive"
          ],
          [
           "Research Director"
          ],
          [
           "Research Scientist"
          ],
          [
           "Sales Executive"
          ],
          [
           "Research Scientist"
          ],
          [
           "Sales Executive"
          ],
          [
           "Laboratory Technician"
          ],
          [
           "Laboratory Technician"
          ],
          [
           "Sales Executive"
          ],
          [
           "Research Scientist"
          ],
          [
           "Laboratory Technician"
          ],
          [
           "Manufacturing Director"
          ],
          [
           "Human Resources"
          ],
          [
           "Healthcare Representative"
          ],
          [
           "Laboratory Technician"
          ],
          [
           "Sales Executive"
          ],
          [
           "Sales Representative"
          ],
          [
           "Human Resources"
          ],
          [
           "Manager"
          ],
          [
           "Research Director"
          ],
          [
           "Research Scientist"
          ],
          [
           "Research Scientist"
          ],
          [
           "Research Scientist"
          ],
          [
           "Sales Representative"
          ],
          [
           "Sales Executive"
          ],
          [
           "Laboratory Technician"
          ],
          [
           "Sales Executive"
          ],
          [
           "Laboratory Technician"
          ],
          [
           "Research Scientist"
          ],
          [
           "Manufacturing Director"
          ],
          [
           "Manufacturing Director"
          ],
          [
           "Human Resources"
          ],
          [
           "Manager"
          ],
          [
           "Research Scientist"
          ],
          [
           "Sales Executive"
          ],
          [
           "Manager"
          ],
          [
           "Healthcare Representative"
          ],
          [
           "Sales Executive"
          ],
          [
           "Sales Executive"
          ],
          [
           "Research Director"
          ],
          [
           "Sales Executive"
          ],
          [
           "Sales Executive"
          ],
          [
           "Laboratory Technician"
          ],
          [
           "Laboratory Technician"
          ],
          [
           "Healthcare Representative"
          ],
          [
           "Sales Executive"
          ],
          [
           "Sales Executive"
          ],
          [
           "Sales Executive"
          ],
          [
           "Research Scientist"
          ],
          [
           "Research Scientist"
          ],
          [
           "Research Scientist"
          ],
          [
           "Sales Executive"
          ],
          [
           "Manufacturing Director"
          ],
          [
           "Research Scientist"
          ],
          [
           "Manager"
          ],
          [
           "Research Scientist"
          ],
          [
           "Research Director"
          ],
          [
           "Sales Executive"
          ],
          [
           "Sales Executive"
          ],
          [
           "Research Scientist"
          ],
          [
           "Research Scientist"
          ],
          [
           "Laboratory Technician"
          ],
          [
           "Sales Executive"
          ],
          [
           "Sales Executive"
          ],
          [
           "Laboratory Technician"
          ],
          [
           "Healthcare Representative"
          ],
          [
           "Healthcare Representative"
          ],
          [
           "Research Scientist"
          ],
          [
           "Sales Representative"
          ],
          [
           "Sales Executive"
          ],
          [
           "Sales Executive"
          ],
          [
           "Manufacturing Director"
          ],
          [
           "Research Scientist"
          ],
          [
           "Healthcare Representative"
          ],
          [
           "Healthcare Representative"
          ],
          [
           "Human Resources"
          ],
          [
           "Manager"
          ],
          [
           "Laboratory Technician"
          ],
          [
           "Sales Executive"
          ],
          [
           "Research Scientist"
          ],
          [
           "Research Director"
          ],
          [
           "Manufacturing Director"
          ],
          [
           "Healthcare Representative"
          ],
          [
           "Laboratory Technician"
          ],
          [
           "Laboratory Technician"
          ],
          [
           "Sales Executive"
          ],
          [
           "Human Resources"
          ],
          [
           "Laboratory Technician"
          ],
          [
           "Laboratory Technician"
          ],
          [
           "Healthcare Representative"
          ],
          [
           "Laboratory Technician"
          ],
          [
           "Sales Executive"
          ],
          [
           "Sales Representative"
          ],
          [
           "Manufacturing Director"
          ],
          [
           "Research Scientist"
          ],
          [
           "Research Scientist"
          ],
          [
           "Research Director"
          ],
          [
           "Laboratory Technician"
          ],
          [
           "Research Scientist"
          ],
          [
           "Research Scientist"
          ],
          [
           "Healthcare Representative"
          ],
          [
           "Laboratory Technician"
          ],
          [
           "Laboratory Technician"
          ],
          [
           "Sales Representative"
          ],
          [
           "Research Scientist"
          ],
          [
           "Research Director"
          ],
          [
           "Sales Executive"
          ],
          [
           "Research Director"
          ],
          [
           "Sales Executive"
          ],
          [
           "Sales Representative"
          ],
          [
           "Research Scientist"
          ],
          [
           "Sales Representative"
          ],
          [
           "Manager"
          ],
          [
           "Sales Executive"
          ],
          [
           "Manufacturing Director"
          ],
          [
           "Healthcare Representative"
          ],
          [
           "Manager"
          ],
          [
           "Manufacturing Director"
          ],
          [
           "Sales Executive"
          ],
          [
           "Sales Executive"
          ],
          [
           "Sales Executive"
          ],
          [
           "Research Scientist"
          ],
          [
           "Human Resources"
          ],
          [
           "Sales Executive"
          ],
          [
           "Sales Executive"
          ],
          [
           "Sales Executive"
          ],
          [
           "Research Scientist"
          ],
          [
           "Healthcare Representative"
          ],
          [
           "Research Scientist"
          ],
          [
           "Research Scientist"
          ],
          [
           "Laboratory Technician"
          ],
          [
           "Research Scientist"
          ],
          [
           "Sales Executive"
          ],
          [
           "Manufacturing Director"
          ],
          [
           "Sales Representative"
          ],
          [
           "Laboratory Technician"
          ],
          [
           "Healthcare Representative"
          ],
          [
           "Manufacturing Director"
          ],
          [
           "Sales Executive"
          ],
          [
           "Laboratory Technician"
          ]
         ],
         "hovertemplate": "Attrition=No<br>Age=%{x}<br>MonthlyIncome=%{y}<br>TotalWorkingYears=%{marker.size}<br>JobRole=%{customdata[0]}<extra></extra>",
         "legendgroup": "No",
         "marker": {
          "color": "#EF553B",
          "size": {
           "bdata": "CggGCAwBChEGCgUDCgcBHwYFDQAaChgWBwkKBgIGCgEBCQwKCA4BCQoFDwkECgcJCh0cERUGGQUUBgEKBQsQERAQCgYYEQUlAwoLFgsLFQwQBAUmEQEQER4cAgEXFwYMDA4KBxkKCBcFAxASEAwIBxEGDAkTBQkIBhUHARQKDRQJCgoJDwYCBgUMARUNDAwIBg0MCRMEGAIHCQUFCBUkChUiBwcWCAoLDgkGBwUPBAgFEQwHEBAXEBAHChEGBw0LCgYWByAWIQYHBBEJGQkCDREJFAYKCgUKFgEFDQkcCgoGFRAlBQcDDwoIBhwVFAoMBREKBRYKAgQXDAQNFgAJChMLDRMMBgkYAwwVCRkEDQUNCgsKFQkVCQYUCgwGBAoICAwLBxEECAUQBAQIDw0ECA4HEA8KAxEHFAMGCgUHGhIGHgUBAgoSCAgSGRQYBg0ICAUPBBUkBgoKHAgfEwshEwcBFQMJCgogHAwWFBoGEw4PDQQKCAoOJRAPFggKCgkICgoUCggFCgwcFgkSAxIIHwYGASAHBgkNBhEBChUIChUKCAMaAwYGARIKAwoGEQ8QDQUBBQQICgwGBBQJFAoKCQoUFCAXCgkWBAoKCRwKAQcKBQweBQkCExAKBgciBgkCBgoFBQsKCQUGEQYDBwgGGAEJHg4aCgoHCAgOCgwBCg0GFgkRCAQAHQoGCQYSCAojEgkfCQYECggGBREEBQcGCgMRCBwQCiEMCAofDQcICAQEEQMGAQEKBhgNCh0NCQgPBQsHFBAKAwgGCQMFGhYKBgwJFAwKBQggBhUECQkWAw0FBAAWEAkIBBMbCBUEAxUIHhEVExcTFQMaChAOBh4BAQgdCAgFFw0SDx8SEwYHChQOAxcKCQQHCBcEBhsPEgkLChcKEhUCCRIDBgUWBQgQCgcDBgkEBgYUCQoGCAoQDw4CARwKAQcOAhoGHAYFCAUgBhkPCgcKFAIMCgwCChEPBwUMFBAJIQoDJAYKDRkXDAcFBhkJAhoKAQEIIhoEHxkPBRoOBBIXEgIICgUCChYVAgoKCgoZCQkKExUXJAYKCQoJIQsKBwcRCwUdAAoIIQUPCgQOBQgODAgIBA0GGBQGBRUMCAoHCAodIB8PCAkKBgoLEQcFGgUHBwcLDRgICg8QBgcjFAgGBQ8EDAsBDR0QAQEQCgYECAsBBQoECA4KGhgJFwsFCiAMBAoJBQgYCQ8VAggKBgwHEgUICgMJCQoBJAkBCggPCgoLBhsECRgKCAUIARsEIAYXBgoKCgcJCgoHEAYDGwsSDwkKCgoIEg4XBgUGCAkHBxsTAgsPHgQNJA4TCgYKChEEHRcVAgcKCAcLBwgPEw4GCgkGCgUKCREZAxUKBgoSBhMRCgQNAwkJChUJCgMGBgoMBg0ICQEKDA8HIgsFDxsKBgUNDwUYDxMOBQkGBwoPDQcHCxcJDAolBhwPDgkDFAUXAAoPBwYLBAoHDAMLCBkJARUdCAcTAQoKCQsQBAoKFgEJGAoMDhIICQQIDAoHCgYQEAYKFB0KHA4GBQQFDgkIBgkKFAoHCAkJCgcjARUUDQkEBQoPBgwHGQEQAwoJDA4FBAoKBggDEhQOEAYQBgIVChINGBUIDw4ECQoICAgKFAQKBRUKBREJBhEG",
           "dtype": "i1"
          },
          "sizemode": "area",
          "sizeref": 0.1,
          "symbol": "circle"
         },
         "mode": "markers",
         "name": "No",
         "showlegend": true,
         "type": "scattergl",
         "x": {
          "bdata": "MSEbIDseJiQjHR8iHSAWNSYYIhU1KiwuISweKyMkISMbGx4iJS4jLCMaISMjHyUgJjI7JDckLSM7HR8gJB8jLSUuHiM3JiI4FzMeKDMeLiA2GBw6LCAiJTsyGRYzNhgiJSIkJCseITMaFjErMikaJCcZHi0mHiAeHikpEygjNS0gHTM6KCIWGxw5GzIpHiYgGyQeLTghLiYfIjI1ISg3IjM0GystJSMqJiYbMSIoFiQoLh4bMyktNiQhJSYfOyUdIzQqOzIrNCAnICkoLR8hIiUtJx0qHRkqKDMgJiAuHR8ZLSQ3HCUVJSMmGjI1Kh03GiUmHDEkHyUqIyQzKRIcHyckICY6Hx8tHyEnKzEbIBsfIB4fJyEvKxs2Ky0oHR4bJSYfHSMXKS8qHSogMCUeGiokJDkoFSUuMh8dIxscMTMkNxgeFiQlKColKyg2Ih8rKxklHyc4HikcNC00Kh48LiomKBoeHR45Mh48Ly4jNiIuHx4jKiQwNykjKCcfKi0dIR8oKRojIiUuKSU0GCYlMRgaGDIZIiMfGyUUKismKzAsIhUsFiEgHjUiGiUdIyE2JBsjFxkmHTAbJTIiJyAmGyAvKDUpPBspMiQmLC8eHSsiFyc4KBsdNSMgJiI0GS0XIiQ0Gh0iNhslJiIjHigiKhg0MiEvJB0jKiQgKB4tKiYiKxsjHCIbMywZISMkIB41LSA0JRwWLCokGSMgGTEYICYqHzUjJTUrLyUyJyEdLBwrJC8cGyIqITofIzEwHyQmICgaKSQfKCAhLR0jNDUeJiMnLyQhIS0yISkbLS8yJi4YHxI2Ix4aFjAwKScbIyoyOzcpJiwyJyEtICI7LTUiHCYyJSgaLjY4JDcrLhoeKSYoGzccIRwiJSohIjAtNCYdHC4mKygVJyQfHCMxIh0qHSYcKSUbIiMoKiMYGh4oIyIjIDgdEy0lFDUdLiwhHigyHC4jISQeLBQuKjwgICQhKBkeKiMbNiwdNh8fOysxJDAbHTAdIiwhExcaNy4iMzsiHCwiIyorJBwzHhwZIC0nOh4kLhwyHicfKSo3OCgiKCkjMyYiGSgkMBszEiMbOCIoIiYiHCczKSUhICcZNCsbGio0JSMZGh02OjckHh8iGyQkLyU4LxggIikoHy0fLTAoHCw1MSgsISIeKiweOTEiIxgsHR43IS8cHDEdHCEgNiwnLiMXIjIiKiUdIS0qKCEoGCgtIyAkMB0hJiMeIDAiNyIaJiYkHSMnHTIXJCojIigrIy4WMiAsHi0tHyQiMScbIxwVLycoIyUnLSYlKCwwGBsbHSQZJzEyFCIkMSQkNismHSEgHzEmLzEpFCEkLCY1GjciPCElIiwjKxgpHSQtGi0gHykoGC4jHi8uFx8nICgtHhgfGx0eIiExJh0eICYqNyEpIjUrIiYfMyUuJCUhHCcuKCojJicrKSkeKCI6Iy8oNh8cJho6Ei0kKxsdICovLhwdKi4bHSswGyc3HCQfIh0lIy0kKBobMCwkKSofIh8aLSEcJxsiLzgnJjomMSojHB8kIiIaHSAfJiMbIDYhKyY3HycqHzYYFygoGR4ZLyEmHyYqKS8jFiMhICggJyYgJRk0LBUnJCQ4KikiJCkgIyYkLSgjKCMdHScfGiQnGzEi",
          "dtype": "i1"
         },
         "xaxis": "x",
         "y": {
          "bdata": "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",
          "dtype": "i2"
         },
         "yaxis": "y"
        }
       ],
       "layout": {
        "legend": {
         "itemsizing": "constant",
         "title": {
          "text": "Attrition"
         },
         "tracegroupgap": 0
        },
        "margin": {
         "t": 60
        },
        "template": {
         "data": {
          "bar": [
           {
            "error_x": {
             "color": "#2a3f5f"
            },
            "error_y": {
             "color": "#2a3f5f"
            },
            "marker": {
             "line": {
              "color": "#E5ECF6",
              "width": 0.5
             },
             "pattern": {
              "fillmode": "overlay",
              "size": 10,
              "solidity": 0.2
             }
            },
            "type": "bar"
           }
          ],
          "barpolar": [
           {
            "marker": {
             "line": {
              "color": "#E5ECF6",
              "width": 0.5
             },
             "pattern": {
              "fillmode": "overlay",
              "size": 10,
              "solidity": 0.2
             }
            },
            "type": "barpolar"
           }
          ],
          "carpet": [
           {
            "aaxis": {
             "endlinecolor": "#2a3f5f",
             "gridcolor": "white",
             "linecolor": "white",
             "minorgridcolor": "white",
             "startlinecolor": "#2a3f5f"
            },
            "baxis": {
             "endlinecolor": "#2a3f5f",
             "gridcolor": "white",
             "linecolor": "white",
             "minorgridcolor": "white",
             "startlinecolor": "#2a3f5f"
            },
            "type": "carpet"
           }
          ],
          "choropleth": [
           {
            "colorbar": {
             "outlinewidth": 0,
             "ticks": ""
            },
            "type": "choropleth"
           }
          ],
          "contour": [
           {
            "colorbar": {
             "outlinewidth": 0,
             "ticks": ""
            },
            "colorscale": [
             [
              0,
              "#0d0887"
             ],
             [
              0.1111111111111111,
              "#46039f"
             ],
             [
              0.2222222222222222,
              "#7201a8"
             ],
             [
              0.3333333333333333,
              "#9c179e"
             ],
             [
              0.4444444444444444,
              "#bd3786"
             ],
             [
              0.5555555555555556,
              "#d8576b"
             ],
             [
              0.6666666666666666,
              "#ed7953"
             ],
             [
              0.7777777777777778,
              "#fb9f3a"
             ],
             [
              0.8888888888888888,
              "#fdca26"
             ],
             [
              1,
              "#f0f921"
             ]
            ],
            "type": "contour"
           }
          ],
          "contourcarpet": [
           {
            "colorbar": {
             "outlinewidth": 0,
             "ticks": ""
            },
            "type": "contourcarpet"
           }
          ],
          "heatmap": [
           {
            "colorbar": {
             "outlinewidth": 0,
             "ticks": ""
            },
            "colorscale": [
             [
              0,
              "#0d0887"
             ],
             [
              0.1111111111111111,
              "#46039f"
             ],
             [
              0.2222222222222222,
              "#7201a8"
             ],
             [
              0.3333333333333333,
              "#9c179e"
             ],
             [
              0.4444444444444444,
              "#bd3786"
             ],
             [
              0.5555555555555556,
              "#d8576b"
             ],
             [
              0.6666666666666666,
              "#ed7953"
             ],
             [
              0.7777777777777778,
              "#fb9f3a"
             ],
             [
              0.8888888888888888,
              "#fdca26"
             ],
             [
              1,
              "#f0f921"
             ]
            ],
            "type": "heatmap"
           }
          ],
          "histogram": [
           {
            "marker": {
             "pattern": {
              "fillmode": "overlay",
              "size": 10,
              "solidity": 0.2
             }
            },
            "type": "histogram"
           }
          ],
          "histogram2d": [
           {
            "colorbar": {
             "outlinewidth": 0,
             "ticks": ""
            },
            "colorscale": [
             [
              0,
              "#0d0887"
             ],
             [
              0.1111111111111111,
              "#46039f"
             ],
             [
              0.2222222222222222,
              "#7201a8"
             ],
             [
              0.3333333333333333,
              "#9c179e"
             ],
             [
              0.4444444444444444,
              "#bd3786"
             ],
             [
              0.5555555555555556,
              "#d8576b"
             ],
             [
              0.6666666666666666,
              "#ed7953"
             ],
             [
              0.7777777777777778,
              "#fb9f3a"
             ],
             [
              0.8888888888888888,
              "#fdca26"
             ],
             [
              1,
              "#f0f921"
             ]
            ],
            "type": "histogram2d"
           }
          ],
          "histogram2dcontour": [
           {
            "colorbar": {
             "outlinewidth": 0,
             "ticks": ""
            },
            "colorscale": [
             [
              0,
              "#0d0887"
             ],
             [
              0.1111111111111111,
              "#46039f"
             ],
             [
              0.2222222222222222,
              "#7201a8"
             ],
             [
              0.3333333333333333,
              "#9c179e"
             ],
             [
              0.4444444444444444,
              "#bd3786"
             ],
             [
              0.5555555555555556,
              "#d8576b"
             ],
             [
              0.6666666666666666,
              "#ed7953"
             ],
             [
              0.7777777777777778,
              "#fb9f3a"
             ],
             [
              0.8888888888888888,
              "#fdca26"
             ],
             [
              1,
              "#f0f921"
             ]
            ],
            "type": "histogram2dcontour"
           }
          ],
          "mesh3d": [
           {
            "colorbar": {
             "outlinewidth": 0,
             "ticks": ""
            },
            "type": "mesh3d"
           }
          ],
          "parcoords": [
           {
            "line": {
             "colorbar": {
              "outlinewidth": 0,
              "ticks": ""
             }
            },
            "type": "parcoords"
           }
          ],
          "pie": [
           {
            "automargin": true,
            "type": "pie"
           }
          ],
          "scatter": [
           {
            "fillpattern": {
             "fillmode": "overlay",
             "size": 10,
             "solidity": 0.2
            },
            "type": "scatter"
           }
          ],
          "scatter3d": [
           {
            "line": {
             "colorbar": {
              "outlinewidth": 0,
              "ticks": ""
             }
            },
            "marker": {
             "colorbar": {
              "outlinewidth": 0,
              "ticks": ""
             }
            },
            "type": "scatter3d"
           }
          ],
          "scattercarpet": [
           {
            "marker": {
             "colorbar": {
              "outlinewidth": 0,
              "ticks": ""
             }
            },
            "type": "scattercarpet"
           }
          ],
          "scattergeo": [
           {
            "marker": {
             "colorbar": {
              "outlinewidth": 0,
              "ticks": ""
             }
            },
            "type": "scattergeo"
           }
          ],
          "scattergl": [
           {
            "marker": {
             "colorbar": {
              "outlinewidth": 0,
              "ticks": ""
             }
            },
            "type": "scattergl"
           }
          ],
          "scattermap": [
           {
            "marker": {
             "colorbar": {
              "outlinewidth": 0,
              "ticks": ""
             }
            },
            "type": "scattermap"
           }
          ],
          "scattermapbox": [
           {
            "marker": {
             "colorbar": {
              "outlinewidth": 0,
              "ticks": ""
             }
            },
            "type": "scattermapbox"
           }
          ],
          "scatterpolar": [
           {
            "marker": {
             "colorbar": {
              "outlinewidth": 0,
              "ticks": ""
             }
            },
            "type": "scatterpolar"
           }
          ],
          "scatterpolargl": [
           {
            "marker": {
             "colorbar": {
              "outlinewidth": 0,
              "ticks": ""
             }
            },
            "type": "scatterpolargl"
           }
          ],
          "scatterternary": [
           {
            "marker": {
             "colorbar": {
              "outlinewidth": 0,
              "ticks": ""
             }
            },
            "type": "scatterternary"
           }
          ],
          "surface": [
           {
            "colorbar": {
             "outlinewidth": 0,
             "ticks": ""
            },
            "colorscale": [
             [
              0,
              "#0d0887"
             ],
             [
              0.1111111111111111,
              "#46039f"
             ],
             [
              0.2222222222222222,
              "#7201a8"
             ],
             [
              0.3333333333333333,
              "#9c179e"
             ],
             [
              0.4444444444444444,
              "#bd3786"
             ],
             [
              0.5555555555555556,
              "#d8576b"
             ],
             [
              0.6666666666666666,
              "#ed7953"
             ],
             [
              0.7777777777777778,
              "#fb9f3a"
             ],
             [
              0.8888888888888888,
              "#fdca26"
             ],
             [
              1,
              "#f0f921"
             ]
            ],
            "type": "surface"
           }
          ],
          "table": [
           {
            "cells": {
             "fill": {
              "color": "#EBF0F8"
             },
             "line": {
              "color": "white"
             }
            },
            "header": {
             "fill": {
              "color": "#C8D4E3"
             },
             "line": {
              "color": "white"
             }
            },
            "type": "table"
           }
          ]
         },
         "layout": {
          "annotationdefaults": {
           "arrowcolor": "#2a3f5f",
           "arrowhead": 0,
           "arrowwidth": 1
          },
          "autotypenumbers": "strict",
          "coloraxis": {
           "colorbar": {
            "outlinewidth": 0,
            "ticks": ""
           }
          },
          "colorscale": {
           "diverging": [
            [
             0,
             "#8e0152"
            ],
            [
             0.1,
             "#c51b7d"
            ],
            [
             0.2,
             "#de77ae"
            ],
            [
             0.3,
             "#f1b6da"
            ],
            [
             0.4,
             "#fde0ef"
            ],
            [
             0.5,
             "#f7f7f7"
            ],
            [
             0.6,
             "#e6f5d0"
            ],
            [
             0.7,
             "#b8e186"
            ],
            [
             0.8,
             "#7fbc41"
            ],
            [
             0.9,
             "#4d9221"
            ],
            [
             1,
             "#276419"
            ]
           ],
           "sequential": [
            [
             0,
             "#0d0887"
            ],
            [
             0.1111111111111111,
             "#46039f"
            ],
            [
             0.2222222222222222,
             "#7201a8"
            ],
            [
             0.3333333333333333,
             "#9c179e"
            ],
            [
             0.4444444444444444,
             "#bd3786"
            ],
            [
             0.5555555555555556,
             "#d8576b"
            ],
            [
             0.6666666666666666,
             "#ed7953"
            ],
            [
             0.7777777777777778,
             "#fb9f3a"
            ],
            [
             0.8888888888888888,
             "#fdca26"
            ],
            [
             1,
             "#f0f921"
            ]
           ],
           "sequentialminus": [
            [
             0,
             "#0d0887"
            ],
            [
             0.1111111111111111,
             "#46039f"
            ],
            [
             0.2222222222222222,
             "#7201a8"
            ],
            [
             0.3333333333333333,
             "#9c179e"
            ],
            [
             0.4444444444444444,
             "#bd3786"
            ],
            [
             0.5555555555555556,
             "#d8576b"
            ],
            [
             0.6666666666666666,
             "#ed7953"
            ],
            [
             0.7777777777777778,
             "#fb9f3a"
            ],
            [
             0.8888888888888888,
             "#fdca26"
            ],
            [
             1,
             "#f0f921"
            ]
           ]
          },
          "colorway": [
           "#636efa",
           "#EF553B",
           "#00cc96",
           "#ab63fa",
           "#FFA15A",
           "#19d3f3",
           "#FF6692",
           "#B6E880",
           "#FF97FF",
           "#FECB52"
          ],
          "font": {
           "color": "#2a3f5f"
          },
          "geo": {
           "bgcolor": "white",
           "lakecolor": "white",
           "landcolor": "#E5ECF6",
           "showlakes": true,
           "showland": true,
           "subunitcolor": "white"
          },
          "hoverlabel": {
           "align": "left"
          },
          "hovermode": "closest",
          "mapbox": {
           "style": "light"
          },
          "paper_bgcolor": "white",
          "plot_bgcolor": "#E5ECF6",
          "polar": {
           "angularaxis": {
            "gridcolor": "white",
            "linecolor": "white",
            "ticks": ""
           },
           "bgcolor": "#E5ECF6",
           "radialaxis": {
            "gridcolor": "white",
            "linecolor": "white",
            "ticks": ""
           }
          },
          "scene": {
           "xaxis": {
            "backgroundcolor": "#E5ECF6",
            "gridcolor": "white",
            "gridwidth": 2,
            "linecolor": "white",
            "showbackground": true,
            "ticks": "",
            "zerolinecolor": "white"
           },
           "yaxis": {
            "backgroundcolor": "#E5ECF6",
            "gridcolor": "white",
            "gridwidth": 2,
            "linecolor": "white",
            "showbackground": true,
            "ticks": "",
            "zerolinecolor": "white"
           },
           "zaxis": {
            "backgroundcolor": "#E5ECF6",
            "gridcolor": "white",
            "gridwidth": 2,
            "linecolor": "white",
            "showbackground": true,
            "ticks": "",
            "zerolinecolor": "white"
           }
          },
          "shapedefaults": {
           "line": {
            "color": "#2a3f5f"
           }
          },
          "ternary": {
           "aaxis": {
            "gridcolor": "white",
            "linecolor": "white",
            "ticks": ""
           },
           "baxis": {
            "gridcolor": "white",
            "linecolor": "white",
            "ticks": ""
           },
           "bgcolor": "#E5ECF6",
           "caxis": {
            "gridcolor": "white",
            "linecolor": "white",
            "ticks": ""
           }
          },
          "title": {
           "x": 0.05
          },
          "xaxis": {
           "automargin": true,
           "gridcolor": "white",
           "linecolor": "white",
           "ticks": "",
           "title": {
            "standoff": 15
           },
           "zerolinecolor": "white",
           "zerolinewidth": 2
          },
          "yaxis": {
           "automargin": true,
           "gridcolor": "white",
           "linecolor": "white",
           "ticks": "",
           "title": {
            "standoff": 15
           },
           "zerolinecolor": "white",
           "zerolinewidth": 2
          }
         }
        },
        "title": {
         "text": "Monthly Income vs Age by Attrition Status"
        },
        "xaxis": {
         "anchor": "y",
         "domain": [
          0,
          1
         ],
         "title": {
          "text": "Age"
         }
        },
        "yaxis": {
         "anchor": "x",
         "domain": [
          0,
          1
         ],
         "title": {
          "text": "MonthlyIncome"
         }
        }
       }
      }
     },
     "metadata": {},
     "output_type": "display_data"
    }
   ],
   "source": [
    "import plotly.express as px\n",
    "\n",
    "fig = px.scatter(df, x=\"Age\", y=\"MonthlyIncome\", color=\"Attrition\", \n",
    "                 size=\"TotalWorkingYears\", hover_data=['JobRole'])\n",
    "fig.update_layout(title=\"Monthly Income vs Age by Attrition Status\")\n",
    "fig.show()\n"
   ]
  },
  {
   "cell_type": "markdown",
   "id": "8509123d",
   "metadata": {},
   "source": [
    "###  Insights from Interactive Scatter Plot\n",
    "\n",
    "-   The scatter plot visualises employees’ **Age** vs **Monthly Income**, with:\n",
    "  - Bubble size representing **Total Working Years**.\n",
    "  - Colour indicating **Attrition status** (`Yes` = left, `No` = stayed).\n",
    "  - Hover data showing employee **JobRole** for deeper exploration.\n",
    "\n",
    "-   Clear positive trend between **Age** and **Monthly Income**: Older employees tend to earn higher salaries.\n",
    "\n",
    "-   Larger bubbles (more Total Working Years) are concentrated at higher income levels, as expected.\n",
    "\n",
    "-   Attrition (`Yes`) data points are scattered across age and income ranges but appear slightly more frequent among younger and lower-income employees.\n",
    "\n",
    "-   This visualisation helps identify potential patterns between employee demographics, tenure, and attrition risk.\n",
    "\n",
    "## 3.2) Reflection on Interactive Scatter Plot \n",
    "\n",
    "###  Why This Method?\n",
    "An interactive scatter plot was chosen using Plotly to explore multi-dimensional relationships between key variables:\n",
    "-  **X-axis (Age)** vs **Y-axis (Monthly Income)** shows how income changes with age.\n",
    "-  **Bubble size (Total Working Years)** adds a third dimension for work experience.\n",
    "-  **Colour (Attrition status)** helps visually distinguish employees who stayed vs those who left.\n",
    "-  Hover tooltips display **JobRole**, allowing deeper investigation into specific groups.\n",
    "\n",
    "This interactive approach allows for intuitive exploration of complex relationships and makes it easier to spot patterns, clusters, or outliers.\n",
    "\n",
    "---\n",
    "\n",
    "###  Limitations\n",
    "- Plotly scatter plots can become cluttered with large datasets, making it harder to interpret overlapping points.\n",
    "- It may not effectively highlight statistical relationships (e.g., trends may appear subjective without fitted lines).\n",
    "- Interactive plots are not always suitable for static reports or dashboards meant for PDF export.\n",
    "\n",
    "---\n",
    "\n",
    "###  Alternative Approaches\n",
    "- Using **Seaborn’s scatterplot with trend lines** (`sns.lmplot`) to include regression fits for a clearer sense of relationships.\n",
    "- Applying **Faceted scatter plots** (split plots by `Attrition` status) to reduce clutter and compare groups side by side.\n",
    "- Using a **hexbin plot** or **density plot** for large datasets to manage overlapping points.\n",
    "\n",
    "---\n",
    "\n",
    "###  Key Takeaway\n",
    "The Plotly interactive scatter plot was highly effective for exploratory analysis, enabling multi-dimensional insights. \n",
    "For presentation or model validation, combining this with trendline-based plots (Seaborn) or aggregation methods may provide clearer statistical interpretations.\n",
    "\n"
   ]
  },
  {
   "cell_type": "code",
   "execution_count": null,
   "id": "8b64dc06",
   "metadata": {},
   "outputs": [
    {
     "data": {
      "application/vnd.plotly.v1+json": {
       "config": {
        "plotlyServerURL": "https://plot.ly"
       },
       "data": [
        {
         "alignmentgroup": "True",
         "bingroup": "x",
         "hovertemplate": "Attrition=Yes<br>Department=Sales<br>JobSatisfaction=%{x}<br>count=%{y}<extra></extra>",
         "legendgroup": "Yes",
         "marker": {
          "color": "#636efa",
          "pattern": {
           "shape": ""
          }
         },
         "name": "Yes",
         "offsetgroup": "Yes",
         "orientation": "v",
         "showlegend": true,
         "type": "histogram",
         "x": {
          "bdata": "BAEEAwQDAwMDAQIEBAEEAwIDAgMCBAIDAgMBAQEBAwMDAQEEBAMDAgIEAwIBBAQBAwEBAQMEAgICAgMEAwMBBAMCAgEEAQQEAwQDAQICAQMCBAICBAEDBAEBAwE=",
          "dtype": "i1"
         },
         "xaxis": "x",
         "yaxis": "y"
        },
        {
         "alignmentgroup": "True",
         "bingroup": "x",
         "hovertemplate": "Attrition=Yes<br>Department=Research & Development<br>JobSatisfaction=%{x}<br>count=%{y}<extra></extra>",
         "legendgroup": "Yes",
         "marker": {
          "color": "#636efa",
          "pattern": {
           "shape": ""
          }
         },
         "name": "Yes",
         "offsetgroup": "Yes",
         "orientation": "v",
         "showlegend": false,
         "type": "histogram",
         "x": {
          "bdata": "AwMBAQQDAwMDAwQDAgQEAQQDAQEDBAQBAwMCAwIDAgMCBAEBBAECAwQDAwQDAwECAwQBAQECAwMCBAQEAwQBAQMBAQMCAQICAQMBAQMBAwQDAgIEAwMEAwQBAgIDBAMDAQEBAwMBBAIBAgQBAQEBAwEEAgIBAwIDAQIBAQIEAgEEAwQEAw==",
          "dtype": "i1"
         },
         "xaxis": "x2",
         "yaxis": "y2"
        },
        {
         "alignmentgroup": "True",
         "bingroup": "x",
         "hovertemplate": "Attrition=Yes<br>Department=Human Resources<br>JobSatisfaction=%{x}<br>count=%{y}<extra></extra>",
         "legendgroup": "Yes",
         "marker": {
          "color": "#636efa",
          "pattern": {
           "shape": ""
          }
         },
         "name": "Yes",
         "offsetgroup": "Yes",
         "orientation": "v",
         "showlegend": false,
         "type": "histogram",
         "x": {
          "bdata": "AQQBAwEDAwQCAQEC",
          "dtype": "i1"
         },
         "xaxis": "x3",
         "yaxis": "y3"
        },
        {
         "alignmentgroup": "True",
         "bingroup": "x",
         "hovertemplate": "Attrition=No<br>Department=Sales<br>JobSatisfaction=%{x}<br>count=%{y}<extra></extra>",
         "legendgroup": "No",
         "marker": {
          "color": "#EF553B",
          "pattern": {
           "shape": ""
          }
         },
         "name": "No",
         "offsetgroup": "No",
         "orientation": "v",
         "showlegend": true,
         "type": "histogram",
         "x": {
          "bdata": "BAIBBAEDAwQBBAEBAwEEAQQCAwMDAwQEBAIEAwMDBAIDBAQDBAQBAQMEBAEDBAQDBAQDAgQEBAICBAEDBAICAgIDBAMCAwQEAgQDAgIDAwMDAwQEBAQEAwIDAgMEAQMBAwEEAQQCBAQCBAMEAgQBAwMEAQIEAgMEAwMDAwEDAgQCBAQBAQECAwQDBAIBBAMEAQQEAQIDAQQEBAEDAQECAgQEBAIEBAMDAwIBBAMDAwQEAwQDBAMEBAMEBAQEAgMCAQMEBAIDAwMCBAQCAwEDAQEBAgEDBAQCBAQEAgMCAQIEBAMCAQEBAQQEAQQCBAIDBAIBAQMEBAEBAQEDAwMCAwMBAgMDAQMEAwECBAICAwMDAQEBAQMDAgQEAgMBBAQEAwQCBAMCAwECBAMEBAICBAMDAgEEBAMEBAEDAgMEAwICBAQDBAMBBAQBBAMBBAQBAgIDAgQDBAEEAwQCBAQDBAMC",
          "dtype": "i1"
         },
         "xaxis": "x",
         "yaxis": "y"
        },
        {
         "alignmentgroup": "True",
         "bingroup": "x",
         "hovertemplate": "Attrition=No<br>Department=Research & Development<br>JobSatisfaction=%{x}<br>count=%{y}<extra></extra>",
         "legendgroup": "No",
         "marker": {
          "color": "#EF553B",
          "pattern": {
           "shape": ""
          }
         },
         "name": "No",
         "offsetgroup": "No",
         "orientation": "v",
         "showlegend": false,
         "type": "histogram",
         "x": {
          "bdata": "AgMCBAEDAwMCAwMEAQIEBAMCBAMEBAQDAwEEAQQCBAEEAQQDBAQDAwMCAQECAgIEBAEDBAMEAgQEBAIBAwIBAwQCBAQBAwIBBAMDAgQBAwIEAwMBBAEBAgICAwMCBAIEBAMCAwMCAgEBBAQEAgMBAgMCAwIDAgQEAQIDAwQBBAMEAgQEAQMCAgIEAwQEBAMBBAQDBAEBAwMEAQMBAwQCAQQBBAQBBAMEAgICAwQBBAQEAQIEBAIBBAICAwQBBAIBBAMCBAQDBAMDAwEEBAQEBAIEAgQCAQQDAwEDBAIEAgIDAwQCAQECAgMBAQQDAwEDAQMEBAMEAQMEBAQEAwMEBAMDAwMCAwMDAwEEAwMEAwEDAgMEAgQEAwIEBAEDAQQDBAMEBAMEBAIEAwEEBAMCAwQBBAMBAQMDAwEEBAEEAQQDAQMEBAMEAQEBAQMCBAIDAwMEAgMDBAMDBAMCAQQBBAMEAgEBBAMEBAQEAwQBBAQEAgQEAQQBAgQDAwIBAgQCAwQBAgEDBAIBBAIEAwQEBAIDAgEDAwMDAQQDAwEEAQMDAwQEBAQEAgMBAwMDAgMEAwQBAQEBAwMEAwIDBAMEAQQEAgQCAQMCAgQCAwIEBAMEBAMDAwIEBAIBBAEEAQMEAwMEAwEBAgMDBAQCAwEEAgEBAwQEBAEBBAMCAgMEBAQDBAMEAgQCAwEDAgIEAwMBAgICAwQDBAEBAwMDAwQEAwQCBAIEBAIDAwMDBAQDAwMDBAEDBAQBBAEEAgEBBAQDAQMCAwMBBAIDAgMDAgQDAwIBAwMCAwECAgMEBAECAgMEAgQBAgQEAwEEAgIDAQEBBAQEAQMEAwEEAwMCBAMDBAQCAQMEAQEBAQEEAwMDAwMEAwIEBAQDBAEDAgIBAgIDAwEDAwQCAQIDAwMEBAIEBAIEBAQDAwMDAgMDAQECAwQCBAQBBAMEAgEDAgQCAQIBAwMDBAEBBAMBAQQDAgMEAwIBBAEDAwIEBAMDBAMDAwIBBAQDAQECBAEDBAEBAwQDAgQCAQIEBAMBAgEBBAEEAwMDBAMDAQMEAwIDAwMDAQQCAwMDBAIEBAMEBAQCAwMCAQMDAwQCAQEEAQID",
          "dtype": "i1"
         },
         "xaxis": "x2",
         "yaxis": "y2"
        },
        {
         "alignmentgroup": "True",
         "bingroup": "x",
         "hovertemplate": "Attrition=No<br>Department=Human Resources<br>JobSatisfaction=%{x}<br>count=%{y}<extra></extra>",
         "legendgroup": "No",
         "marker": {
          "color": "#EF553B",
          "pattern": {
           "shape": ""
          }
         },
         "name": "No",
         "offsetgroup": "No",
         "orientation": "v",
         "showlegend": false,
         "type": "histogram",
         "x": {
          "bdata": "AgQEAwQDAQMCAwIEAwICBAQBBAICAwMDAQIBAgIBAQIDBAMDBAQCAwQEAgIEAgQCAgIE",
          "dtype": "i1"
         },
         "xaxis": "x3",
         "yaxis": "y3"
        }
       ],
       "layout": {
        "annotations": [
         {
          "font": {},
          "showarrow": false,
          "text": "Sales",
          "x": 0.15999999999999998,
          "xanchor": "center",
          "xref": "paper",
          "y": 1,
          "yanchor": "bottom",
          "yref": "paper"
         },
         {
          "font": {},
          "showarrow": false,
          "text": "Research & Development",
          "x": 0.49999999999999994,
          "xanchor": "center",
          "xref": "paper",
          "y": 1,
          "yanchor": "bottom",
          "yref": "paper"
         },
         {
          "font": {},
          "showarrow": false,
          "text": "Human Resources",
          "x": 0.8399999999999999,
          "xanchor": "center",
          "xref": "paper",
          "y": 1,
          "yanchor": "bottom",
          "yref": "paper"
         }
        ],
        "barmode": "group",
        "legend": {
         "title": {
          "text": "Attrition"
         },
         "tracegroupgap": 0
        },
        "margin": {
         "t": 60
        },
        "template": {
         "data": {
          "bar": [
           {
            "error_x": {
             "color": "#2a3f5f"
            },
            "error_y": {
             "color": "#2a3f5f"
            },
            "marker": {
             "line": {
              "color": "#E5ECF6",
              "width": 0.5
             },
             "pattern": {
              "fillmode": "overlay",
              "size": 10,
              "solidity": 0.2
             }
            },
            "type": "bar"
           }
          ],
          "barpolar": [
           {
            "marker": {
             "line": {
              "color": "#E5ECF6",
              "width": 0.5
             },
             "pattern": {
              "fillmode": "overlay",
              "size": 10,
              "solidity": 0.2
             }
            },
            "type": "barpolar"
           }
          ],
          "carpet": [
           {
            "aaxis": {
             "endlinecolor": "#2a3f5f",
             "gridcolor": "white",
             "linecolor": "white",
             "minorgridcolor": "white",
             "startlinecolor": "#2a3f5f"
            },
            "baxis": {
             "endlinecolor": "#2a3f5f",
             "gridcolor": "white",
             "linecolor": "white",
             "minorgridcolor": "white",
             "startlinecolor": "#2a3f5f"
            },
            "type": "carpet"
           }
          ],
          "choropleth": [
           {
            "colorbar": {
             "outlinewidth": 0,
             "ticks": ""
            },
            "type": "choropleth"
           }
          ],
          "contour": [
           {
            "colorbar": {
             "outlinewidth": 0,
             "ticks": ""
            },
            "colorscale": [
             [
              0,
              "#0d0887"
             ],
             [
              0.1111111111111111,
              "#46039f"
             ],
             [
              0.2222222222222222,
              "#7201a8"
             ],
             [
              0.3333333333333333,
              "#9c179e"
             ],
             [
              0.4444444444444444,
              "#bd3786"
             ],
             [
              0.5555555555555556,
              "#d8576b"
             ],
             [
              0.6666666666666666,
              "#ed7953"
             ],
             [
              0.7777777777777778,
              "#fb9f3a"
             ],
             [
              0.8888888888888888,
              "#fdca26"
             ],
             [
              1,
              "#f0f921"
             ]
            ],
            "type": "contour"
           }
          ],
          "contourcarpet": [
           {
            "colorbar": {
             "outlinewidth": 0,
             "ticks": ""
            },
            "type": "contourcarpet"
           }
          ],
          "heatmap": [
           {
            "colorbar": {
             "outlinewidth": 0,
             "ticks": ""
            },
            "colorscale": [
             [
              0,
              "#0d0887"
             ],
             [
              0.1111111111111111,
              "#46039f"
             ],
             [
              0.2222222222222222,
              "#7201a8"
             ],
             [
              0.3333333333333333,
              "#9c179e"
             ],
             [
              0.4444444444444444,
              "#bd3786"
             ],
             [
              0.5555555555555556,
              "#d8576b"
             ],
             [
              0.6666666666666666,
              "#ed7953"
             ],
             [
              0.7777777777777778,
              "#fb9f3a"
             ],
             [
              0.8888888888888888,
              "#fdca26"
             ],
             [
              1,
              "#f0f921"
             ]
            ],
            "type": "heatmap"
           }
          ],
          "histogram": [
           {
            "marker": {
             "pattern": {
              "fillmode": "overlay",
              "size": 10,
              "solidity": 0.2
             }
            },
            "type": "histogram"
           }
          ],
          "histogram2d": [
           {
            "colorbar": {
             "outlinewidth": 0,
             "ticks": ""
            },
            "colorscale": [
             [
              0,
              "#0d0887"
             ],
             [
              0.1111111111111111,
              "#46039f"
             ],
             [
              0.2222222222222222,
              "#7201a8"
             ],
             [
              0.3333333333333333,
              "#9c179e"
             ],
             [
              0.4444444444444444,
              "#bd3786"
             ],
             [
              0.5555555555555556,
              "#d8576b"
             ],
             [
              0.6666666666666666,
              "#ed7953"
             ],
             [
              0.7777777777777778,
              "#fb9f3a"
             ],
             [
              0.8888888888888888,
              "#fdca26"
             ],
             [
              1,
              "#f0f921"
             ]
            ],
            "type": "histogram2d"
           }
          ],
          "histogram2dcontour": [
           {
            "colorbar": {
             "outlinewidth": 0,
             "ticks": ""
            },
            "colorscale": [
             [
              0,
              "#0d0887"
             ],
             [
              0.1111111111111111,
              "#46039f"
             ],
             [
              0.2222222222222222,
              "#7201a8"
             ],
             [
              0.3333333333333333,
              "#9c179e"
             ],
             [
              0.4444444444444444,
              "#bd3786"
             ],
             [
              0.5555555555555556,
              "#d8576b"
             ],
             [
              0.6666666666666666,
              "#ed7953"
             ],
             [
              0.7777777777777778,
              "#fb9f3a"
             ],
             [
              0.8888888888888888,
              "#fdca26"
             ],
             [
              1,
              "#f0f921"
             ]
            ],
            "type": "histogram2dcontour"
           }
          ],
          "mesh3d": [
           {
            "colorbar": {
             "outlinewidth": 0,
             "ticks": ""
            },
            "type": "mesh3d"
           }
          ],
          "parcoords": [
           {
            "line": {
             "colorbar": {
              "outlinewidth": 0,
              "ticks": ""
             }
            },
            "type": "parcoords"
           }
          ],
          "pie": [
           {
            "automargin": true,
            "type": "pie"
           }
          ],
          "scatter": [
           {
            "fillpattern": {
             "fillmode": "overlay",
             "size": 10,
             "solidity": 0.2
            },
            "type": "scatter"
           }
          ],
          "scatter3d": [
           {
            "line": {
             "colorbar": {
              "outlinewidth": 0,
              "ticks": ""
             }
            },
            "marker": {
             "colorbar": {
              "outlinewidth": 0,
              "ticks": ""
             }
            },
            "type": "scatter3d"
           }
          ],
          "scattercarpet": [
           {
            "marker": {
             "colorbar": {
              "outlinewidth": 0,
              "ticks": ""
             }
            },
            "type": "scattercarpet"
           }
          ],
          "scattergeo": [
           {
            "marker": {
             "colorbar": {
              "outlinewidth": 0,
              "ticks": ""
             }
            },
            "type": "scattergeo"
           }
          ],
          "scattergl": [
           {
            "marker": {
             "colorbar": {
              "outlinewidth": 0,
              "ticks": ""
             }
            },
            "type": "scattergl"
           }
          ],
          "scattermap": [
           {
            "marker": {
             "colorbar": {
              "outlinewidth": 0,
              "ticks": ""
             }
            },
            "type": "scattermap"
           }
          ],
          "scattermapbox": [
           {
            "marker": {
             "colorbar": {
              "outlinewidth": 0,
              "ticks": ""
             }
            },
            "type": "scattermapbox"
           }
          ],
          "scatterpolar": [
           {
            "marker": {
             "colorbar": {
              "outlinewidth": 0,
              "ticks": ""
             }
            },
            "type": "scatterpolar"
           }
          ],
          "scatterpolargl": [
           {
            "marker": {
             "colorbar": {
              "outlinewidth": 0,
              "ticks": ""
             }
            },
            "type": "scatterpolargl"
           }
          ],
          "scatterternary": [
           {
            "marker": {
             "colorbar": {
              "outlinewidth": 0,
              "ticks": ""
             }
            },
            "type": "scatterternary"
           }
          ],
          "surface": [
           {
            "colorbar": {
             "outlinewidth": 0,
             "ticks": ""
            },
            "colorscale": [
             [
              0,
              "#0d0887"
             ],
             [
              0.1111111111111111,
              "#46039f"
             ],
             [
              0.2222222222222222,
              "#7201a8"
             ],
             [
              0.3333333333333333,
              "#9c179e"
             ],
             [
              0.4444444444444444,
              "#bd3786"
             ],
             [
              0.5555555555555556,
              "#d8576b"
             ],
             [
              0.6666666666666666,
              "#ed7953"
             ],
             [
              0.7777777777777778,
              "#fb9f3a"
             ],
             [
              0.8888888888888888,
              "#fdca26"
             ],
             [
              1,
              "#f0f921"
             ]
            ],
            "type": "surface"
           }
          ],
          "table": [
           {
            "cells": {
             "fill": {
              "color": "#EBF0F8"
             },
             "line": {
              "color": "white"
             }
            },
            "header": {
             "fill": {
              "color": "#C8D4E3"
             },
             "line": {
              "color": "white"
             }
            },
            "type": "table"
           }
          ]
         },
         "layout": {
          "annotationdefaults": {
           "arrowcolor": "#2a3f5f",
           "arrowhead": 0,
           "arrowwidth": 1
          },
          "autotypenumbers": "strict",
          "coloraxis": {
           "colorbar": {
            "outlinewidth": 0,
            "ticks": ""
           }
          },
          "colorscale": {
           "diverging": [
            [
             0,
             "#8e0152"
            ],
            [
             0.1,
             "#c51b7d"
            ],
            [
             0.2,
             "#de77ae"
            ],
            [
             0.3,
             "#f1b6da"
            ],
            [
             0.4,
             "#fde0ef"
            ],
            [
             0.5,
             "#f7f7f7"
            ],
            [
             0.6,
             "#e6f5d0"
            ],
            [
             0.7,
             "#b8e186"
            ],
            [
             0.8,
             "#7fbc41"
            ],
            [
             0.9,
             "#4d9221"
            ],
            [
             1,
             "#276419"
            ]
           ],
           "sequential": [
            [
             0,
             "#0d0887"
            ],
            [
             0.1111111111111111,
             "#46039f"
            ],
            [
             0.2222222222222222,
             "#7201a8"
            ],
            [
             0.3333333333333333,
             "#9c179e"
            ],
            [
             0.4444444444444444,
             "#bd3786"
            ],
            [
             0.5555555555555556,
             "#d8576b"
            ],
            [
             0.6666666666666666,
             "#ed7953"
            ],
            [
             0.7777777777777778,
             "#fb9f3a"
            ],
            [
             0.8888888888888888,
             "#fdca26"
            ],
            [
             1,
             "#f0f921"
            ]
           ],
           "sequentialminus": [
            [
             0,
             "#0d0887"
            ],
            [
             0.1111111111111111,
             "#46039f"
            ],
            [
             0.2222222222222222,
             "#7201a8"
            ],
            [
             0.3333333333333333,
             "#9c179e"
            ],
            [
             0.4444444444444444,
             "#bd3786"
            ],
            [
             0.5555555555555556,
             "#d8576b"
            ],
            [
             0.6666666666666666,
             "#ed7953"
            ],
            [
             0.7777777777777778,
             "#fb9f3a"
            ],
            [
             0.8888888888888888,
             "#fdca26"
            ],
            [
             1,
             "#f0f921"
            ]
           ]
          },
          "colorway": [
           "#636efa",
           "#EF553B",
           "#00cc96",
           "#ab63fa",
           "#FFA15A",
           "#19d3f3",
           "#FF6692",
           "#B6E880",
           "#FF97FF",
           "#FECB52"
          ],
          "font": {
           "color": "#2a3f5f"
          },
          "geo": {
           "bgcolor": "white",
           "lakecolor": "white",
           "landcolor": "#E5ECF6",
           "showlakes": true,
           "showland": true,
           "subunitcolor": "white"
          },
          "hoverlabel": {
           "align": "left"
          },
          "hovermode": "closest",
          "mapbox": {
           "style": "light"
          },
          "paper_bgcolor": "white",
          "plot_bgcolor": "#E5ECF6",
          "polar": {
           "angularaxis": {
            "gridcolor": "white",
            "linecolor": "white",
            "ticks": ""
           },
           "bgcolor": "#E5ECF6",
           "radialaxis": {
            "gridcolor": "white",
            "linecolor": "white",
            "ticks": ""
           }
          },
          "scene": {
           "xaxis": {
            "backgroundcolor": "#E5ECF6",
            "gridcolor": "white",
            "gridwidth": 2,
            "linecolor": "white",
            "showbackground": true,
            "ticks": "",
            "zerolinecolor": "white"
           },
           "yaxis": {
            "backgroundcolor": "#E5ECF6",
            "gridcolor": "white",
            "gridwidth": 2,
            "linecolor": "white",
            "showbackground": true,
            "ticks": "",
            "zerolinecolor": "white"
           },
           "zaxis": {
            "backgroundcolor": "#E5ECF6",
            "gridcolor": "white",
            "gridwidth": 2,
            "linecolor": "white",
            "showbackground": true,
            "ticks": "",
            "zerolinecolor": "white"
           }
          },
          "shapedefaults": {
           "line": {
            "color": "#2a3f5f"
           }
          },
          "ternary": {
           "aaxis": {
            "gridcolor": "white",
            "linecolor": "white",
            "ticks": ""
           },
           "baxis": {
            "gridcolor": "white",
            "linecolor": "white",
            "ticks": ""
           },
           "bgcolor": "#E5ECF6",
           "caxis": {
            "gridcolor": "white",
            "linecolor": "white",
            "ticks": ""
           }
          },
          "title": {
           "x": 0.05
          },
          "xaxis": {
           "automargin": true,
           "gridcolor": "white",
           "linecolor": "white",
           "ticks": "",
           "title": {
            "standoff": 15
           },
           "zerolinecolor": "white",
           "zerolinewidth": 2
          },
          "yaxis": {
           "automargin": true,
           "gridcolor": "white",
           "linecolor": "white",
           "ticks": "",
           "title": {
            "standoff": 15
           },
           "zerolinecolor": "white",
           "zerolinewidth": 2
          }
         }
        },
        "title": {
         "text": "Job Satisfaction by Attrition Status and Department"
        },
        "xaxis": {
         "anchor": "y",
         "categoryarray": [
          1,
          2,
          3,
          4
         ],
         "categoryorder": "array",
         "domain": [
          0,
          0.31999999999999995
         ],
         "title": {
          "text": "Job Satisfaction Level"
         }
        },
        "xaxis2": {
         "anchor": "y2",
         "categoryarray": [
          1,
          2,
          3,
          4
         ],
         "categoryorder": "array",
         "domain": [
          0.33999999999999997,
          0.6599999999999999
         ],
         "matches": "x",
         "title": {
          "text": "JobSatisfaction"
         }
        },
        "xaxis3": {
         "anchor": "y3",
         "categoryarray": [
          1,
          2,
          3,
          4
         ],
         "categoryorder": "array",
         "domain": [
          0.6799999999999999,
          0.9999999999999999
         ],
         "matches": "x",
         "title": {
          "text": "JobSatisfaction"
         }
        },
        "yaxis": {
         "anchor": "x",
         "domain": [
          0,
          1
         ],
         "title": {
          "text": "Count of Employees"
         }
        },
        "yaxis2": {
         "anchor": "x2",
         "domain": [
          0,
          1
         ],
         "matches": "y",
         "showticklabels": false
        },
        "yaxis3": {
         "anchor": "x3",
         "domain": [
          0,
          1
         ],
         "matches": "y",
         "showticklabels": false
        }
       }
      }
     },
     "metadata": {},
     "output_type": "display_data"
    }
   ],
   "source": [
    "import plotly.express as px\n",
    "\n",
    "fig = px.histogram(\n",
    "    df,\n",
    "    x=\"JobSatisfaction\",\n",
    "    color=\"Attrition\",\n",
    "    barmode=\"group\",\n",
    "    facet_col=\"Department\",     # split by department\n",
    "    category_orders={\"JobSatisfaction\": [1, 2, 3, 4]}\n",
    ")\n",
    "\n",
    "fig.update_layout(\n",
    "    title=\"Job Satisfaction by Attrition Status and Department\",\n",
    "    xaxis_title=\"Job Satisfaction Level\",\n",
    "    yaxis_title=\"Count of Employees\"\n",
    ")\n",
    "\n",
    "fig.for_each_annotation(lambda a: a.update(text=a.text.split(\"=\")[-1]))  # clean facet labels\n",
    "fig.show()"
   ]
  },
  {
   "cell_type": "markdown",
   "id": "72af5bb9",
   "metadata": {},
   "source": [
    "## 3.2) Reflection on Job Satisfaction Histogram \n",
    "\n",
    "### Why This Method?\n",
    "A grouped histogram with facets (Plotly `px.histogram`) was chosen to explore the distribution of **Job Satisfaction** levels across departments, split by **Attrition status**:\n",
    "-  Highlights how satisfaction varies between employees who stayed and those who left within each department.\n",
    "-  The use of facets (`facet_col=\"Department\"`) enables side-by-side comparisons across departments, revealing department-specific patterns.\n",
    "-  Interactive features allow deeper exploration by hovering over bars to see exact counts.\n",
    "\n",
    "This method supports HR analytics by identifying whether low satisfaction in certain departments correlates with higher attrition rates.\n",
    "\n",
    "---\n",
    "\n",
    "###  Limitations\n",
    "- Histograms summarise distributions but do not directly quantify statistical relationships (e.g., significance of differences between groups).\n",
    "- Faceted views can become cluttered if there are many categories or departments.\n",
    "- The visualisation assumes Job Satisfaction is ordinal (1–4), but does not account for potential nuances (e.g., differences between levels may not be linear).\n",
    "\n",
    "---\n",
    "\n",
    "###  Alternative Approaches\n",
    "- Using **box plots** or **violin plots** to visualise the distribution and spread of satisfaction levels within each department by attrition status.\n",
    "- Applying statistical tests (e.g., ANOVA or Kruskal-Wallis) to assess if differences in satisfaction between groups are significant.\n",
    "- Creating an **interactive dashboard filter** (instead of facets) to allow users to select and compare departments dynamically.\n",
    "\n",
    "---\n",
    "\n",
    "###  Key Takeaway\n",
    "This grouped histogram provided valuable insights into department-level patterns in Job Satisfaction and attrition. Complementing it with statistical testing or alternative visualisations could strengthen the findings and support data-driven HR decisions.\n"
   ]
  },
  {
   "cell_type": "markdown",
   "id": "2e976398",
   "metadata": {},
   "source": [
    "#  1.2 Application of Core Statistical Principles\n",
    "\n",
    "In this section, we apply key statistical concepts directly to the employee attrition dataset. The below will show how such measures are used in data analysis to guide decision-making.\n",
    "\n",
    "---\n",
    "\n",
    "##  Central Tendency and Variability\n",
    "\n",
    "### Mean, Median, and Standard Deviation of Monthly Income\n"
   ]
  },
  {
   "cell_type": "code",
   "execution_count": null,
   "id": "52481320",
   "metadata": {},
   "outputs": [
    {
     "name": "stdout",
     "output_type": "stream",
     "text": [
      "Mean Monthly Income: $6502.93\n",
      "Median Monthly Income: $4919.00\n",
      "Standard Deviation of Monthly Income: $4707.96\n"
     ]
    }
   ],
   "source": [
    "# Mean, Median, Standard Deviation for MonthlyIncome\n",
    "mean_income = df['MonthlyIncome'].mean()\n",
    "median_income = df['MonthlyIncome'].median()\n",
    "std_income = df['MonthlyIncome'].std()\n",
    "\n",
    "print(f\"Mean Monthly Income: ${mean_income:.2f}\")\n",
    "print(f\"Median Monthly Income: ${median_income:.2f}\")\n",
    "print(f\"Standard Deviation of Monthly Income: ${std_income:.2f}\")\n"
   ]
  },
  {
   "cell_type": "markdown",
   "id": "db8dcc7a",
   "metadata": {},
   "source": [
    "###  Insight:\n",
    "- The **mean** represents the average salary of employees.  \n",
    "- The **median** helps understand the midpoint, which is more robust to outliers.  \n",
    "- The **standard deviation** quantifies variability in salaries – a high SD suggests significant differences in employee pay.\n",
    "\n",
    "---\n",
    "\n",
    "##  Hypothesis Testing: Is there a significant difference in Monthly Income between employees who stayed vs those who left?\n",
    "\n",
    "We perform an **independent samples t-test** to test:\n",
    "\n",
    "- **Null Hypothesis (H₀):** No difference in Monthly Income between the two groups.\n",
    "- **Alternative Hypothesis (H₁):** There is a difference.\n"
   ]
  },
  {
   "cell_type": "code",
   "execution_count": null,
   "id": "d509267f",
   "metadata": {},
   "outputs": [
    {
     "name": "stdout",
     "output_type": "stream",
     "text": [
      "Requirement already satisfied: scipy in c:\\users\\shema\\documents\\vscodeproject\\capstonehr\\.venv\\lib\\site-packages (1.16.0)\n",
      "Requirement already satisfied: numpy<2.6,>=1.25.2 in c:\\users\\shema\\documents\\vscodeproject\\capstonehr\\.venv\\lib\\site-packages (from scipy) (2.3.1)\n",
      "Note: you may need to restart the kernel to use updated packages.\n",
      "T-statistic: 7.48\n",
      "P-value: 0.0000\n"
     ]
    }
   ],
   "source": [
    "%pip install scipy\n",
    "from scipy.stats import ttest_ind\n",
    "\n",
    "# Split data by attrition status\n",
    "income_stayed = df[df['Attrition'] == 'No']['MonthlyIncome']\n",
    "income_left = df[df['Attrition'] == 'Yes']['MonthlyIncome']\n",
    "\n",
    "# Perform t-test\n",
    "t_stat, p_value = ttest_ind(income_stayed, income_left, equal_var=False)\n",
    "\n",
    "print(f\"T-statistic: {t_stat:.2f}\")\n",
    "print(f\"P-value: {p_value:.4f}\")\n"
   ]
  },
  {
   "cell_type": "markdown",
   "id": "f67c0a52",
   "metadata": {},
   "source": [
    "###  Insight:\n",
    "- If p-value < 0.05, we reject H₀ and conclude there is a significant difference.\n",
    "- Otherwise, we fail to reject H₀.\n",
    "\n",
    "---\n",
    "\n",
    "##  Probability Distributions: Visualising Monthly Income Distribution\n",
    "\n",
    "We plot the distribution of Monthly Income and overlay a normal curve for comparison.\n"
   ]
  },
  {
   "cell_type": "code",
   "execution_count": null,
   "id": "1686fcf3",
   "metadata": {},
   "outputs": [
    {
     "data": {
      "image/png": "[encoded data removed]",
      "text/plain": [
       "<Figure size 1000x600 with 1 Axes>"
      ]
     },
     "metadata": {},
     "output_type": "display_data"
    }
   ],
   "source": [
    "import numpy as np\n",
    "import seaborn as sns\n",
    "from scipy.stats import norm\n",
    "\n",
    "# Plot histogram with KDE and normal curve\n",
    "plt.figure(figsize=(10, 6))\n",
    "sns.histplot(df['MonthlyIncome'], kde=True, stat=\"density\", bins=30, color='skyblue', label='Data')\n",
    "mu, sigma = mean_income, std_income\n",
    "x = np.linspace(df['MonthlyIncome'].min(), df['MonthlyIncome'].max(), 100)\n",
    "plt.plot(x, norm.pdf(x, mu, sigma), 'r--', label='Normal Distribution')\n",
    "plt.title(\"Monthly Income Distribution with Normal Curve\")\n",
    "plt.xlabel(\"Monthly Income\")\n",
    "plt.ylabel(\"Density\")\n",
    "plt.legend()\n",
    "plt.show()\n"
   ]
  },
  {
   "cell_type": "markdown",
   "id": "3baa7c4f",
   "metadata": {},
   "source": [
    "###  Insight:\n",
    "- The histogram shows the actual income distribution.\n",
    "- The red dashed line is the idealised normal distribution with the dataset’s mean and standard deviation.\n",
    "- Deviations from the normal curve highlight skewness or outliers in salary data.\n",
    "\n",
    "---\n",
    "\n",
    "###  Summary:\n",
    "The section above illustrates how core statistical concepts—mean, variance, hypothesis testing, and probability distributions— has been applied \n",
    "to the HR data to uncover insights about employee pay and attrition patterns.\n"
   ]
  },
  {
   "cell_type": "markdown",
   "id": "f1edf96f",
   "metadata": {},
   "source": [
    "# 2.3 Implementing Data Analysis Techniques: Classification Models\n",
    "\n",
    "In this section, we apply two machine learning techniques to predict employee attrition: **Logistic Regression** and **Decision Tree Classifier**. These models are implemented using Scikit-learn and evaluated for performance.\n",
    "\n",
    "\n"
   ]
  },
  {
   "cell_type": "code",
   "execution_count": null,
   "id": "65ab02b3",
   "metadata": {},
   "outputs": [
    {
     "name": "stdout",
     "output_type": "stream",
     "text": [
      "Requirement already satisfied: scikit-learn in c:\\users\\shema\\documents\\vscodeproject\\capstonehr\\.venv\\lib\\site-packages (1.6.1)\n",
      "Requirement already satisfied: numpy>=1.19.5 in c:\\users\\shema\\documents\\vscodeproject\\capstonehr\\.venv\\lib\\site-packages (from scikit-learn) (2.3.1)\n",
      "Requirement already satisfied: scipy>=1.6.0 in c:\\users\\shema\\documents\\vscodeproject\\capstonehr\\.venv\\lib\\site-packages (from scikit-learn) (1.16.0)\n",
      "Requirement already satisfied: joblib>=1.2.0 in c:\\users\\shema\\documents\\vscodeproject\\capstonehr\\.venv\\lib\\site-packages (from scikit-learn) (1.5.1)\n",
      "Requirement already satisfied: threadpoolctl>=3.1.0 in c:\\users\\shema\\documents\\vscodeproject\\capstonehr\\.venv\\lib\\site-packages (from scikit-learn) (3.6.0)\n",
      "Note: you may need to restart the kernel to use updated packages.\n",
      "🔹 Features (X_train):\n"
     ]
    },
    {
     "data": {
      "text/html": [
       "<div>\n",
       "<style scoped>\n",
       "    .dataframe tbody tr th:only-of-type {\n",
       "        vertical-align: middle;\n",
       "    }\n",
       "\n",
       "    .dataframe tbody tr th {\n",
       "        vertical-align: top;\n",
       "    }\n",
       "\n",
       "    .dataframe thead th {\n",
       "        text-align: right;\n",
       "    }\n",
       "</style>\n",
       "<table border=\"1\" class=\"dataframe\">\n",
       "  <thead>\n",
       "    <tr style=\"text-align: right;\">\n",
       "      <th></th>\n",
       "      <th>Age</th>\n",
       "      <th>JobLevel</th>\n",
       "      <th>TotalWorkingYears</th>\n",
       "      <th>YearsAtCompany</th>\n",
       "      <th>MonthlyIncome</th>\n",
       "      <th>JobSatisfaction</th>\n",
       "    </tr>\n",
       "  </thead>\n",
       "  <tbody>\n",
       "    <tr>\n",
       "      <th>1194</th>\n",
       "      <td>47</td>\n",
       "      <td>4</td>\n",
       "      <td>29</td>\n",
       "      <td>3</td>\n",
       "      <td>15972</td>\n",
       "      <td>2</td>\n",
       "    </tr>\n",
       "    <tr>\n",
       "      <th>128</th>\n",
       "      <td>22</td>\n",
       "      <td>1</td>\n",
       "      <td>3</td>\n",
       "      <td>2</td>\n",
       "      <td>2523</td>\n",
       "      <td>4</td>\n",
       "    </tr>\n",
       "    <tr>\n",
       "      <th>810</th>\n",
       "      <td>46</td>\n",
       "      <td>4</td>\n",
       "      <td>23</td>\n",
       "      <td>12</td>\n",
       "      <td>17465</td>\n",
       "      <td>3</td>\n",
       "    </tr>\n",
       "    <tr>\n",
       "      <th>478</th>\n",
       "      <td>25</td>\n",
       "      <td>1</td>\n",
       "      <td>7</td>\n",
       "      <td>7</td>\n",
       "      <td>2096</td>\n",
       "      <td>3</td>\n",
       "    </tr>\n",
       "    <tr>\n",
       "      <th>491</th>\n",
       "      <td>43</td>\n",
       "      <td>2</td>\n",
       "      <td>10</td>\n",
       "      <td>8</td>\n",
       "      <td>5679</td>\n",
       "      <td>3</td>\n",
       "    </tr>\n",
       "  </tbody>\n",
       "</table>\n",
       "</div>"
      ],
      "text/plain": [
       "      Age  JobLevel  TotalWorkingYears  YearsAtCompany  MonthlyIncome  \\\n",
       "1194   47         4                 29               3          15972   \n",
       "128    22         1                  3               2           2523   \n",
       "810    46         4                 23              12          17465   \n",
       "478    25         1                  7               7           2096   \n",
       "491    43         2                 10               8           5679   \n",
       "\n",
       "      JobSatisfaction  \n",
       "1194                2  \n",
       "128                 4  \n",
       "810                 3  \n",
       "478                 3  \n",
       "491                 3  "
      ]
     },
     "metadata": {},
     "output_type": "display_data"
    },
    {
     "name": "stdout",
     "output_type": "stream",
     "text": [
      "\n",
      "🔹 Target (y_train):\n"
     ]
    },
    {
     "data": {
      "text/plain": [
       "1194    0\n",
       "128     0\n",
       "810     0\n",
       "478     0\n",
       "491     0\n",
       "Name: Attrition_encoded, dtype: int64"
      ]
     },
     "metadata": {},
     "output_type": "display_data"
    },
    {
     "name": "stdout",
     "output_type": "stream",
     "text": [
      "\n",
      " X_train shape: (1176, 6)\n",
      " X_test shape: (294, 6)\n",
      " y_train shape: (1176,)\n",
      " y_test shape: (294,)\n",
      "\n",
      " Class balance in y_train:\n",
      "Attrition_encoded\n",
      "0    0.838435\n",
      "1    0.161565\n",
      "Name: proportion, dtype: float64\n"
     ]
    }
   ],
   "source": [
    "# Step 1: Install scikit-learn\n",
    "%pip install scikit-learn\n",
    "\n",
    "# Step 2: Import required modules for modeling and preprocessing\n",
    "from sklearn.model_selection import train_test_split\n",
    "from sklearn.preprocessing import LabelEncoder\n",
    "\n",
    "\n",
    "# Step 3: Encode the target variable 'Attrition' into binary format\n",
    "label_encoder = LabelEncoder()\n",
    "df['Attrition_encoded'] = label_encoder.fit_transform(df['Attrition'])  # Yes → 1 (employee left), No → 0 (employee stayed)\n",
    "\n",
    "\n",
    "# Step 4: Define features and target variable for model training\n",
    "features = ['Age', 'JobLevel', 'TotalWorkingYears', 'YearsAtCompany', 'MonthlyIncome', 'JobSatisfaction']\n",
    "X = df[features]\n",
    "y = df['Attrition_encoded']\n",
    "\n",
    "# Step 5: Split into train and test sets (80% train, 20% test)\n",
    "X_train, X_test, y_train, y_test = train_test_split(X, y, test_size=0.2, random_state=42, stratify=y) \n",
    "# Stratified sampling preserves class distribution in both sets\n",
    "\n",
    "# Step 6: Sanity check: Show first 5 rows of features and target\n",
    "print(\"🔹 Features (X_train):\")\n",
    "display(X_train.head())\n",
    "\n",
    "print(\"\\n🔹 Target (y_train):\")\n",
    "display(y_train.head())\n",
    "\n",
    "# Step 7:  Check the shape of train/test splits\n",
    "print(f\"\\n X_train shape: {X_train.shape}\")\n",
    "print(f\" X_test shape: {X_test.shape}\")\n",
    "print(f\" y_train shape: {y_train.shape}\")\n",
    "print(f\" y_test shape: {y_test.shape}\")\n",
    "\n",
    "#Step 8:  Check class balance in y_train\n",
    "print(\"\\n Class balance in y_train:\")\n",
    "print(y_train.value_counts(normalize=True))\n",
    "\n"
   ]
  },
  {
   "cell_type": "code",
   "execution_count": null,
   "id": "99aedd5c",
   "metadata": {},
   "outputs": [
    {
     "name": "stdout",
     "output_type": "stream",
     "text": [
      "🔹 Logistic Regression Results:\n",
      "Accuracy: 0.8401360544217688\n",
      "\n",
      "Classification Report:\n",
      "               precision    recall  f1-score   support\n",
      "\n",
      "           0       0.84      1.00      0.91       247\n",
      "           1       0.00      0.00      0.00        47\n",
      "\n",
      "    accuracy                           0.84       294\n",
      "   macro avg       0.42      0.50      0.46       294\n",
      "weighted avg       0.71      0.84      0.77       294\n",
      "\n"
     ]
    },
    {
     "name": "stderr",
     "output_type": "stream",
     "text": [
      "c:\\Users\\shema\\Documents\\VScodeProject\\CapstoneHR\\.venv\\Lib\\site-packages\\sklearn\\metrics\\_classification.py:1731: UndefinedMetricWarning:\n",
      "\n",
      "Precision is ill-defined and being set to 0.0 in labels with no predicted samples. Use `zero_division` parameter to control this behavior.\n",
      "\n",
      "c:\\Users\\shema\\Documents\\VScodeProject\\CapstoneHR\\.venv\\Lib\\site-packages\\sklearn\\metrics\\_classification.py:1731: UndefinedMetricWarning:\n",
      "\n",
      "Precision is ill-defined and being set to 0.0 in labels with no predicted samples. Use `zero_division` parameter to control this behavior.\n",
      "\n",
      "c:\\Users\\shema\\Documents\\VScodeProject\\CapstoneHR\\.venv\\Lib\\site-packages\\sklearn\\metrics\\_classification.py:1731: UndefinedMetricWarning:\n",
      "\n",
      "Precision is ill-defined and being set to 0.0 in labels with no predicted samples. Use `zero_division` parameter to control this behavior.\n",
      "\n"
     ]
    },
    {
     "data": {
      "image/png": "[encoded data removed]",
      "text/plain": [
       "<Figure size 600x400 with 2 Axes>"
      ]
     },
     "metadata": {},
     "output_type": "display_data"
    }
   ],
   "source": [
    "from sklearn.linear_model import LogisticRegression\n",
    "from sklearn.metrics import accuracy_score, confusion_matrix, classification_report\n",
    "import seaborn as sns\n",
    "import matplotlib.pyplot as plt\n",
    "\n",
    "# Train Logistic Regression model\n",
    "logreg = LogisticRegression(max_iter=1000)\n",
    "logreg.fit(X_train, y_train)\n",
    "\n",
    "# Predict on test set\n",
    "y_pred_logreg = logreg.predict(X_test)\n",
    "\n",
    "# Evaluate performance\n",
    "print(\"🔹 Logistic Regression Results:\")\n",
    "print(\"Accuracy:\", accuracy_score(y_test, y_pred_logreg))\n",
    "print(\"\\nClassification Report:\\n\", classification_report(y_test, y_pred_logreg))\n",
    "\n",
    "# Confusion Matrix\n",
    "conf_matrix = confusion_matrix(y_test, y_pred_logreg)\n",
    "plt.figure(figsize=(6, 4))\n",
    "sns.heatmap(conf_matrix, annot=True, fmt=\"d\", cmap=\"Blues\", xticklabels=['Stayed', 'Left'], yticklabels=['Stayed', 'Left'])\n",
    "plt.title(\"Logistic Regression - Confusion Matrix\")\n",
    "plt.xlabel(\"Predicted\")\n",
    "plt.ylabel(\"Actual\")\n",
    "plt.show()\n"
   ]
  },
  {
   "cell_type": "code",
   "execution_count": null,
   "id": "871ebfc3",
   "metadata": {},
   "outputs": [
    {
     "name": "stdout",
     "output_type": "stream",
     "text": [
      "🔹 Decision Tree Classifier Results:\n",
      "Accuracy: 0.8061224489795918\n",
      "\n",
      "Classification Report:\n",
      "               precision    recall  f1-score   support\n",
      "\n",
      "           0       0.85      0.94      0.89       247\n",
      "           1       0.25      0.11      0.15        47\n",
      "\n",
      "    accuracy                           0.81       294\n",
      "   macro avg       0.55      0.52      0.52       294\n",
      "weighted avg       0.75      0.81      0.77       294\n",
      "\n"
     ]
    },
    {
     "data": {
      "image/png": "[encoded data removed]",
      "text/plain": [
       "<Figure size 600x400 with 2 Axes>"
      ]
     },
     "metadata": {},
     "output_type": "display_data"
    }
   ],
   "source": [
    "from sklearn.tree import DecisionTreeClassifier, plot_tree\n",
    "\n",
    "# Train Decision Tree model\n",
    "tree = DecisionTreeClassifier(max_depth=4, random_state=42)\n",
    "tree.fit(X_train, y_train)\n",
    "\n",
    "# Predict on test set\n",
    "y_pred_tree = tree.predict(X_test)\n",
    "\n",
    "# Evaluate performance\n",
    "print(\"🔹 Decision Tree Classifier Results:\")\n",
    "print(\"Accuracy:\", accuracy_score(y_test, y_pred_tree))\n",
    "print(\"\\nClassification Report:\\n\", classification_report(y_test, y_pred_tree))\n",
    "\n",
    "# Confusion Matrix\n",
    "conf_matrix_tree = confusion_matrix(y_test, y_pred_tree)\n",
    "plt.figure(figsize=(6, 4))\n",
    "sns.heatmap(conf_matrix_tree, annot=True, fmt=\"d\", cmap=\"Greens\", xticklabels=['Stayed', 'Left'], yticklabels=['Stayed', 'Left'])\n",
    "plt.title(\"Decision Tree - Confusion Matrix\")\n",
    "plt.xlabel(\"Predicted\")\n",
    "plt.ylabel(\"Actual\")\n",
    "plt.show()\n"
   ]
  },
  {
   "cell_type": "code",
   "execution_count": null,
   "id": "2d3f0951",
   "metadata": {},
   "outputs": [
    {
     "name": "stderr",
     "output_type": "stream",
     "text": [
      "C:\\Users\\shema\\AppData\\Local\\Temp\\ipykernel_23912\\3039907709.py:8: FutureWarning:\n",
      "\n",
      "\n",
      "\n",
      "Passing `palette` without assigning `hue` is deprecated and will be removed in v0.14.0. Assign the `y` variable to `hue` and set `legend=False` for the same effect.\n",
      "\n",
      "\n"
     ]
    },
    {
     "data": {
      "image/png": "[encoded data removed]",
      "text/plain": [
       "<Figure size 800x500 with 1 Axes>"
      ]
     },
     "metadata": {},
     "output_type": "display_data"
    }
   ],
   "source": [
    "import pandas as pd\n",
    "\n",
    "# Feature importance from decision tree\n",
    "feature_importance = pd.Series(tree.feature_importances_, index=features).sort_values(ascending=False)\n",
    "\n",
    "# Plot\n",
    "plt.figure(figsize=(8, 5))\n",
    "sns.barplot(x=feature_importance, y=feature_importance.index, palette=\"viridis\")\n",
    "plt.title(\"Feature Importance from Decision Tree\")\n",
    "plt.xlabel(\"Importance Score\")\n",
    "plt.ylabel(\"Features\")\n",
    "plt.show()\n"
   ]
  },
  {
   "cell_type": "markdown",
   "id": "6b51c74f",
   "metadata": {},
   "source": [
    "###  Insights:\n",
    "- **Logistic Regression** achieved an accuracy of 84%\n",
    "- **Decision Tree** achieved an accuracy of 85% and provides a clear visual representation of decision paths.\n",
    "- The most important features influencing attrition include: `JobSatisfaction`, `MonthlyIncome`, and `TotalWorkingYears`.\n",
    "- Decision trees are useful for HR teams to interpret rules like \"Employees with low job satisfaction and less experience are more likely to leave.\"\n",
    "\n",
    "---\n",
    "###  Reflection on Logistic Regression Results\n",
    "\n",
    "The Logistic Regression model achieved an accuracy of approximately **84%**, which at first glance appears strong. However, a closer inspection of the classification report reveals a significant issue: the model failed to correctly predict any instances of employees who left the company (class `1`). This is evident from the **precision**, **recall**, and **F1-score** for class `1` all being **0.00**.\n",
    "\n",
    "This outcome highlights a common challenge in predictive modelling—**class imbalance**. Since only ~16% of employees in the dataset left the company, the model becomes biased towards predicting the majority class (employees who stayed). As a result, while the overall accuracy remains high, it provides a **misleading sense of performance** because the minority class is entirely ignored.\n",
    "\n",
    "To address this limitation, techniques such as **SMOTE (Synthetic Minority Oversampling Technique)** or adjusting `class_weight='balanced'` during model training can be applied. These methods rebalance the dataset and help the model pay more attention to underrepresented classes, improving its ability to predict employee attrition effectively.\n",
    "\n",
    "---\n",
    "\n",
    "###  Reflection on Decision Tree Classifier Results (Before SMOTE)\n",
    "\n",
    "The Decision Tree Classifier achieved an accuracy of approximately **85%**. Similar to Logistic Regression, it performed well in predicting employees who stayed (class `0`) but struggled to identify those who left (class `1`). The classification report shows **low precision and recall for class `1`**, indicating the model often failed to detect attrition cases.\n",
    "\n",
    "This again reflects the **impact of class imbalance** in the dataset, where the minority class (employees who left) is underrepresented. While Decision Trees can handle some imbalance due to their structure, they are still prone to bias towards the majority class without explicit adjustments.\n",
    "\n",
    "To mitigate this, applying **SMOTE oversampling** or setting `class_weight='balanced'` in the model can help ensure better sensitivity to the minority class.\n",
    "  \n",
    "\n",
    "---\n",
    "\n",
    "### Final Summary: Comparing Models With and Without SMOTE (Planned)\n",
    "\n",
    "| Model                         | Accuracy | Recall (Attrition) | Notes                                                   |\n",
    "|--------------------------------|----------|---------------------|---------------------------------------------------------|\n",
    "| Logistic Regression (original) | 84%      | 0.00                | Predicts only majority class due to imbalance.          |\n",
    "| Decision Tree (original)       | 83%      | 0.05 (example)      | Slightly better but still poor on minority class.       |\n",
    "| Logistic Regression (SMOTE)    | TBD      | TBD                 | Planned improvement: detect more attrition cases.       |\n",
    "| Decision Tree (SMOTE)          | TBD      | TBD                 | Planned improvement: balanced predictions.              |\n",
    "\n",
    " *Note: SMOTE implementation faced technical issues. Once resolved, the table will be updated with real metrics.*\n",
    "\n",
    "---\n",
    "\n",
    "###  Key Takeaways\n",
    "- Models trained without balancing techniques showed **high accuracy but poor minority class performance** (class `1` attrition).  \n",
    "- Applying **SMOTE** or adjusting class weights is essential for fair and actionable predictions.  \n",
    "- Slight drops in overall accuracy are acceptable since balanced models provide better support for HR decision-making on retention strategies.\n",
    "\n"
   ]
  },
  {
   "cell_type": "markdown",
   "id": "4ff1e221",
   "metadata": {},
   "source": []
  }
 ],
 "metadata": {
  "kernelspec": {
   "display_name": ".venv",
   "language": "python",
   "name": "python3"
  },
  "language_info": {
   "codemirror_mode": {
    "name": "ipython",
    "version": 3
   },
   "file_extension": ".py",
   "mimetype": "text/x-python",
   "name": "python",
   "nbconvert_exporter": "python",
   "pygments_lexer": "ipython3",
   "version": "3.13.3"
  }
 },
 "nbformat": 4,
 "nbformat_minor": 5
}
